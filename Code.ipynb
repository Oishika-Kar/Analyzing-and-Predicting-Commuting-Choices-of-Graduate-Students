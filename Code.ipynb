{
 "cells": [
  {
   "cell_type": "markdown",
   "id": "1a2e9c4e",
   "metadata": {},
   "source": [
    "### Project Title: Analyzing and Predicting Commuting Choices of Graduate Students"
   ]
  },
  {
   "cell_type": "markdown",
   "id": "f3ca0f4c",
   "metadata": {},
   "source": [
    "**Objective**:\n",
    "\n",
    "We are analyzing the commuting preferences of graduate students during the winter season when only driving or taking the bus are feasible options due to severe weather conditions. This study will assist the university in optimizing parking and bus transportation needs during the winter months.\n",
    "\n",
    "Additionally, we are investigating the commuting choices of graduate students in the spring, when biking and walking become viable alternatives. This research will support the university in planning for car parking, bike rack availability, and bus transportation during the spring season. Moreover, the university is considering adjustments to bus routes and aims to understand how these changes may influence students' commuting decisions."
   ]
  },
  {
   "cell_type": "markdown",
   "id": "ea651500",
   "metadata": {},
   "source": [
    "**Data:**\n",
    "\n",
    "The analysis utilizes two datasets, both derived from simulated data on the commuting choices of 1,000 graduate students who commute to campus from distances greater than one mile. These datasets can be found [here](https://github.com/Oishika-Kar/Analyzing-and-Predicting-Commuting-Choices-of-Graduate-Students/blob/3652e98d42cb97087f1ec622f69a43ee31ff9546/commute_datasets.zip.zip). Detailed descriptions of the variables in each dataset are available in the \"commute_descriptions.txt\" file.\n",
    "\n",
    "1. **commute_binary.csv**: This dataset contains information on students' commuting choices during the winter season, when only two options are feasible due to severe weather conditions: driving a car or taking a bus. This dataset will help the university plan for parking and bus transportation needs during the winter months.\n",
    "\n",
    "2. **commute_multinomial.csv**: This dataset includes data on commuting choices during the spring season, when weather conditions allow for additional options. Students can choose from four commuting modes: driving a car, taking a bus, biking, or walking. This dataset will aid the university in planning for car parking, bike rack availability, and bus transportation during the spring. Additionally, the university is considering adjustments to bus routes and seeks to understand how these changes might influence students' commuting decisions."
   ]
  },
  {
   "cell_type": "code",
   "execution_count": 1,
   "id": "47613360",
   "metadata": {},
   "outputs": [
    {
     "name": "stdout",
     "output_type": "stream",
     "text": [
      "Requirement already satisfied: xlogit in c:\\users\\nishc\\anaconda3\\lib\\site-packages (0.2.7)\n",
      "Requirement already satisfied: numpy>=1.13.1 in c:\\users\\nishc\\anaconda3\\lib\\site-packages (from xlogit) (1.24.3)\n",
      "Requirement already satisfied: scipy>=1.0.0 in c:\\users\\nishc\\anaconda3\\lib\\site-packages (from xlogit) (1.11.1)\n"
     ]
    }
   ],
   "source": [
    "#import necessary packages\n",
    "import statsmodels.api as sm\n",
    "import statsmodels as sms\n",
    "import statsmodels.formula.api as smf\n",
    "import numpy as np\n",
    "import pandas as pd\n",
    "import matplotlib.pyplot as plt\n",
    "import seaborn as sns\n",
    "from scipy import stats\n",
    "! pip install xlogit\n",
    "import xlogit\n",
    "from xlogit.utils import wide_to_long\n",
    "from xlogit import MixedLogit\n",
    "from xlogit import MultinomialLogit"
   ]
  },
  {
   "cell_type": "code",
   "execution_count": 63,
   "id": "0125c99f",
   "metadata": {
    "scrolled": true
   },
   "outputs": [
    {
     "data": {
      "text/html": [
       "<div>\n",
       "<style scoped>\n",
       "    .dataframe tbody tr th:only-of-type {\n",
       "        vertical-align: middle;\n",
       "    }\n",
       "\n",
       "    .dataframe tbody tr th {\n",
       "        vertical-align: top;\n",
       "    }\n",
       "\n",
       "    .dataframe thead th {\n",
       "        text-align: right;\n",
       "    }\n",
       "</style>\n",
       "<table border=\"1\" class=\"dataframe\">\n",
       "  <thead>\n",
       "    <tr style=\"text-align: right;\">\n",
       "      <th></th>\n",
       "      <th>id</th>\n",
       "      <th>mode</th>\n",
       "      <th>time.car</th>\n",
       "      <th>cost.car</th>\n",
       "      <th>time.bus</th>\n",
       "      <th>cost.bus</th>\n",
       "      <th>price_gas</th>\n",
       "      <th>snowfall</th>\n",
       "      <th>construction</th>\n",
       "      <th>bus_detour</th>\n",
       "      <th>age</th>\n",
       "      <th>income</th>\n",
       "      <th>marital_status</th>\n",
       "    </tr>\n",
       "  </thead>\n",
       "  <tbody>\n",
       "    <tr>\n",
       "      <th>0</th>\n",
       "      <td>1</td>\n",
       "      <td>car</td>\n",
       "      <td>13</td>\n",
       "      <td>0.79</td>\n",
       "      <td>26</td>\n",
       "      <td>0</td>\n",
       "      <td>2.44</td>\n",
       "      <td>0.0</td>\n",
       "      <td>0</td>\n",
       "      <td>1</td>\n",
       "      <td>33</td>\n",
       "      <td>28</td>\n",
       "      <td>married</td>\n",
       "    </tr>\n",
       "    <tr>\n",
       "      <th>1</th>\n",
       "      <td>2</td>\n",
       "      <td>car</td>\n",
       "      <td>9</td>\n",
       "      <td>0.59</td>\n",
       "      <td>14</td>\n",
       "      <td>0</td>\n",
       "      <td>2.59</td>\n",
       "      <td>0.0</td>\n",
       "      <td>0</td>\n",
       "      <td>0</td>\n",
       "      <td>25</td>\n",
       "      <td>28</td>\n",
       "      <td>single</td>\n",
       "    </tr>\n",
       "    <tr>\n",
       "      <th>2</th>\n",
       "      <td>3</td>\n",
       "      <td>bus</td>\n",
       "      <td>20</td>\n",
       "      <td>1.62</td>\n",
       "      <td>35</td>\n",
       "      <td>0</td>\n",
       "      <td>2.55</td>\n",
       "      <td>1.0</td>\n",
       "      <td>0</td>\n",
       "      <td>0</td>\n",
       "      <td>27</td>\n",
       "      <td>23</td>\n",
       "      <td>single</td>\n",
       "    </tr>\n",
       "    <tr>\n",
       "      <th>3</th>\n",
       "      <td>4</td>\n",
       "      <td>bus</td>\n",
       "      <td>11</td>\n",
       "      <td>0.30</td>\n",
       "      <td>11</td>\n",
       "      <td>0</td>\n",
       "      <td>2.53</td>\n",
       "      <td>2.2</td>\n",
       "      <td>0</td>\n",
       "      <td>0</td>\n",
       "      <td>25</td>\n",
       "      <td>21</td>\n",
       "      <td>single</td>\n",
       "    </tr>\n",
       "    <tr>\n",
       "      <th>4</th>\n",
       "      <td>5</td>\n",
       "      <td>bus</td>\n",
       "      <td>12</td>\n",
       "      <td>0.44</td>\n",
       "      <td>15</td>\n",
       "      <td>0</td>\n",
       "      <td>2.49</td>\n",
       "      <td>11.2</td>\n",
       "      <td>0</td>\n",
       "      <td>0</td>\n",
       "      <td>26</td>\n",
       "      <td>26</td>\n",
       "      <td>married</td>\n",
       "    </tr>\n",
       "    <tr>\n",
       "      <th>5</th>\n",
       "      <td>6</td>\n",
       "      <td>bus</td>\n",
       "      <td>9</td>\n",
       "      <td>0.23</td>\n",
       "      <td>10</td>\n",
       "      <td>0</td>\n",
       "      <td>2.46</td>\n",
       "      <td>6.5</td>\n",
       "      <td>0</td>\n",
       "      <td>0</td>\n",
       "      <td>28</td>\n",
       "      <td>24</td>\n",
       "      <td>married</td>\n",
       "    </tr>\n",
       "    <tr>\n",
       "      <th>6</th>\n",
       "      <td>7</td>\n",
       "      <td>bus</td>\n",
       "      <td>13</td>\n",
       "      <td>0.54</td>\n",
       "      <td>17</td>\n",
       "      <td>0</td>\n",
       "      <td>2.58</td>\n",
       "      <td>1.9</td>\n",
       "      <td>0</td>\n",
       "      <td>0</td>\n",
       "      <td>25</td>\n",
       "      <td>27</td>\n",
       "      <td>single</td>\n",
       "    </tr>\n",
       "    <tr>\n",
       "      <th>7</th>\n",
       "      <td>8</td>\n",
       "      <td>bus</td>\n",
       "      <td>11</td>\n",
       "      <td>0.48</td>\n",
       "      <td>14</td>\n",
       "      <td>0</td>\n",
       "      <td>2.75</td>\n",
       "      <td>0.0</td>\n",
       "      <td>0</td>\n",
       "      <td>0</td>\n",
       "      <td>27</td>\n",
       "      <td>26</td>\n",
       "      <td>married</td>\n",
       "    </tr>\n",
       "    <tr>\n",
       "      <th>8</th>\n",
       "      <td>9</td>\n",
       "      <td>car</td>\n",
       "      <td>8</td>\n",
       "      <td>0.30</td>\n",
       "      <td>9</td>\n",
       "      <td>0</td>\n",
       "      <td>2.68</td>\n",
       "      <td>0.7</td>\n",
       "      <td>0</td>\n",
       "      <td>0</td>\n",
       "      <td>24</td>\n",
       "      <td>19</td>\n",
       "      <td>single</td>\n",
       "    </tr>\n",
       "    <tr>\n",
       "      <th>9</th>\n",
       "      <td>10</td>\n",
       "      <td>car</td>\n",
       "      <td>12</td>\n",
       "      <td>0.43</td>\n",
       "      <td>15</td>\n",
       "      <td>0</td>\n",
       "      <td>2.53</td>\n",
       "      <td>2.1</td>\n",
       "      <td>0</td>\n",
       "      <td>0</td>\n",
       "      <td>26</td>\n",
       "      <td>35</td>\n",
       "      <td>single</td>\n",
       "    </tr>\n",
       "    <tr>\n",
       "      <th>10</th>\n",
       "      <td>11</td>\n",
       "      <td>bus</td>\n",
       "      <td>18</td>\n",
       "      <td>0.56</td>\n",
       "      <td>16</td>\n",
       "      <td>0</td>\n",
       "      <td>2.44</td>\n",
       "      <td>2.6</td>\n",
       "      <td>1</td>\n",
       "      <td>0</td>\n",
       "      <td>30</td>\n",
       "      <td>29</td>\n",
       "      <td>married</td>\n",
       "    </tr>\n",
       "    <tr>\n",
       "      <th>11</th>\n",
       "      <td>12</td>\n",
       "      <td>car</td>\n",
       "      <td>8</td>\n",
       "      <td>0.28</td>\n",
       "      <td>13</td>\n",
       "      <td>0</td>\n",
       "      <td>2.45</td>\n",
       "      <td>0.0</td>\n",
       "      <td>0</td>\n",
       "      <td>0</td>\n",
       "      <td>29</td>\n",
       "      <td>12</td>\n",
       "      <td>single</td>\n",
       "    </tr>\n",
       "    <tr>\n",
       "      <th>12</th>\n",
       "      <td>13</td>\n",
       "      <td>car</td>\n",
       "      <td>12</td>\n",
       "      <td>0.80</td>\n",
       "      <td>19</td>\n",
       "      <td>0</td>\n",
       "      <td>2.57</td>\n",
       "      <td>0.0</td>\n",
       "      <td>0</td>\n",
       "      <td>0</td>\n",
       "      <td>26</td>\n",
       "      <td>27</td>\n",
       "      <td>single</td>\n",
       "    </tr>\n",
       "    <tr>\n",
       "      <th>13</th>\n",
       "      <td>14</td>\n",
       "      <td>car</td>\n",
       "      <td>11</td>\n",
       "      <td>0.22</td>\n",
       "      <td>16</td>\n",
       "      <td>0</td>\n",
       "      <td>2.47</td>\n",
       "      <td>10.3</td>\n",
       "      <td>0</td>\n",
       "      <td>1</td>\n",
       "      <td>28</td>\n",
       "      <td>22</td>\n",
       "      <td>single</td>\n",
       "    </tr>\n",
       "    <tr>\n",
       "      <th>14</th>\n",
       "      <td>15</td>\n",
       "      <td>car</td>\n",
       "      <td>10</td>\n",
       "      <td>0.25</td>\n",
       "      <td>14</td>\n",
       "      <td>0</td>\n",
       "      <td>2.78</td>\n",
       "      <td>2.1</td>\n",
       "      <td>0</td>\n",
       "      <td>1</td>\n",
       "      <td>26</td>\n",
       "      <td>25</td>\n",
       "      <td>single</td>\n",
       "    </tr>\n",
       "  </tbody>\n",
       "</table>\n",
       "</div>"
      ],
      "text/plain": [
       "    id mode  time.car  cost.car  time.bus  cost.bus  price_gas  snowfall  \\\n",
       "0    1  car        13      0.79        26         0       2.44       0.0   \n",
       "1    2  car         9      0.59        14         0       2.59       0.0   \n",
       "2    3  bus        20      1.62        35         0       2.55       1.0   \n",
       "3    4  bus        11      0.30        11         0       2.53       2.2   \n",
       "4    5  bus        12      0.44        15         0       2.49      11.2   \n",
       "5    6  bus         9      0.23        10         0       2.46       6.5   \n",
       "6    7  bus        13      0.54        17         0       2.58       1.9   \n",
       "7    8  bus        11      0.48        14         0       2.75       0.0   \n",
       "8    9  car         8      0.30         9         0       2.68       0.7   \n",
       "9   10  car        12      0.43        15         0       2.53       2.1   \n",
       "10  11  bus        18      0.56        16         0       2.44       2.6   \n",
       "11  12  car         8      0.28        13         0       2.45       0.0   \n",
       "12  13  car        12      0.80        19         0       2.57       0.0   \n",
       "13  14  car        11      0.22        16         0       2.47      10.3   \n",
       "14  15  car        10      0.25        14         0       2.78       2.1   \n",
       "\n",
       "    construction  bus_detour  age  income marital_status  \n",
       "0              0           1   33      28        married  \n",
       "1              0           0   25      28         single  \n",
       "2              0           0   27      23         single  \n",
       "3              0           0   25      21         single  \n",
       "4              0           0   26      26        married  \n",
       "5              0           0   28      24        married  \n",
       "6              0           0   25      27         single  \n",
       "7              0           0   27      26        married  \n",
       "8              0           0   24      19         single  \n",
       "9              0           0   26      35         single  \n",
       "10             1           0   30      29        married  \n",
       "11             0           0   29      12         single  \n",
       "12             0           0   26      27         single  \n",
       "13             0           1   28      22         single  \n",
       "14             0           1   26      25         single  "
      ]
     },
     "execution_count": 63,
     "metadata": {},
     "output_type": "execute_result"
    }
   ],
   "source": [
    "data = pd.read_csv(\"commute_binary.csv\")\n",
    "data.head(15)"
   ]
  },
  {
   "cell_type": "markdown",
   "id": "cc440ca1",
   "metadata": {},
   "source": [
    "### Methodology\n",
    "\n",
    "The project employs various modeling approaches to predict commuting choices for graduate students, providing insights into factors influencing commuting behavior. This comprehensive approach provides insights into commuting behavior and demonstrates various estimation techniques in data science.\n",
    "\n",
    "1. **Linear Probability Model (LPM):**\n",
    "   - **Objective:** Predict commuting choices during winter (driving or taking the bus).\n",
    "   - **Method:** Utilizes linear regression to estimate the probability of each mode of transport based on cost and time.\n",
    "\n",
    "2. **Binary Logit Model (BLM):**\n",
    "   - **Objective:** Explore predictors' relationship with the probability of driving during winter.\n",
    "   - **Method:** Implements logistic regression to model the binary outcome (driving or taking the bus), offering more precise probability estimates.\n",
    "\n",
    "3. **Multinomial Logit Model (MLM):**\n",
    "   - **Objective:** Analyze commuting choices in spring (biking, walking, driving, or taking the bus).\n",
    "   - **Method:** Applies multinomial logistic regression to estimate probabilities for each commuting mode simultaneously.\n",
    "\n",
    "4. **Maximum Likelihood Estimation (MLE):**\n",
    "   - **Objective:** Estimate multinomial logit model parameters for deeper understanding.\n",
    "   - **Method:** Constructs the likelihood function and maximizes it to estimate parameters, illustrating the theoretical foundations of MLE.\n",
    "\n",
    "5. **Generalized Method of Moments (GMM):**\n",
    "   - **Objective:** Estimate binary choice model parameters (driving or taking the bus) using GMM.\n",
    "   - **Method:** Utilizes moment conditions from the data to estimate parameters, offering a robust estimation approach for potential endogeneity.\n",
    "\n"
   ]
  },
  {
   "cell_type": "markdown",
   "id": "da09b520",
   "metadata": {},
   "source": [
    "### Linear Probability Model (LPM)"
   ]
  },
  {
   "cell_type": "markdown",
   "id": "b17a85a4",
   "metadata": {},
   "source": [
    "The choice to drive to campus during winter is modeled as a linear probability model. The model includes the cost of driving and the time of each alternative as independent variables. The regression equation is defined as follows:\n",
    "\n",
    "$$\n",
    "Y_n = \\beta_0 + \\beta_1C_{nc} + \\beta_2T_{nc} + \\beta_3T_{nb} + \\epsilon_n\n",
    "$$\n",
    "\n",
    "where $ Y_n $ is a binary indicator if student $ n $ drives, $ C_{nc} $ is the cost in dollars to student $ n $ of driving to campus, $ T_{nc} $ is the time for student $ n $ to drive, $ T_{nb} $ is the time for student $ n $ to take the bus, and the $ \\beta $ coefficients are to be estimated. The OLS regression model is used to estimate the parameters.\n",
    "\n"
   ]
  },
  {
   "cell_type": "code",
   "execution_count": 66,
   "id": "4a63a313",
   "metadata": {},
   "outputs": [
    {
     "data": {
      "text/html": [
       "<div>\n",
       "<style scoped>\n",
       "    .dataframe tbody tr th:only-of-type {\n",
       "        vertical-align: middle;\n",
       "    }\n",
       "\n",
       "    .dataframe tbody tr th {\n",
       "        vertical-align: top;\n",
       "    }\n",
       "\n",
       "    .dataframe thead th {\n",
       "        text-align: right;\n",
       "    }\n",
       "</style>\n",
       "<table border=\"1\" class=\"dataframe\">\n",
       "  <thead>\n",
       "    <tr style=\"text-align: right;\">\n",
       "      <th></th>\n",
       "      <th>id</th>\n",
       "      <th>mode</th>\n",
       "      <th>driving_time</th>\n",
       "      <th>driving_cost</th>\n",
       "      <th>bus_time</th>\n",
       "      <th>bus_cost</th>\n",
       "      <th>price_gas</th>\n",
       "      <th>snowfall</th>\n",
       "      <th>construction</th>\n",
       "      <th>bus_detour</th>\n",
       "      <th>age</th>\n",
       "      <th>income</th>\n",
       "      <th>marital_status</th>\n",
       "    </tr>\n",
       "  </thead>\n",
       "  <tbody>\n",
       "    <tr>\n",
       "      <th>0</th>\n",
       "      <td>1</td>\n",
       "      <td>1</td>\n",
       "      <td>13</td>\n",
       "      <td>0.79</td>\n",
       "      <td>26</td>\n",
       "      <td>0</td>\n",
       "      <td>2.44</td>\n",
       "      <td>0.0</td>\n",
       "      <td>0</td>\n",
       "      <td>1</td>\n",
       "      <td>33</td>\n",
       "      <td>28</td>\n",
       "      <td>married</td>\n",
       "    </tr>\n",
       "    <tr>\n",
       "      <th>1</th>\n",
       "      <td>2</td>\n",
       "      <td>1</td>\n",
       "      <td>9</td>\n",
       "      <td>0.59</td>\n",
       "      <td>14</td>\n",
       "      <td>0</td>\n",
       "      <td>2.59</td>\n",
       "      <td>0.0</td>\n",
       "      <td>0</td>\n",
       "      <td>0</td>\n",
       "      <td>25</td>\n",
       "      <td>28</td>\n",
       "      <td>single</td>\n",
       "    </tr>\n",
       "    <tr>\n",
       "      <th>2</th>\n",
       "      <td>3</td>\n",
       "      <td>0</td>\n",
       "      <td>20</td>\n",
       "      <td>1.62</td>\n",
       "      <td>35</td>\n",
       "      <td>0</td>\n",
       "      <td>2.55</td>\n",
       "      <td>1.0</td>\n",
       "      <td>0</td>\n",
       "      <td>0</td>\n",
       "      <td>27</td>\n",
       "      <td>23</td>\n",
       "      <td>single</td>\n",
       "    </tr>\n",
       "    <tr>\n",
       "      <th>3</th>\n",
       "      <td>4</td>\n",
       "      <td>0</td>\n",
       "      <td>11</td>\n",
       "      <td>0.30</td>\n",
       "      <td>11</td>\n",
       "      <td>0</td>\n",
       "      <td>2.53</td>\n",
       "      <td>2.2</td>\n",
       "      <td>0</td>\n",
       "      <td>0</td>\n",
       "      <td>25</td>\n",
       "      <td>21</td>\n",
       "      <td>single</td>\n",
       "    </tr>\n",
       "    <tr>\n",
       "      <th>4</th>\n",
       "      <td>5</td>\n",
       "      <td>0</td>\n",
       "      <td>12</td>\n",
       "      <td>0.44</td>\n",
       "      <td>15</td>\n",
       "      <td>0</td>\n",
       "      <td>2.49</td>\n",
       "      <td>11.2</td>\n",
       "      <td>0</td>\n",
       "      <td>0</td>\n",
       "      <td>26</td>\n",
       "      <td>26</td>\n",
       "      <td>married</td>\n",
       "    </tr>\n",
       "    <tr>\n",
       "      <th>...</th>\n",
       "      <td>...</td>\n",
       "      <td>...</td>\n",
       "      <td>...</td>\n",
       "      <td>...</td>\n",
       "      <td>...</td>\n",
       "      <td>...</td>\n",
       "      <td>...</td>\n",
       "      <td>...</td>\n",
       "      <td>...</td>\n",
       "      <td>...</td>\n",
       "      <td>...</td>\n",
       "      <td>...</td>\n",
       "      <td>...</td>\n",
       "    </tr>\n",
       "    <tr>\n",
       "      <th>995</th>\n",
       "      <td>996</td>\n",
       "      <td>0</td>\n",
       "      <td>11</td>\n",
       "      <td>0.40</td>\n",
       "      <td>15</td>\n",
       "      <td>0</td>\n",
       "      <td>2.42</td>\n",
       "      <td>0.0</td>\n",
       "      <td>0</td>\n",
       "      <td>0</td>\n",
       "      <td>27</td>\n",
       "      <td>22</td>\n",
       "      <td>single</td>\n",
       "    </tr>\n",
       "    <tr>\n",
       "      <th>996</th>\n",
       "      <td>997</td>\n",
       "      <td>0</td>\n",
       "      <td>9</td>\n",
       "      <td>0.56</td>\n",
       "      <td>16</td>\n",
       "      <td>0</td>\n",
       "      <td>2.42</td>\n",
       "      <td>0.0</td>\n",
       "      <td>0</td>\n",
       "      <td>0</td>\n",
       "      <td>28</td>\n",
       "      <td>24</td>\n",
       "      <td>single</td>\n",
       "    </tr>\n",
       "    <tr>\n",
       "      <th>997</th>\n",
       "      <td>998</td>\n",
       "      <td>0</td>\n",
       "      <td>15</td>\n",
       "      <td>0.39</td>\n",
       "      <td>12</td>\n",
       "      <td>0</td>\n",
       "      <td>2.54</td>\n",
       "      <td>1.1</td>\n",
       "      <td>1</td>\n",
       "      <td>0</td>\n",
       "      <td>29</td>\n",
       "      <td>25</td>\n",
       "      <td>single</td>\n",
       "    </tr>\n",
       "    <tr>\n",
       "      <th>998</th>\n",
       "      <td>999</td>\n",
       "      <td>0</td>\n",
       "      <td>14</td>\n",
       "      <td>0.32</td>\n",
       "      <td>11</td>\n",
       "      <td>0</td>\n",
       "      <td>2.52</td>\n",
       "      <td>3.6</td>\n",
       "      <td>1</td>\n",
       "      <td>0</td>\n",
       "      <td>28</td>\n",
       "      <td>25</td>\n",
       "      <td>single</td>\n",
       "    </tr>\n",
       "    <tr>\n",
       "      <th>999</th>\n",
       "      <td>1000</td>\n",
       "      <td>1</td>\n",
       "      <td>9</td>\n",
       "      <td>0.28</td>\n",
       "      <td>10</td>\n",
       "      <td>0</td>\n",
       "      <td>2.52</td>\n",
       "      <td>0.0</td>\n",
       "      <td>0</td>\n",
       "      <td>0</td>\n",
       "      <td>24</td>\n",
       "      <td>34</td>\n",
       "      <td>married</td>\n",
       "    </tr>\n",
       "  </tbody>\n",
       "</table>\n",
       "<p>1000 rows × 13 columns</p>\n",
       "</div>"
      ],
      "text/plain": [
       "       id  mode  driving_time  driving_cost  bus_time  bus_cost  price_gas  \\\n",
       "0       1     1            13          0.79        26         0       2.44   \n",
       "1       2     1             9          0.59        14         0       2.59   \n",
       "2       3     0            20          1.62        35         0       2.55   \n",
       "3       4     0            11          0.30        11         0       2.53   \n",
       "4       5     0            12          0.44        15         0       2.49   \n",
       "..    ...   ...           ...           ...       ...       ...        ...   \n",
       "995   996     0            11          0.40        15         0       2.42   \n",
       "996   997     0             9          0.56        16         0       2.42   \n",
       "997   998     0            15          0.39        12         0       2.54   \n",
       "998   999     0            14          0.32        11         0       2.52   \n",
       "999  1000     1             9          0.28        10         0       2.52   \n",
       "\n",
       "     snowfall  construction  bus_detour  age  income marital_status  \n",
       "0         0.0             0           1   33      28        married  \n",
       "1         0.0             0           0   25      28         single  \n",
       "2         1.0             0           0   27      23         single  \n",
       "3         2.2             0           0   25      21         single  \n",
       "4        11.2             0           0   26      26        married  \n",
       "..        ...           ...         ...  ...     ...            ...  \n",
       "995       0.0             0           0   27      22         single  \n",
       "996       0.0             0           0   28      24         single  \n",
       "997       1.1             1           0   29      25         single  \n",
       "998       3.6             1           0   28      25         single  \n",
       "999       0.0             0           0   24      34        married  \n",
       "\n",
       "[1000 rows x 13 columns]"
      ]
     },
     "execution_count": 66,
     "metadata": {},
     "output_type": "execute_result"
    }
   ],
   "source": [
    "#Preprocessing the data\n",
    "data['mode'].replace({'car':1, 'bus':0}, inplace = True) #need to convert string to int\n",
    "data.rename(columns = {'time.car': 'driving_time', 'cost.car':'driving_cost', \"time.bus\":\n",
    "\"bus_time\", \"cost.bus\" :\"bus_cost\"}, inplace = True) #rename the variables to improve readability\n",
    "data"
   ]
  },
  {
   "cell_type": "code",
   "execution_count": 59,
   "id": "9bd219e8",
   "metadata": {},
   "outputs": [
    {
     "name": "stdout",
     "output_type": "stream",
     "text": [
      "                            OLS Regression Results                            \n",
      "==============================================================================\n",
      "Dep. Variable:                   mode   R-squared:                       0.146\n",
      "Model:                            OLS   Adj. R-squared:                  0.144\n",
      "Method:                 Least Squares   F-statistic:                     64.46\n",
      "Date:                Sun, 28 Apr 2024   Prob (F-statistic):           4.27e-38\n",
      "Time:                        15:03:28   Log-Likelihood:                -636.12\n",
      "No. Observations:                1000   AIC:                             1280.\n",
      "Df Residuals:                     996   BIC:                             1300.\n",
      "Df Model:                           3                                         \n",
      "Covariance Type:                  HC1                                         \n",
      "================================================================================\n",
      "                   coef    std err          z      P>|z|      [0.025      0.975]\n",
      "--------------------------------------------------------------------------------\n",
      "Intercept        0.9205      0.073     12.627      0.000       0.778       1.063\n",
      "driving_cost    -0.4376      0.139     -3.158      0.002      -0.709      -0.166\n",
      "driving_time    -0.0653      0.006    -11.190      0.000      -0.077      -0.054\n",
      "bus_time         0.0284      0.007      4.348      0.000       0.016       0.041\n",
      "==============================================================================\n",
      "Omnibus:                    14100.686   Durbin-Watson:                   1.907\n",
      "Prob(Omnibus):                  0.000   Jarque-Bera (JB):               87.254\n",
      "Skew:                           0.184   Prob(JB):                     1.13e-19\n",
      "Kurtosis:                       1.600   Cond. No.                         193.\n",
      "==============================================================================\n",
      "\n",
      "Notes:\n",
      "[1] Standard Errors are heteroscedasticity robust (HC1)\n"
     ]
    }
   ],
   "source": [
    "#define the formula\n",
    "formula = 'mode ~ driving_cost + driving_time + bus_time'\n",
    "\n",
    "#Regress the mode on the variables\n",
    "model = smf.ols(formula = formula, data = data).fit(cov_type = 'HC1')\n",
    "print(model.summary())"
   ]
  },
  {
   "cell_type": "markdown",
   "id": "63415084",
   "metadata": {},
   "source": [
    "The estimated coefficients and heteroskedastic-robust standard errors are reported from this model. These results are briefly interpreted, providing insights into the meaning of each coefficient."
   ]
  },
  {
   "cell_type": "code",
   "execution_count": 29,
   "id": "060506e7",
   "metadata": {},
   "outputs": [
    {
     "name": "stdout",
     "output_type": "stream",
     "text": [
      "Coefficients:\n",
      "Intercept       0.920511\n",
      "driving_cost   -0.437564\n",
      "driving_time   -0.065250\n",
      "bus_time        0.028367\n",
      "dtype: float64\n",
      "\n",
      "Heteroskedastic-robust standard errors\n",
      "Intercept       0.072901\n",
      "driving_cost    0.138536\n",
      "driving_time    0.005831\n",
      "bus_time        0.006524\n",
      "dtype: float64\n"
     ]
    }
   ],
   "source": [
    "est_coeff = model.params\n",
    "robust_se = model.HC1_se\n",
    "print(\"Coefficients:\")\n",
    "print(est_coeff)\n",
    "print(\"\\nHeteroskedastic-robust standard errors\")\n",
    "print(robust_se )\n",
    "\n"
   ]
  },
  {
   "cell_type": "markdown",
   "id": "769ba422",
   "metadata": {},
   "source": [
    "##### Interpretation\n",
    "\n",
    "beta0: The estimated coefficient for the intercept is 0.9205. It shows predicted probability of choice of drive to campus when all x variables are zero. In this case, there is a significantly high probability (92.05%) of driving even when the cost and time variables are 0.\n",
    "\n",
    "beta1: The estimated coefficient for cost beta1 is -0.4376. It shows that an increase of $1 in cost of driving decreases probability of driving by 43.76%. \n",
    "\n",
    "beta2: The estimated coefficient for driving time beta2 is 0.0653.  It shows  that an increase of 1 minute in driving time decreases probability of driving by 6.53%.\n",
    "\n",
    "beta3: The estimated coefficient for bus time beta3 is 0.0284. It shows that an increase of 1 minute in bus time increases probability of driving by 2.84%. "
   ]
  },
  {
   "cell_type": "markdown",
   "id": "91394629",
   "metadata": {},
   "source": [
    "In a linear probability model, one potential issue is that predicted probabilities may fall outside the [0, 1] range. The number of students with infeasible choice probabilities is determined. Based on these results, concern arises regarding the use of a linear probability model in this case."
   ]
  },
  {
   "cell_type": "code",
   "execution_count": 41,
   "id": "c57c0c70",
   "metadata": {},
   "outputs": [
    {
     "name": "stdout",
     "output_type": "stream",
     "text": [
      "Number of students with infeasible choice probabilities: 22\n"
     ]
    }
   ],
   "source": [
    "# Fitted values from the model\n",
    "data['fitted_values'] = model.fittedvalues\n",
    "\n",
    "# Q. How many students have infeasible choice probabilities? \n",
    "pb_less_zero = (data['fitted_values'] < 0).sum()\n",
    "pb_more_one =(data['fitted_values'] > 1).sum()\n",
    "number_of_inf_choice = pb_less_zero + pb_more_one\n",
    "print(\"Number of students with infeasible choice probabilities:\", number_of_inf_choice)"
   ]
  },
  {
   "cell_type": "markdown",
   "id": "71c78fd5",
   "metadata": {},
   "source": [
    "The equality in absolute value of the two time coefficients is tested. The interpretation of this test result is provided along with a brief explanation of its intuitive sense. Additionally, the expected impact on the proportion of drivers in case of an equal increase in the time to drive and the time to take the bus is discussed."
   ]
  },
  {
   "cell_type": "markdown",
   "id": "adbae02e",
   "metadata": {},
   "source": [
    "Citation: https://www.statsmodels.org/dev/generated/statsmodels.regression.linear_model.OLSResults.t_test.html"
   ]
  },
  {
   "cell_type": "code",
   "execution_count": 57,
   "id": "7ce13d72",
   "metadata": {},
   "outputs": [
    {
     "data": {
      "text/plain": [
       "<class 'statsmodels.stats.contrast.ContrastResults'>\n",
       "                             Test for Constraints                             \n",
       "==============================================================================\n",
       "                 coef    std err          z      P>|z|      [0.025      0.975]\n",
       "------------------------------------------------------------------------------\n",
       "c0             0.0369      0.009      4.188      0.000       0.020       0.054\n",
       "=============================================================================="
      ]
     },
     "execution_count": 57,
     "metadata": {},
     "output_type": "execute_result"
    }
   ],
   "source": [
    "T_test = model.t_test(\"-driving_time = bus_time\") #plugging in the two time coefficients\n",
    "\n",
    "t_test_result"
   ]
  },
  {
   "cell_type": "markdown",
   "id": "18803b31",
   "metadata": {},
   "source": [
    "P-value < 0.05. So we reject the null hypothesis: two time coefficients are equal in absolute value.\n",
    "\n",
    "We think the interpreatation of coefficient 0.0369 shows that the absolute value of the coefficient for driving_time is statistically significantly different from the coefficient for bus_time. As coefficient is +ve, we can say, on average, if driving time increases it has a larger effect on probability of driving by car even when there is an equal increase in bus_time.\n",
    "\n",
    "Intuitively we can say that increase in time to drive has greater effect on the choosing to drive to campus on comparing with an equal increase in time to take the bus. This could be due to the fact that driving is considered more flexible and time-efficient than riding a bus. So people are more sensitive to changes in driving time when they decide their mode of transport.\n",
    "\n",
    "If a delay were to increase equally the time to drive and the time to take the bus, we would expect the proportion of drivers to decrease. The reason is: greater sensitivity to a change in driving time indicates that individuals are more inclined taking the bus when there is an increase in driving time."
   ]
  },
  {
   "cell_type": "markdown",
   "id": "12dfdb94",
   "metadata": {},
   "source": [
    "### Binary Logit Model\n",
    "\n",
    "The model in LPM assumed the probability of driving is a linear function of the data. In reality, however, a different functional form may provide a better fit for the data. \n",
    "\n",
    "The choice to drive to campus during winter is modeled as a binary logit model. The cost of driving and the time of each alternative are included as independent variables in the model. The probability $P_n$ that student $n$ drives is represented by the equation:\n",
    "$$ \n",
    " \\ln\\left(\\frac{P_n}{1 - P_n}\\right)= \\beta_0 + \\beta_1C_{nc} + \\beta_2T_{nc} + \\beta_3T_{nb}\n",
    "$$\n",
    "\n",
    "where $C_{nc}$ is the cost in dollars to student $n$ of driving to campus, $T_{nc}$ is the time for student $n$ to drive, $T_{nb}$ is the time for student $n$ to take the bus, and the $\\beta$ coefficients are to be estimated. The binary logit model is used to estimate the parameters."
   ]
  },
  {
   "cell_type": "code",
   "execution_count": 3,
   "id": "8356a7a9",
   "metadata": {},
   "outputs": [],
   "source": [
    "# Convert the mode to a binary variable where 'car' is 1 and 'bus' is 0\n",
    "data['mode_bin'] = (data['mode'] == 'car').astype(int)"
   ]
  },
  {
   "cell_type": "code",
   "execution_count": 4,
   "id": "13865def",
   "metadata": {},
   "outputs": [],
   "source": [
    "# Define independent variables\n",
    "X = data[['cost.car', 'time.car', 'time.bus']]\n",
    "X = sm.add_constant(X)  \n",
    "\n",
    "# Define the dependent variable\n",
    "y = data['mode_bin']"
   ]
  },
  {
   "cell_type": "code",
   "execution_count": 5,
   "id": "bcd541d4",
   "metadata": {},
   "outputs": [
    {
     "name": "stdout",
     "output_type": "stream",
     "text": [
      "Optimization terminated successfully.\n",
      "         Current function value: 0.600470\n",
      "         Iterations 6\n"
     ]
    }
   ],
   "source": [
    "# Fit the binary logit model\n",
    "model = sm.Logit(y, X)\n",
    "result = model.fit()"
   ]
  },
  {
   "cell_type": "code",
   "execution_count": 6,
   "id": "29a100b6",
   "metadata": {},
   "outputs": [
    {
     "name": "stdout",
     "output_type": "stream",
     "text": [
      "                           Logit Regression Results                           \n",
      "==============================================================================\n",
      "Dep. Variable:               mode_bin   No. Observations:                 1000\n",
      "Model:                          Logit   Df Residuals:                      996\n",
      "Method:                           MLE   Df Model:                            3\n",
      "Date:                Mon, 06 May 2024   Pseudo R-squ.:                  0.1205\n",
      "Time:                        18:39:49   Log-Likelihood:                -600.47\n",
      "converged:                       True   LL-Null:                       -682.74\n",
      "Covariance Type:            nonrobust   LLR p-value:                 1.914e-35\n",
      "==============================================================================\n",
      "                 coef    std err          z      P>|z|      [0.025      0.975]\n",
      "------------------------------------------------------------------------------\n",
      "const          2.2333      0.347      6.443      0.000       1.554       2.913\n",
      "cost.car      -2.0772      0.732     -2.836      0.005      -3.513      -0.642\n",
      "time.car      -0.3322      0.035     -9.400      0.000      -0.401      -0.263\n",
      "time.bus       0.1326      0.032      4.092      0.000       0.069       0.196\n",
      "==============================================================================\n"
     ]
    }
   ],
   "source": [
    "# Display the summary of the logistic regression model\n",
    "summary = result.summary()\n",
    "print(summary)\n"
   ]
  },
  {
   "cell_type": "markdown",
   "id": "0e3ac41f",
   "metadata": {},
   "source": [
    "The estimated coefficients and standard errors from this model are reported. These results are then interpreted, providing insights into the meaning of each coefficient.\n",
    "\n",
    "Constant (𝛽0):\n",
    "- Coefficient: 2.2333\n",
    "- Standard Error: 0.347\n",
    "- Interpretation: This represents the log odds of choosing to drive when all independent variables are zero, which isn't practically interpretable in this context.\n",
    "\n",
    "\n",
    "Cost of driving (β1, for cost.car):\n",
    "- Coefficient: −2.0772\n",
    "- Standard Error: 0.732\n",
    "- Interpretation: This negative coefficient suggests that an increase in the cost of driving decreases the likelihood of choosing to drive. Specifically, for each additional dollar spent on driving, the odds of choosing to drive decrease by a factor of −2.0772\n",
    "\n",
    "\n",
    "Time to drive (𝛽2, for time.car):\n",
    "- Coefficient: -0.3322\n",
    "- Standard Error: 0.035\n",
    "- Interpretation: This negative coefficient indicates that longer driving times decrease the probability of driving. Each additional minute spent driving reduces the odds of choosing to drive by a factor of -0.3322\n",
    "\n",
    "\n",
    "Time to take the bus (𝛽3, for time.bus):\n",
    "- Coefficient: 0.1326\n",
    "- Standard Error: 0.032\n",
    "- Interpretation: This positive coefficient suggests that an increase in the time taken to commute by bus slightly increases the likelihood of choosing to drive. Each additional minute on the bus increases the odds of driving by a factor of 0.1326"
   ]
  },
  {
   "cell_type": "markdown",
   "id": "88272330",
   "metadata": {},
   "source": [
    "The marginal effect of each independent variable is calculated for each student, resulting in 3000 marginal effects in total. For each of these three variables, the mean, minimum, maximum, and quartiles of their marginal effects are reported. A comparison is made between these marginal effects and the estimated marginal effects from LPM. The `fittedvalues` function is utilized to calculate the fitted values of a logit model, while the `describe()` function is employed to report these summary statistics for a vector or data frame."
   ]
  },
  {
   "cell_type": "code",
   "execution_count": 7,
   "id": "60c69b4c",
   "metadata": {},
   "outputs": [
    {
     "name": "stdout",
     "output_type": "stream",
     "text": [
      "        Logit Marginal Effects       \n",
      "=====================================\n",
      "Dep. Variable:               mode_bin\n",
      "Method:                          dydx\n",
      "At:                           overall\n",
      "==============================================================================\n",
      "                dy/dx    std err          z      P>|z|      [0.025      0.975]\n",
      "------------------------------------------------------------------------------\n",
      "cost.car      -0.4314      0.150     -2.879      0.004      -0.725      -0.138\n",
      "time.car      -0.0690      0.006    -11.329      0.000      -0.081      -0.057\n",
      "time.bus       0.0275      0.007      4.222      0.000       0.015       0.040\n",
      "==============================================================================\n",
      "          dy/dx  Std. Err.          z      Pr(>|z|)  Conf. Int. Low  \\\n",
      "count  3.000000   3.000000   3.000000  3.000000e+00        3.000000   \n",
      "mean  -0.157631   0.054158  -3.328704  1.338641e-03       -0.263779   \n",
      "std    0.241977   0.082882   7.785078  2.297626e-03        0.402414   \n",
      "min   -0.431426   0.006091 -11.328969  9.430779e-30       -0.725151   \n",
      "25%   -0.250214   0.006307  -7.103894  1.212468e-05       -0.403045   \n",
      "50%   -0.069001   0.006522  -2.878819  2.424937e-05       -0.080939   \n",
      "75%   -0.020733   0.078192   0.671428  2.007962e-03       -0.033093   \n",
      "max    0.027536   0.149862   4.221675  3.991674e-03        0.014752   \n",
      "\n",
      "       Cont. Int. Hi.  \n",
      "count        3.000000  \n",
      "mean        -0.051482  \n",
      "std          0.089142  \n",
      "min         -0.137702  \n",
      "25%         -0.097383  \n",
      "50%         -0.057064  \n",
      "75%         -0.008372  \n",
      "max          0.040320  \n"
     ]
    }
   ],
   "source": [
    "# Calculate the marginal effects\n",
    "marginal_effects = result.get_margeff()\n",
    "print(marginal_effects.summary())\n",
    "\n",
    "# Summarize the marginal effects\n",
    "marg_effects_frame = marginal_effects.summary_frame()\n",
    "print(marg_effects_frame.describe())\n"
   ]
  },
  {
   "cell_type": "code",
   "execution_count": 8,
   "id": "5c904fe9",
   "metadata": {},
   "outputs": [],
   "source": [
    "marginal_effects = result.get_margeff(at='all')\n",
    "me_values = marginal_effects.margeff \n",
    "\n",
    "me_values_effect_only = me_values\n",
    "\n",
    "variables = result.model.exog_names[1:] \n",
    "\n",
    "marginal_effects_df = pd.DataFrame(me_values, columns=variables)"
   ]
  },
  {
   "cell_type": "code",
   "execution_count": 9,
   "id": "1b7e11f1",
   "metadata": {},
   "outputs": [
    {
     "name": "stdout",
     "output_type": "stream",
     "text": [
      "Marginal Effects Statistics for Selected Variables:\n",
      "Marginal Effects for 'cost.car':\n",
      "  mean: -0.4314\n",
      "  min: -0.5193\n",
      "  25%: -0.5101\n",
      "  50%: -0.4772\n",
      "  75%: -0.3889\n",
      "  max: -0.0151\n",
      "\n",
      "Marginal Effects for 'time.car':\n",
      "  mean: -0.0690\n",
      "  min: -0.0831\n",
      "  25%: -0.0816\n",
      "  50%: -0.0763\n",
      "  75%: -0.0622\n",
      "  max: -0.0024\n",
      "\n",
      "Marginal Effects for 'time.bus':\n",
      "  mean: 0.0275\n",
      "  min: 0.0010\n",
      "  25%: 0.0248\n",
      "  50%: 0.0305\n",
      "  75%: 0.0326\n",
      "  max: 0.0331\n",
      "\n"
     ]
    }
   ],
   "source": [
    "summary_stats = {}\n",
    "for var in variables:  \n",
    "    stats = marginal_effects_df[var].describe()\n",
    "    summary_stats[var] = {\n",
    "        'mean': stats['mean'],\n",
    "        'min': stats['min'],\n",
    "        '25%': stats['25%'],\n",
    "        '50%': stats['50%'],\n",
    "        '75%': stats['75%'],\n",
    "        'max': stats['max']\n",
    "    }\n",
    "\n",
    "print(\"Marginal Effects Statistics for Selected Variables:\")\n",
    "for var, stats in summary_stats.items():\n",
    "    print(f\"Marginal Effects for '{var}':\")\n",
    "    for stat, value in stats.items():\n",
    "        print(f\"  {stat}: {value:.4f}\")\n",
    "    print()"
   ]
  },
  {
   "cell_type": "markdown",
   "id": "97fb6721",
   "metadata": {},
   "source": [
    "The marginal effects derived from the binary logit model reveal how slight variations in each predictor variable (cost and time) influence the likelihood of a student opting to drive to campus. Below are the detailed results:\n",
    "\n",
    "Marginal Effects\n",
    "\n",
    "- Driving Costs (cost.car):\n",
    "- Marginal Effect: -0.4314\n",
    "- Standard Error: 0.150\n",
    "- Confidence Interval: [-0.725, -0.138]\n",
    "\n",
    "This indicates that for every additional dollar spent on driving, the probability of choosing to drive diminishes by approximately 43.14%. This significant effect demonstrates the impact of cost increases on the choice to drive.\n",
    "\n",
    "- Driving Time (time.car):\n",
    "- Marginal Effect: -0.0690\n",
    "- Standard Error: 0.006\n",
    "- Confidence Interval: [-0.081, -0.057]\n",
    "\n",
    "Every extra minute driving decreases the likelihood of opting to drive by roughly 6.90%. This statistically significant effect underscores the importance of time efficiency in the driving decision.\n",
    "\n",
    "- Bus Travel Time (time.bus):\n",
    "- Marginal Effect: 0.0275\n",
    "- Standard Error: 0.007\n",
    "- Confidence Interval: [0.015, 0.040]\n",
    "\n",
    "In contrast, each additional minute spent on the bus slightly increases the probability of choosing to drive by about 2.75%, indicating that longer bus rides make driving a more appealing option."
   ]
  },
  {
   "cell_type": "markdown",
   "id": "ab77ffd5",
   "metadata": {},
   "source": [
    "The coefficient estimates are utilized to calculate the dollar value attributed by a student to each hour spent driving and each hour spent on the bus. This conversion is achieved by leveraging the coefficient estimates in the model."
   ]
  },
  {
   "cell_type": "code",
   "execution_count": 10,
   "id": "bf2c8f42",
   "metadata": {},
   "outputs": [
    {
     "data": {
      "text/plain": [
       "(-9.596257191994166, 3.8294944366556596)"
      ]
     },
     "execution_count": 10,
     "metadata": {},
     "output_type": "execute_result"
    }
   ],
   "source": [
    "# Extract the coefficients for cost and time\n",
    "beta_cost = result.params['cost.car']\n",
    "beta_time_car = result.params['time.car']\n",
    "beta_time_bus = result.params['time.bus']\n",
    "\n",
    "# Calculate the dollar value per minute\n",
    "value_per_minute_driving = -beta_time_car / beta_cost\n",
    "value_per_minute_bus = -beta_time_bus / beta_cost\n",
    "\n",
    "# Convert to dollar value per hour\n",
    "value_per_hour_driving = value_per_minute_driving * 60\n",
    "value_per_hour_bus = value_per_minute_bus * 60\n",
    "\n",
    "value_per_hour_driving, value_per_hour_bus"
   ]
  },
  {
   "cell_type": "markdown",
   "id": "2780947b",
   "metadata": {},
   "source": [
    "Value per hour for driving: Students value each hour spent driving at approximately -$9.60. This negative value indicates a cost or disutility associated with driving time.\n",
    "\n",
    "Value per hour for taking the bus: Students value each hour spent on the bus at approximately $3.83. This is also a measure of disutility but is less negative than driving, suggesting that students may find bus travel less costly in terms of time compared to driving.\n",
    "\n",
    "These values are based on the marginal utility of time relative to the cost of driving. Negative values are expected in this context because they represent a cost (or disutility) rather than a benefit."
   ]
  },
  {
   "cell_type": "markdown",
   "id": "0c1b749f",
   "metadata": {},
   "source": [
    "The choice to drive to campus during winter is modeled as a binary logit model, allowing the parameter on cost to vary inversely with income. The equation representing the probability \n",
    "𝑃\n",
    "𝑛\n",
    "that student \n",
    "𝑛 drives is:\n",
    "\n",
    "$$ \n",
    " \\ln\\left(\\frac{P_n}{1 - P_n}\\right)= \\beta_0 + \\frac{\\beta_1C_nc}{I_n}\\ + \\beta_2T_nc + \\beta_3T_{nb}\n",
    "$$\n",
    "\n",
    "Here, \n",
    "𝐼\n",
    "𝑛\n",
    "represents the income of student \n",
    "𝑛. The binary logit model is used to estimate the parameters, incorporating the inverse relationship between cost and income.\n",
    "\n",
    "\n",
    "\n",
    "\n",
    "\n",
    "\n"
   ]
  },
  {
   "cell_type": "code",
   "execution_count": 11,
   "id": "83ce139e",
   "metadata": {},
   "outputs": [
    {
     "name": "stdout",
     "output_type": "stream",
     "text": [
      "Optimization terminated successfully.\n",
      "         Current function value: 0.597449\n",
      "         Iterations 6\n"
     ]
    },
    {
     "data": {
      "text/html": [
       "<table class=\"simpletable\">\n",
       "<caption>Logit Regression Results</caption>\n",
       "<tr>\n",
       "  <th>Dep. Variable:</th>       <td>mode_bin</td>     <th>  No. Observations:  </th>  <td>  1000</td>  \n",
       "</tr>\n",
       "<tr>\n",
       "  <th>Model:</th>                 <td>Logit</td>      <th>  Df Residuals:      </th>  <td>   996</td>  \n",
       "</tr>\n",
       "<tr>\n",
       "  <th>Method:</th>                 <td>MLE</td>       <th>  Df Model:          </th>  <td>     3</td>  \n",
       "</tr>\n",
       "<tr>\n",
       "  <th>Date:</th>            <td>Mon, 06 May 2024</td> <th>  Pseudo R-squ.:     </th>  <td>0.1249</td>  \n",
       "</tr>\n",
       "<tr>\n",
       "  <th>Time:</th>                <td>18:42:23</td>     <th>  Log-Likelihood:    </th> <td> -597.45</td> \n",
       "</tr>\n",
       "<tr>\n",
       "  <th>converged:</th>             <td>True</td>       <th>  LL-Null:           </th> <td> -682.74</td> \n",
       "</tr>\n",
       "<tr>\n",
       "  <th>Covariance Type:</th>     <td>nonrobust</td>    <th>  LLR p-value:       </th> <td>9.498e-37</td>\n",
       "</tr>\n",
       "</table>\n",
       "<table class=\"simpletable\">\n",
       "<tr>\n",
       "          <td></td>            <th>coef</th>     <th>std err</th>      <th>z</th>      <th>P>|z|</th>  <th>[0.025</th>    <th>0.975]</th>  \n",
       "</tr>\n",
       "<tr>\n",
       "  <th>const</th>            <td>    2.2654</td> <td>    0.331</td> <td>    6.842</td> <td> 0.000</td> <td>    1.616</td> <td>    2.914</td>\n",
       "</tr>\n",
       "<tr>\n",
       "  <th>cost_over_income</th> <td>  -53.6331</td> <td>   14.549</td> <td>   -3.686</td> <td> 0.000</td> <td>  -82.148</td> <td>  -25.118</td>\n",
       "</tr>\n",
       "<tr>\n",
       "  <th>time.car</th>         <td>   -0.3352</td> <td>    0.035</td> <td>   -9.622</td> <td> 0.000</td> <td>   -0.403</td> <td>   -0.267</td>\n",
       "</tr>\n",
       "<tr>\n",
       "  <th>time.bus</th>         <td>    0.1359</td> <td>    0.029</td> <td>    4.719</td> <td> 0.000</td> <td>    0.079</td> <td>    0.192</td>\n",
       "</tr>\n",
       "</table>"
      ],
      "text/latex": [
       "\\begin{center}\n",
       "\\begin{tabular}{lclc}\n",
       "\\toprule\n",
       "\\textbf{Dep. Variable:}     &    mode\\_bin     & \\textbf{  No. Observations:  } &     1000    \\\\\n",
       "\\textbf{Model:}             &      Logit       & \\textbf{  Df Residuals:      } &      996    \\\\\n",
       "\\textbf{Method:}            &       MLE        & \\textbf{  Df Model:          } &        3    \\\\\n",
       "\\textbf{Date:}              & Mon, 06 May 2024 & \\textbf{  Pseudo R-squ.:     } &   0.1249    \\\\\n",
       "\\textbf{Time:}              &     18:42:23     & \\textbf{  Log-Likelihood:    } &   -597.45   \\\\\n",
       "\\textbf{converged:}         &       True       & \\textbf{  LL-Null:           } &   -682.74   \\\\\n",
       "\\textbf{Covariance Type:}   &    nonrobust     & \\textbf{  LLR p-value:       } & 9.498e-37   \\\\\n",
       "\\bottomrule\n",
       "\\end{tabular}\n",
       "\\begin{tabular}{lcccccc}\n",
       "                            & \\textbf{coef} & \\textbf{std err} & \\textbf{z} & \\textbf{P$> |$z$|$} & \\textbf{[0.025} & \\textbf{0.975]}  \\\\\n",
       "\\midrule\n",
       "\\textbf{const}              &       2.2654  &        0.331     &     6.842  &         0.000        &        1.616    &        2.914     \\\\\n",
       "\\textbf{cost\\_over\\_income} &     -53.6331  &       14.549     &    -3.686  &         0.000        &      -82.148    &      -25.118     \\\\\n",
       "\\textbf{time.car}           &      -0.3352  &        0.035     &    -9.622  &         0.000        &       -0.403    &       -0.267     \\\\\n",
       "\\textbf{time.bus}           &       0.1359  &        0.029     &     4.719  &         0.000        &        0.079    &        0.192     \\\\\n",
       "\\bottomrule\n",
       "\\end{tabular}\n",
       "%\\caption{Logit Regression Results}\n",
       "\\end{center}"
      ],
      "text/plain": [
       "<class 'statsmodels.iolib.summary.Summary'>\n",
       "\"\"\"\n",
       "                           Logit Regression Results                           \n",
       "==============================================================================\n",
       "Dep. Variable:               mode_bin   No. Observations:                 1000\n",
       "Model:                          Logit   Df Residuals:                      996\n",
       "Method:                           MLE   Df Model:                            3\n",
       "Date:                Mon, 06 May 2024   Pseudo R-squ.:                  0.1249\n",
       "Time:                        18:42:23   Log-Likelihood:                -597.45\n",
       "converged:                       True   LL-Null:                       -682.74\n",
       "Covariance Type:            nonrobust   LLR p-value:                 9.498e-37\n",
       "====================================================================================\n",
       "                       coef    std err          z      P>|z|      [0.025      0.975]\n",
       "------------------------------------------------------------------------------------\n",
       "const                2.2654      0.331      6.842      0.000       1.616       2.914\n",
       "cost_over_income   -53.6331     14.549     -3.686      0.000     -82.148     -25.118\n",
       "time.car            -0.3352      0.035     -9.622      0.000      -0.403      -0.267\n",
       "time.bus             0.1359      0.029      4.719      0.000       0.079       0.192\n",
       "====================================================================================\n",
       "\"\"\""
      ]
     },
     "execution_count": 11,
     "metadata": {},
     "output_type": "execute_result"
    }
   ],
   "source": [
    "data['cost_over_income'] = data['cost.car'] / data['income']\n",
    "X = data[['cost_over_income', 'time.car', 'time.bus']]\n",
    "X = sm.add_constant(X)  \n",
    "y = data['mode_bin'] \n",
    "\n",
    "interaction_logit_model = sm.Logit(y, X)\n",
    "interaction_logit_results = interaction_logit_model.fit()\n",
    "\n",
    "interaction_logit_results_summary = interaction_logit_results.summary()\n",
    "interaction_logit_results_summary"
   ]
  },
  {
   "cell_type": "markdown",
   "id": "bb51c84f",
   "metadata": {},
   "source": [
    "The estimated coefficients and standard errors from this model are reported. These results are interpreted to understand the significance of each coefficient. Specifically, the meaning of each coefficient is discussed, providing insight into how changes in the independent variables (cost of driving, time to drive, and time to take the bus) impact the probability of driving to campus during winter.\n",
    "\n",
    "Constant (β₀) \n",
    "- Coefficient: 2.2654\n",
    "\n",
    "cost_over_income (β1)\n",
    "- Coefficient: -53.6331\n",
    "- Standard Error: 14.539\n",
    "- Z-value: -3.686\n",
    "- P-value: 0.000\n",
    "- Interpretation: This coefficient is highly significant and negative, indicating that as the cost of driving relative to income increases, the likelihood of choosing to drive decreases. The size of the coefficient suggests a very strong inverse relationship between the relative cost and the decision to drive, which aligns with the hypothesis that higher economic burden from commuting costs decreases the likelihood of opting to drive.\n",
    "\n",
    "time.car (β2)\n",
    "- Coefficient: -0.3352\n",
    "- Standard Error: 0.035\n",
    "- Z-value: -9.622\n",
    "- P-value: 0.000\n",
    "- Interpretation: Every additional minute spent driving decreases the log-odds of choosing to drive by 0.3352. This suggests that longer driving times make driving less attractive, significantly influencing the decision against driving. The high Z-value and very low P-value indicate strong statistical significance.\n",
    "\n",
    "time.bus (β3)\n",
    "- Coefficient: 0.1359\n",
    "- Standard Error: 0.029\n",
    "- Z-value: 4.719\n",
    "- P-value: 0.000\n",
    "- Interpretation: Every additional minute spent on the bus increases the log-odds of choosing to drive by 0.1359. This might seem counterintuitive initially, but it suggests that as bus travel becomes more time-consuming, driving becomes a relatively more attractive option, possibly due to perceptions of time savings or convenience."
   ]
  },
  {
   "cell_type": "markdown",
   "id": "e6d076d0",
   "metadata": {},
   "source": [
    "The coefficient estimates are utilized to calculate the marginal utility of income for a student at three different income levels: $15,000, $25,000, and $35,000. For each of these three income levels, the dollar value that a student places on each hour spent driving and on each hour spent on the bus is also calculated."
   ]
  },
  {
   "cell_type": "code",
   "execution_count": 12,
   "id": "f146891c",
   "metadata": {},
   "outputs": [
    {
     "name": "stdout",
     "output_type": "stream",
     "text": [
      "Marginal Utility when income $15,000\n",
      "  -0.2383693333\n",
      "\n",
      "Marginal Utility when income $25,000\n",
      "  -0.0858129600\n",
      "\n",
      "Marginal Utility when income $35,000\n",
      "  -0.0437821224\n",
      "\n"
     ]
    }
   ],
   "source": [
    "beta_cost_over_income = -53.6331\n",
    "\n",
    "average_cost = 1  \n",
    "\n",
    "income_levels = [15, 25, 35]  \n",
    "\n",
    "for income in income_levels:\n",
    "    adjusted_income = income\n",
    "\n",
    "    # Calculate Marginal Utility of Income\n",
    "    mu_income = beta_cost_over_income * average_cost / (adjusted_income ** 2)\n",
    "    \n",
    "    print(f\"Marginal Utility when income ${income * 1000:,}\")\n",
    "    print(f\"  {mu_income:.10f}\")\n",
    "    print()\n"
   ]
  },
  {
   "cell_type": "code",
   "execution_count": 13,
   "id": "ab2b8eca",
   "metadata": {},
   "outputs": [
    {
     "name": "stdout",
     "output_type": "stream",
     "text": [
      "When income == $15,000\n",
      "  Time of drive is -5.6248846328\n",
      "  Time of bus is 2.2804946945\n",
      "\n",
      "When income == $25,000\n",
      "  Time of drive is -9.3748077214\n",
      "  Time of bus is 3.8008244908\n",
      "\n",
      "When income == $35,000\n",
      "  Time of drive is -13.1247308099\n",
      "  Time of bus is 5.3211542872\n",
      "\n"
     ]
    }
   ],
   "source": [
    "beta_cost_over_income = -53.6331  \n",
    "beta_time_car = -0.3352\n",
    "beta_time_bus = 0.1359\n",
    "\n",
    "for income in [15, 25, 35]:  \n",
    "    # Calculate the dollar value per hour\n",
    "    dollar_value_driving = -beta_time_car / (beta_cost_over_income / income) * 60\n",
    "    dollar_value_bus = -beta_time_bus / (beta_cost_over_income / income) * 60\n",
    "    \n",
    "    print(f\"When income == ${income * 1000:,}\")\n",
    "    print(f\"  Time of drive is {dollar_value_driving:.10f}\")\n",
    "    print(f\"  Time of bus is {dollar_value_bus:.10f}\")\n",
    "    print()\n"
   ]
  },
  {
   "cell_type": "markdown",
   "id": "a0402861",
   "metadata": {},
   "source": [
    "### Multinomial Logit Model"
   ]
  },
  {
   "cell_type": "markdown",
   "id": "5af1e579",
   "metadata": {},
   "source": [
    "The choice of how graduate students commute to campus is being studied once again, but this time, the focus is on this decision during the spring when riding a bike and walking become feasible alternatives. This analysis aims to assist the university in planning for car parking, bike racks, and bus needs during this season. Additionally, the university is considering a modification to bus routes and seeks to understand how this change will impact commute choices."
   ]
  },
  {
   "cell_type": "code",
   "execution_count": 2,
   "id": "6623ddd5",
   "metadata": {},
   "outputs": [
    {
     "data": {
      "text/html": [
       "<div>\n",
       "<style scoped>\n",
       "    .dataframe tbody tr th:only-of-type {\n",
       "        vertical-align: middle;\n",
       "    }\n",
       "\n",
       "    .dataframe tbody tr th {\n",
       "        vertical-align: top;\n",
       "    }\n",
       "\n",
       "    .dataframe thead th {\n",
       "        text-align: right;\n",
       "    }\n",
       "</style>\n",
       "<table border=\"1\" class=\"dataframe\">\n",
       "  <thead>\n",
       "    <tr style=\"text-align: right;\">\n",
       "      <th></th>\n",
       "      <th>id</th>\n",
       "      <th>mode</th>\n",
       "      <th>time.car</th>\n",
       "      <th>cost.car</th>\n",
       "      <th>time.bus</th>\n",
       "      <th>cost.bus</th>\n",
       "      <th>time.bike</th>\n",
       "      <th>cost.bike</th>\n",
       "      <th>time.walk</th>\n",
       "      <th>cost.walk</th>\n",
       "      <th>age</th>\n",
       "      <th>income</th>\n",
       "      <th>marital_status</th>\n",
       "    </tr>\n",
       "  </thead>\n",
       "  <tbody>\n",
       "    <tr>\n",
       "      <th>0</th>\n",
       "      <td>1</td>\n",
       "      <td>bus</td>\n",
       "      <td>16</td>\n",
       "      <td>0.82</td>\n",
       "      <td>20</td>\n",
       "      <td>0</td>\n",
       "      <td>20</td>\n",
       "      <td>0</td>\n",
       "      <td>55</td>\n",
       "      <td>0</td>\n",
       "      <td>33</td>\n",
       "      <td>28</td>\n",
       "      <td>married</td>\n",
       "    </tr>\n",
       "    <tr>\n",
       "      <th>1</th>\n",
       "      <td>2</td>\n",
       "      <td>car</td>\n",
       "      <td>10</td>\n",
       "      <td>0.59</td>\n",
       "      <td>16</td>\n",
       "      <td>0</td>\n",
       "      <td>15</td>\n",
       "      <td>0</td>\n",
       "      <td>34</td>\n",
       "      <td>0</td>\n",
       "      <td>25</td>\n",
       "      <td>28</td>\n",
       "      <td>single</td>\n",
       "    </tr>\n",
       "    <tr>\n",
       "      <th>2</th>\n",
       "      <td>3</td>\n",
       "      <td>bus</td>\n",
       "      <td>21</td>\n",
       "      <td>1.78</td>\n",
       "      <td>34</td>\n",
       "      <td>0</td>\n",
       "      <td>39</td>\n",
       "      <td>0</td>\n",
       "      <td>105</td>\n",
       "      <td>0</td>\n",
       "      <td>27</td>\n",
       "      <td>23</td>\n",
       "      <td>single</td>\n",
       "    </tr>\n",
       "    <tr>\n",
       "      <th>3</th>\n",
       "      <td>4</td>\n",
       "      <td>bus</td>\n",
       "      <td>13</td>\n",
       "      <td>0.31</td>\n",
       "      <td>12</td>\n",
       "      <td>0</td>\n",
       "      <td>12</td>\n",
       "      <td>0</td>\n",
       "      <td>24</td>\n",
       "      <td>0</td>\n",
       "      <td>25</td>\n",
       "      <td>21</td>\n",
       "      <td>single</td>\n",
       "    </tr>\n",
       "    <tr>\n",
       "      <th>4</th>\n",
       "      <td>5</td>\n",
       "      <td>bus</td>\n",
       "      <td>11</td>\n",
       "      <td>0.42</td>\n",
       "      <td>16</td>\n",
       "      <td>0</td>\n",
       "      <td>13</td>\n",
       "      <td>0</td>\n",
       "      <td>35</td>\n",
       "      <td>0</td>\n",
       "      <td>26</td>\n",
       "      <td>26</td>\n",
       "      <td>married</td>\n",
       "    </tr>\n",
       "    <tr>\n",
       "      <th>...</th>\n",
       "      <td>...</td>\n",
       "      <td>...</td>\n",
       "      <td>...</td>\n",
       "      <td>...</td>\n",
       "      <td>...</td>\n",
       "      <td>...</td>\n",
       "      <td>...</td>\n",
       "      <td>...</td>\n",
       "      <td>...</td>\n",
       "      <td>...</td>\n",
       "      <td>...</td>\n",
       "      <td>...</td>\n",
       "      <td>...</td>\n",
       "    </tr>\n",
       "    <tr>\n",
       "      <th>995</th>\n",
       "      <td>996</td>\n",
       "      <td>bus</td>\n",
       "      <td>11</td>\n",
       "      <td>0.39</td>\n",
       "      <td>14</td>\n",
       "      <td>0</td>\n",
       "      <td>14</td>\n",
       "      <td>0</td>\n",
       "      <td>34</td>\n",
       "      <td>0</td>\n",
       "      <td>27</td>\n",
       "      <td>22</td>\n",
       "      <td>single</td>\n",
       "    </tr>\n",
       "    <tr>\n",
       "      <th>996</th>\n",
       "      <td>997</td>\n",
       "      <td>bus</td>\n",
       "      <td>11</td>\n",
       "      <td>0.63</td>\n",
       "      <td>14</td>\n",
       "      <td>0</td>\n",
       "      <td>13</td>\n",
       "      <td>0</td>\n",
       "      <td>36</td>\n",
       "      <td>0</td>\n",
       "      <td>28</td>\n",
       "      <td>24</td>\n",
       "      <td>single</td>\n",
       "    </tr>\n",
       "    <tr>\n",
       "      <th>997</th>\n",
       "      <td>998</td>\n",
       "      <td>car</td>\n",
       "      <td>8</td>\n",
       "      <td>0.38</td>\n",
       "      <td>10</td>\n",
       "      <td>0</td>\n",
       "      <td>11</td>\n",
       "      <td>0</td>\n",
       "      <td>27</td>\n",
       "      <td>0</td>\n",
       "      <td>29</td>\n",
       "      <td>25</td>\n",
       "      <td>single</td>\n",
       "    </tr>\n",
       "    <tr>\n",
       "      <th>998</th>\n",
       "      <td>999</td>\n",
       "      <td>bus</td>\n",
       "      <td>14</td>\n",
       "      <td>0.30</td>\n",
       "      <td>10</td>\n",
       "      <td>0</td>\n",
       "      <td>11</td>\n",
       "      <td>0</td>\n",
       "      <td>19</td>\n",
       "      <td>0</td>\n",
       "      <td>28</td>\n",
       "      <td>25</td>\n",
       "      <td>single</td>\n",
       "    </tr>\n",
       "    <tr>\n",
       "      <th>999</th>\n",
       "      <td>1000</td>\n",
       "      <td>bike</td>\n",
       "      <td>7</td>\n",
       "      <td>0.28</td>\n",
       "      <td>11</td>\n",
       "      <td>0</td>\n",
       "      <td>7</td>\n",
       "      <td>0</td>\n",
       "      <td>20</td>\n",
       "      <td>0</td>\n",
       "      <td>24</td>\n",
       "      <td>34</td>\n",
       "      <td>married</td>\n",
       "    </tr>\n",
       "  </tbody>\n",
       "</table>\n",
       "<p>1000 rows × 13 columns</p>\n",
       "</div>"
      ],
      "text/plain": [
       "       id  mode  time.car  cost.car  time.bus  cost.bus  time.bike  cost.bike  \\\n",
       "0       1   bus        16      0.82        20         0         20          0   \n",
       "1       2   car        10      0.59        16         0         15          0   \n",
       "2       3   bus        21      1.78        34         0         39          0   \n",
       "3       4   bus        13      0.31        12         0         12          0   \n",
       "4       5   bus        11      0.42        16         0         13          0   \n",
       "..    ...   ...       ...       ...       ...       ...        ...        ...   \n",
       "995   996   bus        11      0.39        14         0         14          0   \n",
       "996   997   bus        11      0.63        14         0         13          0   \n",
       "997   998   car         8      0.38        10         0         11          0   \n",
       "998   999   bus        14      0.30        10         0         11          0   \n",
       "999  1000  bike         7      0.28        11         0          7          0   \n",
       "\n",
       "     time.walk  cost.walk  age  income marital_status  \n",
       "0           55          0   33      28        married  \n",
       "1           34          0   25      28         single  \n",
       "2          105          0   27      23         single  \n",
       "3           24          0   25      21         single  \n",
       "4           35          0   26      26        married  \n",
       "..         ...        ...  ...     ...            ...  \n",
       "995         34          0   27      22         single  \n",
       "996         36          0   28      24         single  \n",
       "997         27          0   29      25         single  \n",
       "998         19          0   28      25         single  \n",
       "999         20          0   24      34        married  \n",
       "\n",
       "[1000 rows x 13 columns]"
      ]
     },
     "metadata": {},
     "output_type": "display_data"
    }
   ],
   "source": [
    "commute_data = pd.read_csv('commute_multinomial.csv')\n",
    "display(commute_data)"
   ]
  },
  {
   "cell_type": "markdown",
   "id": "b072b544",
   "metadata": {},
   "source": [
    "The commute choice during spring is modeled as a multinomial logit model. The representative utility of each alternative is expressed as a linear function of its cost and time. An alternative-specific intercept is included, assuming that cost has a common parameter that does not vary with income, while the parameter on time is allowed to be alternative-specific. \n",
    "Specifically, the representative utility $V_{nj}$ to student $n$ from alternative $j$ is represented as:\n",
    "\n",
    "$$\n",
    "\\ V_{nj} = \\alpha_j + \\beta_1 C_{nj} + \\beta_j T_{nj} \\\n",
    "$$\n",
    "\n",
    "\n",
    "Here, $V_{nj}$ denotes the representative utility to student $n$ from alternative $j$, $C_{nj}$ represents the cost in dollars to student $n$ of alternative $j$, $T_{nj}$ signifies the time for student $n$ of alternative $j$, and the parameters $\\alpha$ and $\\beta$ are to be estimated.The MultinomialLogit() function from the xlogit package is utilized to estimate this multinomial logit model. However, it is imperative to first convert the data to a long format before performing the estimation."
   ]
  },
  {
   "cell_type": "code",
   "execution_count": 3,
   "id": "8de0dfbb",
   "metadata": {},
   "outputs": [],
   "source": [
    "# Convert wide format data to long format for analysis\n",
    "commute_long_format = wide_to_long(commute_data, id_col='id', alt_name='alt', \n",
    "                                   varying=['time', 'cost'], \n",
    "                                   alt_list=['bike', 'bus', 'car', 'walk'], sep='.', empty_val=0)\n",
    "\n",
    "# Create time variables for each mode of transportation\n",
    "commute_long_format['time_bike'] = commute_long_format['time'] * (commute_long_format['alt'] == 'bike')\n",
    "commute_long_format['time_bus'] = commute_long_format['time'] * (commute_long_format['alt'] == 'bus')\n",
    "commute_long_format['time_car'] = commute_long_format['time'] * (commute_long_format['alt'] == 'car')\n",
    "commute_long_format['time_walk'] = commute_long_format['time'] * (commute_long_format['alt'] == 'walk')\n",
    "\n",
    "# Define the variables to be used in the model\n",
    "variables = ['cost', 'time_bike', 'time_bus', 'time_car', 'time_walk']"
   ]
  },
  {
   "cell_type": "code",
   "execution_count": 4,
   "id": "eb4fbb92",
   "metadata": {},
   "outputs": [],
   "source": [
    "# Initialize and fit the multinomial logistic regression model\n",
    "multinomial_model = MultinomialLogit()\n",
    "multinomial_model.fit(X=commute_long_format[variables],\n",
    "                      y=commute_long_format['mode'],\n",
    "                      varnames=variables,\n",
    "                      ids=commute_long_format['id'],\n",
    "                      alts=commute_long_format['alt'],\n",
    "                      fit_intercept=True,\n",
    "                      base_alt='bike')"
   ]
  },
  {
   "cell_type": "code",
   "execution_count": 5,
   "id": "049efb22",
   "metadata": {},
   "outputs": [
    {
     "name": "stdout",
     "output_type": "stream",
     "text": [
      "Optimization terminated successfully.\n",
      "    Message: The gradients are close to zero\n",
      "    Iterations: 17\n",
      "    Function evaluations: 19\n",
      "Estimation time= 0.0 seconds\n",
      "---------------------------------------------------------------------------\n",
      "Coefficient              Estimate      Std.Err.         z-val         P>|z|\n",
      "---------------------------------------------------------------------------\n",
      "_intercept.bus         -0.2190090     0.3855448    -0.5680506          0.57    \n",
      "_intercept.car          2.7456687     0.4425950     6.2035691      8.07e-10 ***\n",
      "_intercept.walk         2.9754379     0.7831786     3.7991817      0.000154 ***\n",
      "cost                   -2.6044141     0.8235335    -3.1624870       0.00161 ** \n",
      "time_bike              -0.2893899     0.0385643    -7.5040963      1.36e-13 ***\n",
      "time_bus               -0.1431753     0.0351081    -4.0781319       4.9e-05 ***\n",
      "time_car               -0.4046662     0.0463773    -8.7255208      1.09e-17 ***\n",
      "time_walk              -0.2966140     0.0384196    -7.7203743      2.81e-14 ***\n",
      "---------------------------------------------------------------------------\n",
      "Significance:  0 '***' 0.001 '**' 0.01 '*' 0.05 '.' 0.1 ' ' 1\n",
      "\n",
      "Log-Likelihood= -982.356\n",
      "AIC= 1980.712\n",
      "BIC= 2019.974\n"
     ]
    }
   ],
   "source": [
    "# Display the model summary\n",
    "multinomial_model.summary()"
   ]
  },
  {
   "cell_type": "markdown",
   "id": "4e1c6eb8",
   "metadata": {},
   "source": [
    "The estimated coefficients and standard errors from this model are reported, and these results are briefly interpreted. Each coefficient's meaning is discussed, providing insight into the relationship between the predictors (cost and time) and the commuting choices.\n",
    "1. Car and walking provide more utility than biking (2.75 > 0 and 2.97 > 0) \n",
    "2. The intercepts of car and walking are statistically significant\n",
    "3.  Bus provides the same utility as bike, the parameter is negative but not statistically significant (-0.219 < 0)\n",
    "4. An additional $1 of cost reduces utility by 2.604\n",
    "5. An additional 1 min time of bus reduces utility by 0.143\n",
    "6. An additional 1 min time of car reduces utility by 0.405\n",
    "7. An additional 1 min time of walk reduces utility by 0.297\n",
    "8. An additional 1 min time of bike reduces utility by 0.289"
   ]
  },
  {
   "cell_type": "markdown",
   "id": "13ac3542",
   "metadata": {},
   "source": [
    "The elasticity of each commute alternative with respect to the cost of driving is calculated for each student, resulting in 4000 elasticities (4 alternatives × 1000 students). For each alternative, the mean, minimum, maximum, and quartiles of its elasticity with respect to the cost of driving are reported.\n",
    "\n",
    "These elasticities and substitution patterns are related to an important property of the logit model. In the logit model, the probabilities of choosing each alternative are determined by their relative utilities, which are influenced by the cost and other characteristics of the alternatives. The elasticities measure the sensitivity of choice probabilities to changes in the cost of driving, providing insights into how changes in cost affect the likelihood of choosing each alternative."
   ]
  },
  {
   "cell_type": "code",
   "execution_count": 6,
   "id": "bdbd4ae2",
   "metadata": {},
   "outputs": [
    {
     "data": {
      "text/html": [
       "<div>\n",
       "<style scoped>\n",
       "    .dataframe tbody tr th:only-of-type {\n",
       "        vertical-align: middle;\n",
       "    }\n",
       "\n",
       "    .dataframe tbody tr th {\n",
       "        vertical-align: top;\n",
       "    }\n",
       "\n",
       "    .dataframe thead th {\n",
       "        text-align: right;\n",
       "    }\n",
       "</style>\n",
       "<table border=\"1\" class=\"dataframe\">\n",
       "  <thead>\n",
       "    <tr style=\"text-align: right;\">\n",
       "      <th></th>\n",
       "      <th>id</th>\n",
       "      <th>alt</th>\n",
       "      <th>time</th>\n",
       "      <th>cost</th>\n",
       "      <th>mode</th>\n",
       "      <th>age</th>\n",
       "      <th>income</th>\n",
       "      <th>marital_status</th>\n",
       "      <th>time_bike</th>\n",
       "      <th>time_bus</th>\n",
       "      <th>time_car</th>\n",
       "      <th>time_walk</th>\n",
       "    </tr>\n",
       "  </thead>\n",
       "  <tbody>\n",
       "    <tr>\n",
       "      <th>0</th>\n",
       "      <td>1</td>\n",
       "      <td>bike</td>\n",
       "      <td>20</td>\n",
       "      <td>0.00</td>\n",
       "      <td>bus</td>\n",
       "      <td>33</td>\n",
       "      <td>28</td>\n",
       "      <td>married</td>\n",
       "      <td>20</td>\n",
       "      <td>0</td>\n",
       "      <td>0</td>\n",
       "      <td>0</td>\n",
       "    </tr>\n",
       "    <tr>\n",
       "      <th>1</th>\n",
       "      <td>1</td>\n",
       "      <td>bus</td>\n",
       "      <td>20</td>\n",
       "      <td>0.00</td>\n",
       "      <td>bus</td>\n",
       "      <td>33</td>\n",
       "      <td>28</td>\n",
       "      <td>married</td>\n",
       "      <td>0</td>\n",
       "      <td>20</td>\n",
       "      <td>0</td>\n",
       "      <td>0</td>\n",
       "    </tr>\n",
       "    <tr>\n",
       "      <th>2</th>\n",
       "      <td>1</td>\n",
       "      <td>car</td>\n",
       "      <td>16</td>\n",
       "      <td>0.82</td>\n",
       "      <td>bus</td>\n",
       "      <td>33</td>\n",
       "      <td>28</td>\n",
       "      <td>married</td>\n",
       "      <td>0</td>\n",
       "      <td>0</td>\n",
       "      <td>16</td>\n",
       "      <td>0</td>\n",
       "    </tr>\n",
       "    <tr>\n",
       "      <th>3</th>\n",
       "      <td>1</td>\n",
       "      <td>walk</td>\n",
       "      <td>55</td>\n",
       "      <td>0.00</td>\n",
       "      <td>bus</td>\n",
       "      <td>33</td>\n",
       "      <td>28</td>\n",
       "      <td>married</td>\n",
       "      <td>0</td>\n",
       "      <td>0</td>\n",
       "      <td>0</td>\n",
       "      <td>55</td>\n",
       "    </tr>\n",
       "    <tr>\n",
       "      <th>4</th>\n",
       "      <td>2</td>\n",
       "      <td>bike</td>\n",
       "      <td>15</td>\n",
       "      <td>0.00</td>\n",
       "      <td>car</td>\n",
       "      <td>25</td>\n",
       "      <td>28</td>\n",
       "      <td>single</td>\n",
       "      <td>15</td>\n",
       "      <td>0</td>\n",
       "      <td>0</td>\n",
       "      <td>0</td>\n",
       "    </tr>\n",
       "    <tr>\n",
       "      <th>...</th>\n",
       "      <td>...</td>\n",
       "      <td>...</td>\n",
       "      <td>...</td>\n",
       "      <td>...</td>\n",
       "      <td>...</td>\n",
       "      <td>...</td>\n",
       "      <td>...</td>\n",
       "      <td>...</td>\n",
       "      <td>...</td>\n",
       "      <td>...</td>\n",
       "      <td>...</td>\n",
       "      <td>...</td>\n",
       "    </tr>\n",
       "    <tr>\n",
       "      <th>3995</th>\n",
       "      <td>999</td>\n",
       "      <td>walk</td>\n",
       "      <td>19</td>\n",
       "      <td>0.00</td>\n",
       "      <td>bus</td>\n",
       "      <td>28</td>\n",
       "      <td>25</td>\n",
       "      <td>single</td>\n",
       "      <td>0</td>\n",
       "      <td>0</td>\n",
       "      <td>0</td>\n",
       "      <td>19</td>\n",
       "    </tr>\n",
       "    <tr>\n",
       "      <th>3996</th>\n",
       "      <td>1000</td>\n",
       "      <td>bike</td>\n",
       "      <td>7</td>\n",
       "      <td>0.00</td>\n",
       "      <td>bike</td>\n",
       "      <td>24</td>\n",
       "      <td>34</td>\n",
       "      <td>married</td>\n",
       "      <td>7</td>\n",
       "      <td>0</td>\n",
       "      <td>0</td>\n",
       "      <td>0</td>\n",
       "    </tr>\n",
       "    <tr>\n",
       "      <th>3997</th>\n",
       "      <td>1000</td>\n",
       "      <td>bus</td>\n",
       "      <td>11</td>\n",
       "      <td>0.00</td>\n",
       "      <td>bike</td>\n",
       "      <td>24</td>\n",
       "      <td>34</td>\n",
       "      <td>married</td>\n",
       "      <td>0</td>\n",
       "      <td>11</td>\n",
       "      <td>0</td>\n",
       "      <td>0</td>\n",
       "    </tr>\n",
       "    <tr>\n",
       "      <th>3998</th>\n",
       "      <td>1000</td>\n",
       "      <td>car</td>\n",
       "      <td>7</td>\n",
       "      <td>0.28</td>\n",
       "      <td>bike</td>\n",
       "      <td>24</td>\n",
       "      <td>34</td>\n",
       "      <td>married</td>\n",
       "      <td>0</td>\n",
       "      <td>0</td>\n",
       "      <td>7</td>\n",
       "      <td>0</td>\n",
       "    </tr>\n",
       "    <tr>\n",
       "      <th>3999</th>\n",
       "      <td>1000</td>\n",
       "      <td>walk</td>\n",
       "      <td>20</td>\n",
       "      <td>0.00</td>\n",
       "      <td>bike</td>\n",
       "      <td>24</td>\n",
       "      <td>34</td>\n",
       "      <td>married</td>\n",
       "      <td>0</td>\n",
       "      <td>0</td>\n",
       "      <td>0</td>\n",
       "      <td>20</td>\n",
       "    </tr>\n",
       "  </tbody>\n",
       "</table>\n",
       "<p>4000 rows × 12 columns</p>\n",
       "</div>"
      ],
      "text/plain": [
       "        id   alt  time  cost  mode  age  income marital_status  time_bike  \\\n",
       "0        1  bike    20  0.00   bus   33      28        married         20   \n",
       "1        1   bus    20  0.00   bus   33      28        married          0   \n",
       "2        1   car    16  0.82   bus   33      28        married          0   \n",
       "3        1  walk    55  0.00   bus   33      28        married          0   \n",
       "4        2  bike    15  0.00   car   25      28         single         15   \n",
       "...    ...   ...   ...   ...   ...  ...     ...            ...        ...   \n",
       "3995   999  walk    19  0.00   bus   28      25         single          0   \n",
       "3996  1000  bike     7  0.00  bike   24      34        married          7   \n",
       "3997  1000   bus    11  0.00  bike   24      34        married          0   \n",
       "3998  1000   car     7  0.28  bike   24      34        married          0   \n",
       "3999  1000  walk    20  0.00  bike   24      34        married          0   \n",
       "\n",
       "      time_bus  time_car  time_walk  \n",
       "0            0         0          0  \n",
       "1           20         0          0  \n",
       "2            0        16          0  \n",
       "3            0         0         55  \n",
       "4            0         0          0  \n",
       "...        ...       ...        ...  \n",
       "3995         0         0         19  \n",
       "3996         0         0          0  \n",
       "3997        11         0          0  \n",
       "3998         0         7          0  \n",
       "3999         0         0         20  \n",
       "\n",
       "[4000 rows x 12 columns]"
      ]
     },
     "metadata": {},
     "output_type": "display_data"
    }
   ],
   "source": [
    "# Display transformed dataset\n",
    "display(commute_long_format)"
   ]
  },
  {
   "cell_type": "code",
   "execution_count": 7,
   "id": "5914ac6f",
   "metadata": {},
   "outputs": [],
   "source": [
    "# List of predictor variables\n",
    "predictors = ['cost', 'time_bike', 'time_bus', 'time_car', 'time_walk']\n",
    "\n",
    "# Predict probabilities using the multinomial logistic regression model\n",
    "modes, probabilities = multinomial_model.predict(X=commute_long_format[predictors],\n",
    "                                                 varnames=predictors,\n",
    "                                                 ids=commute_long_format['id'],\n",
    "                                                 alts=commute_long_format['alt'],\n",
    "                                                 return_proba=True)"
   ]
  },
  {
   "cell_type": "code",
   "execution_count": 8,
   "id": "ca1a9c34",
   "metadata": {},
   "outputs": [
    {
     "data": {
      "text/html": [
       "<div>\n",
       "<style scoped>\n",
       "    .dataframe tbody tr th:only-of-type {\n",
       "        vertical-align: middle;\n",
       "    }\n",
       "\n",
       "    .dataframe tbody tr th {\n",
       "        vertical-align: top;\n",
       "    }\n",
       "\n",
       "    .dataframe thead th {\n",
       "        text-align: right;\n",
       "    }\n",
       "</style>\n",
       "<table border=\"1\" class=\"dataframe\">\n",
       "  <thead>\n",
       "    <tr style=\"text-align: right;\">\n",
       "      <th></th>\n",
       "      <th>bike</th>\n",
       "      <th>bus</th>\n",
       "      <th>car</th>\n",
       "      <th>walk</th>\n",
       "    </tr>\n",
       "  </thead>\n",
       "  <tbody>\n",
       "    <tr>\n",
       "      <th>0</th>\n",
       "      <td>0.059224</td>\n",
       "      <td>0.885900</td>\n",
       "      <td>0.054845</td>\n",
       "      <td>3.114156e-05</td>\n",
       "    </tr>\n",
       "    <tr>\n",
       "      <th>1</th>\n",
       "      <td>0.084750</td>\n",
       "      <td>0.528871</td>\n",
       "      <td>0.381061</td>\n",
       "      <td>5.318120e-03</td>\n",
       "    </tr>\n",
       "    <tr>\n",
       "      <th>2</th>\n",
       "      <td>0.002017</td>\n",
       "      <td>0.993032</td>\n",
       "      <td>0.004951</td>\n",
       "      <td>9.387529e-11</td>\n",
       "    </tr>\n",
       "    <tr>\n",
       "      <th>3</th>\n",
       "      <td>0.136658</td>\n",
       "      <td>0.634632</td>\n",
       "      <td>0.158824</td>\n",
       "      <td>6.988567e-02</td>\n",
       "    </tr>\n",
       "    <tr>\n",
       "      <th>4</th>\n",
       "      <td>0.140002</td>\n",
       "      <td>0.489759</td>\n",
       "      <td>0.366578</td>\n",
       "      <td>3.660774e-03</td>\n",
       "    </tr>\n",
       "  </tbody>\n",
       "</table>\n",
       "</div>"
      ],
      "text/plain": [
       "       bike       bus       car          walk\n",
       "0  0.059224  0.885900  0.054845  3.114156e-05\n",
       "1  0.084750  0.528871  0.381061  5.318120e-03\n",
       "2  0.002017  0.993032  0.004951  9.387529e-11\n",
       "3  0.136658  0.634632  0.158824  6.988567e-02\n",
       "4  0.140002  0.489759  0.366578  3.660774e-03"
      ]
     },
     "metadata": {},
     "output_type": "display_data"
    }
   ],
   "source": [
    "# Convert probability array to dataframe\n",
    "probability_df = pd.DataFrame(data=probabilities, columns=['bike', 'bus', 'car', 'walk'])\n",
    "display(probability_df.head())"
   ]
  },
  {
   "cell_type": "code",
   "execution_count": 9,
   "id": "0fb83d3c",
   "metadata": {},
   "outputs": [
    {
     "data": {
      "text/html": [
       "<div>\n",
       "<style scoped>\n",
       "    .dataframe tbody tr th:only-of-type {\n",
       "        vertical-align: middle;\n",
       "    }\n",
       "\n",
       "    .dataframe tbody tr th {\n",
       "        vertical-align: top;\n",
       "    }\n",
       "\n",
       "    .dataframe thead th {\n",
       "        text-align: right;\n",
       "    }\n",
       "</style>\n",
       "<table border=\"1\" class=\"dataframe\">\n",
       "  <thead>\n",
       "    <tr style=\"text-align: right;\">\n",
       "      <th></th>\n",
       "      <th>id</th>\n",
       "      <th>mode</th>\n",
       "      <th>time.car</th>\n",
       "      <th>cost.car</th>\n",
       "      <th>time.bus</th>\n",
       "      <th>cost.bus</th>\n",
       "      <th>time.bike</th>\n",
       "      <th>cost.bike</th>\n",
       "      <th>time.walk</th>\n",
       "      <th>cost.walk</th>\n",
       "      <th>age</th>\n",
       "      <th>income</th>\n",
       "      <th>marital_status</th>\n",
       "    </tr>\n",
       "  </thead>\n",
       "  <tbody>\n",
       "    <tr>\n",
       "      <th>0</th>\n",
       "      <td>1</td>\n",
       "      <td>bus</td>\n",
       "      <td>16</td>\n",
       "      <td>0.82</td>\n",
       "      <td>20</td>\n",
       "      <td>0</td>\n",
       "      <td>20</td>\n",
       "      <td>0</td>\n",
       "      <td>55</td>\n",
       "      <td>0</td>\n",
       "      <td>33</td>\n",
       "      <td>28</td>\n",
       "      <td>married</td>\n",
       "    </tr>\n",
       "    <tr>\n",
       "      <th>1</th>\n",
       "      <td>2</td>\n",
       "      <td>car</td>\n",
       "      <td>10</td>\n",
       "      <td>0.59</td>\n",
       "      <td>16</td>\n",
       "      <td>0</td>\n",
       "      <td>15</td>\n",
       "      <td>0</td>\n",
       "      <td>34</td>\n",
       "      <td>0</td>\n",
       "      <td>25</td>\n",
       "      <td>28</td>\n",
       "      <td>single</td>\n",
       "    </tr>\n",
       "    <tr>\n",
       "      <th>2</th>\n",
       "      <td>3</td>\n",
       "      <td>bus</td>\n",
       "      <td>21</td>\n",
       "      <td>1.78</td>\n",
       "      <td>34</td>\n",
       "      <td>0</td>\n",
       "      <td>39</td>\n",
       "      <td>0</td>\n",
       "      <td>105</td>\n",
       "      <td>0</td>\n",
       "      <td>27</td>\n",
       "      <td>23</td>\n",
       "      <td>single</td>\n",
       "    </tr>\n",
       "    <tr>\n",
       "      <th>3</th>\n",
       "      <td>4</td>\n",
       "      <td>bus</td>\n",
       "      <td>13</td>\n",
       "      <td>0.31</td>\n",
       "      <td>12</td>\n",
       "      <td>0</td>\n",
       "      <td>12</td>\n",
       "      <td>0</td>\n",
       "      <td>24</td>\n",
       "      <td>0</td>\n",
       "      <td>25</td>\n",
       "      <td>21</td>\n",
       "      <td>single</td>\n",
       "    </tr>\n",
       "    <tr>\n",
       "      <th>4</th>\n",
       "      <td>5</td>\n",
       "      <td>bus</td>\n",
       "      <td>11</td>\n",
       "      <td>0.42</td>\n",
       "      <td>16</td>\n",
       "      <td>0</td>\n",
       "      <td>13</td>\n",
       "      <td>0</td>\n",
       "      <td>35</td>\n",
       "      <td>0</td>\n",
       "      <td>26</td>\n",
       "      <td>26</td>\n",
       "      <td>married</td>\n",
       "    </tr>\n",
       "    <tr>\n",
       "      <th>...</th>\n",
       "      <td>...</td>\n",
       "      <td>...</td>\n",
       "      <td>...</td>\n",
       "      <td>...</td>\n",
       "      <td>...</td>\n",
       "      <td>...</td>\n",
       "      <td>...</td>\n",
       "      <td>...</td>\n",
       "      <td>...</td>\n",
       "      <td>...</td>\n",
       "      <td>...</td>\n",
       "      <td>...</td>\n",
       "      <td>...</td>\n",
       "    </tr>\n",
       "    <tr>\n",
       "      <th>995</th>\n",
       "      <td>996</td>\n",
       "      <td>bus</td>\n",
       "      <td>11</td>\n",
       "      <td>0.39</td>\n",
       "      <td>14</td>\n",
       "      <td>0</td>\n",
       "      <td>14</td>\n",
       "      <td>0</td>\n",
       "      <td>34</td>\n",
       "      <td>0</td>\n",
       "      <td>27</td>\n",
       "      <td>22</td>\n",
       "      <td>single</td>\n",
       "    </tr>\n",
       "    <tr>\n",
       "      <th>996</th>\n",
       "      <td>997</td>\n",
       "      <td>bus</td>\n",
       "      <td>11</td>\n",
       "      <td>0.63</td>\n",
       "      <td>14</td>\n",
       "      <td>0</td>\n",
       "      <td>13</td>\n",
       "      <td>0</td>\n",
       "      <td>36</td>\n",
       "      <td>0</td>\n",
       "      <td>28</td>\n",
       "      <td>24</td>\n",
       "      <td>single</td>\n",
       "    </tr>\n",
       "    <tr>\n",
       "      <th>997</th>\n",
       "      <td>998</td>\n",
       "      <td>car</td>\n",
       "      <td>8</td>\n",
       "      <td>0.38</td>\n",
       "      <td>10</td>\n",
       "      <td>0</td>\n",
       "      <td>11</td>\n",
       "      <td>0</td>\n",
       "      <td>27</td>\n",
       "      <td>0</td>\n",
       "      <td>29</td>\n",
       "      <td>25</td>\n",
       "      <td>single</td>\n",
       "    </tr>\n",
       "    <tr>\n",
       "      <th>998</th>\n",
       "      <td>999</td>\n",
       "      <td>bus</td>\n",
       "      <td>14</td>\n",
       "      <td>0.30</td>\n",
       "      <td>10</td>\n",
       "      <td>0</td>\n",
       "      <td>11</td>\n",
       "      <td>0</td>\n",
       "      <td>19</td>\n",
       "      <td>0</td>\n",
       "      <td>28</td>\n",
       "      <td>25</td>\n",
       "      <td>single</td>\n",
       "    </tr>\n",
       "    <tr>\n",
       "      <th>999</th>\n",
       "      <td>1000</td>\n",
       "      <td>bike</td>\n",
       "      <td>7</td>\n",
       "      <td>0.28</td>\n",
       "      <td>11</td>\n",
       "      <td>0</td>\n",
       "      <td>7</td>\n",
       "      <td>0</td>\n",
       "      <td>20</td>\n",
       "      <td>0</td>\n",
       "      <td>24</td>\n",
       "      <td>34</td>\n",
       "      <td>married</td>\n",
       "    </tr>\n",
       "  </tbody>\n",
       "</table>\n",
       "<p>1000 rows × 13 columns</p>\n",
       "</div>"
      ],
      "text/plain": [
       "       id  mode  time.car  cost.car  time.bus  cost.bus  time.bike  cost.bike  \\\n",
       "0       1   bus        16      0.82        20         0         20          0   \n",
       "1       2   car        10      0.59        16         0         15          0   \n",
       "2       3   bus        21      1.78        34         0         39          0   \n",
       "3       4   bus        13      0.31        12         0         12          0   \n",
       "4       5   bus        11      0.42        16         0         13          0   \n",
       "..    ...   ...       ...       ...       ...       ...        ...        ...   \n",
       "995   996   bus        11      0.39        14         0         14          0   \n",
       "996   997   bus        11      0.63        14         0         13          0   \n",
       "997   998   car         8      0.38        10         0         11          0   \n",
       "998   999   bus        14      0.30        10         0         11          0   \n",
       "999  1000  bike         7      0.28        11         0          7          0   \n",
       "\n",
       "     time.walk  cost.walk  age  income marital_status  \n",
       "0           55          0   33      28        married  \n",
       "1           34          0   25      28         single  \n",
       "2          105          0   27      23         single  \n",
       "3           24          0   25      21         single  \n",
       "4           35          0   26      26        married  \n",
       "..         ...        ...  ...     ...            ...  \n",
       "995         34          0   27      22         single  \n",
       "996         36          0   28      24         single  \n",
       "997         27          0   29      25         single  \n",
       "998         19          0   28      25         single  \n",
       "999         20          0   24      34        married  \n",
       "\n",
       "[1000 rows x 13 columns]"
      ]
     },
     "execution_count": 9,
     "metadata": {},
     "output_type": "execute_result"
    }
   ],
   "source": [
    "commute_data"
   ]
  },
  {
   "cell_type": "code",
   "execution_count": 10,
   "id": "5daf4c2a",
   "metadata": {},
   "outputs": [],
   "source": [
    "# Assign predicted probabilities back to the original DataFrame\n",
    "commute_data['probability_bike'] = probability_df['bike']\n",
    "commute_data['probability_bus'] = probability_df['bus']\n",
    "commute_data['probability_car'] = probability_df['car']\n",
    "commute_data['probability_walk'] = probability_df['walk']\n",
    "\n",
    "# Calculate elasticity of cost for each transport mode\n",
    "commute_data['elasticity_bike'] = -(multinomial_model.coeff_[3]) * commute_data['cost.car'] * commute_data['probability_bike']\n",
    "commute_data['elasticity_bus'] = -(multinomial_model.coeff_[3]) * commute_data['cost.car'] * commute_data['probability_bus']\n",
    "commute_data['elasticity_car'] = multinomial_model.coeff_[3] * commute_data['cost.car'] * (1 - commute_data['probability_car'])\n",
    "commute_data['elasticity_walk'] = -(multinomial_model.coeff_[3]) * commute_data['cost.car'] * commute_data['probability_walk']"
   ]
  },
  {
   "cell_type": "code",
   "execution_count": 11,
   "id": "8e155dbe",
   "metadata": {},
   "outputs": [
    {
     "data": {
      "text/html": [
       "<div>\n",
       "<style scoped>\n",
       "    .dataframe tbody tr th:only-of-type {\n",
       "        vertical-align: middle;\n",
       "    }\n",
       "\n",
       "    .dataframe tbody tr th {\n",
       "        vertical-align: top;\n",
       "    }\n",
       "\n",
       "    .dataframe thead th {\n",
       "        text-align: right;\n",
       "    }\n",
       "</style>\n",
       "<table border=\"1\" class=\"dataframe\">\n",
       "  <thead>\n",
       "    <tr style=\"text-align: right;\">\n",
       "      <th></th>\n",
       "      <th>id</th>\n",
       "      <th>mode</th>\n",
       "      <th>time.car</th>\n",
       "      <th>cost.car</th>\n",
       "      <th>time.bus</th>\n",
       "      <th>cost.bus</th>\n",
       "      <th>time.bike</th>\n",
       "      <th>cost.bike</th>\n",
       "      <th>time.walk</th>\n",
       "      <th>cost.walk</th>\n",
       "      <th>...</th>\n",
       "      <th>income</th>\n",
       "      <th>marital_status</th>\n",
       "      <th>probability_bike</th>\n",
       "      <th>probability_bus</th>\n",
       "      <th>probability_car</th>\n",
       "      <th>probability_walk</th>\n",
       "      <th>elasticity_bike</th>\n",
       "      <th>elasticity_bus</th>\n",
       "      <th>elasticity_car</th>\n",
       "      <th>elasticity_walk</th>\n",
       "    </tr>\n",
       "  </thead>\n",
       "  <tbody>\n",
       "    <tr>\n",
       "      <th>0</th>\n",
       "      <td>1</td>\n",
       "      <td>bus</td>\n",
       "      <td>16</td>\n",
       "      <td>0.82</td>\n",
       "      <td>20</td>\n",
       "      <td>0</td>\n",
       "      <td>20</td>\n",
       "      <td>0</td>\n",
       "      <td>55</td>\n",
       "      <td>0</td>\n",
       "      <td>...</td>\n",
       "      <td>28</td>\n",
       "      <td>married</td>\n",
       "      <td>0.059224</td>\n",
       "      <td>0.885900</td>\n",
       "      <td>0.054845</td>\n",
       "      <td>3.114156e-05</td>\n",
       "      <td>0.126479</td>\n",
       "      <td>1.891946</td>\n",
       "      <td>-2.018492</td>\n",
       "      <td>6.650652e-05</td>\n",
       "    </tr>\n",
       "    <tr>\n",
       "      <th>1</th>\n",
       "      <td>2</td>\n",
       "      <td>car</td>\n",
       "      <td>10</td>\n",
       "      <td>0.59</td>\n",
       "      <td>16</td>\n",
       "      <td>0</td>\n",
       "      <td>15</td>\n",
       "      <td>0</td>\n",
       "      <td>34</td>\n",
       "      <td>0</td>\n",
       "      <td>...</td>\n",
       "      <td>28</td>\n",
       "      <td>single</td>\n",
       "      <td>0.084750</td>\n",
       "      <td>0.528871</td>\n",
       "      <td>0.381061</td>\n",
       "      <td>5.318120e-03</td>\n",
       "      <td>0.130228</td>\n",
       "      <td>0.812665</td>\n",
       "      <td>-0.951064</td>\n",
       "      <td>8.171846e-03</td>\n",
       "    </tr>\n",
       "    <tr>\n",
       "      <th>2</th>\n",
       "      <td>3</td>\n",
       "      <td>bus</td>\n",
       "      <td>21</td>\n",
       "      <td>1.78</td>\n",
       "      <td>34</td>\n",
       "      <td>0</td>\n",
       "      <td>39</td>\n",
       "      <td>0</td>\n",
       "      <td>105</td>\n",
       "      <td>0</td>\n",
       "      <td>...</td>\n",
       "      <td>23</td>\n",
       "      <td>single</td>\n",
       "      <td>0.002017</td>\n",
       "      <td>0.993032</td>\n",
       "      <td>0.004951</td>\n",
       "      <td>9.387529e-11</td>\n",
       "      <td>0.009350</td>\n",
       "      <td>4.603556</td>\n",
       "      <td>-4.612906</td>\n",
       "      <td>4.351924e-10</td>\n",
       "    </tr>\n",
       "    <tr>\n",
       "      <th>3</th>\n",
       "      <td>4</td>\n",
       "      <td>bus</td>\n",
       "      <td>13</td>\n",
       "      <td>0.31</td>\n",
       "      <td>12</td>\n",
       "      <td>0</td>\n",
       "      <td>12</td>\n",
       "      <td>0</td>\n",
       "      <td>24</td>\n",
       "      <td>0</td>\n",
       "      <td>...</td>\n",
       "      <td>21</td>\n",
       "      <td>single</td>\n",
       "      <td>0.136658</td>\n",
       "      <td>0.634632</td>\n",
       "      <td>0.158824</td>\n",
       "      <td>6.988567e-02</td>\n",
       "      <td>0.110333</td>\n",
       "      <td>0.512382</td>\n",
       "      <td>-0.679139</td>\n",
       "      <td>5.642348e-02</td>\n",
       "    </tr>\n",
       "    <tr>\n",
       "      <th>4</th>\n",
       "      <td>5</td>\n",
       "      <td>bus</td>\n",
       "      <td>11</td>\n",
       "      <td>0.42</td>\n",
       "      <td>16</td>\n",
       "      <td>0</td>\n",
       "      <td>13</td>\n",
       "      <td>0</td>\n",
       "      <td>35</td>\n",
       "      <td>0</td>\n",
       "      <td>...</td>\n",
       "      <td>26</td>\n",
       "      <td>married</td>\n",
       "      <td>0.140002</td>\n",
       "      <td>0.489759</td>\n",
       "      <td>0.366578</td>\n",
       "      <td>3.660774e-03</td>\n",
       "      <td>0.153142</td>\n",
       "      <td>0.535724</td>\n",
       "      <td>-0.692871</td>\n",
       "      <td>4.004352e-03</td>\n",
       "    </tr>\n",
       "    <tr>\n",
       "      <th>...</th>\n",
       "      <td>...</td>\n",
       "      <td>...</td>\n",
       "      <td>...</td>\n",
       "      <td>...</td>\n",
       "      <td>...</td>\n",
       "      <td>...</td>\n",
       "      <td>...</td>\n",
       "      <td>...</td>\n",
       "      <td>...</td>\n",
       "      <td>...</td>\n",
       "      <td>...</td>\n",
       "      <td>...</td>\n",
       "      <td>...</td>\n",
       "      <td>...</td>\n",
       "      <td>...</td>\n",
       "      <td>...</td>\n",
       "      <td>...</td>\n",
       "      <td>...</td>\n",
       "      <td>...</td>\n",
       "      <td>...</td>\n",
       "      <td>...</td>\n",
       "    </tr>\n",
       "    <tr>\n",
       "      <th>995</th>\n",
       "      <td>996</td>\n",
       "      <td>bus</td>\n",
       "      <td>11</td>\n",
       "      <td>0.39</td>\n",
       "      <td>14</td>\n",
       "      <td>0</td>\n",
       "      <td>14</td>\n",
       "      <td>0</td>\n",
       "      <td>34</td>\n",
       "      <td>0</td>\n",
       "      <td>...</td>\n",
       "      <td>22</td>\n",
       "      <td>single</td>\n",
       "      <td>0.090500</td>\n",
       "      <td>0.563037</td>\n",
       "      <td>0.342211</td>\n",
       "      <td>4.251921e-03</td>\n",
       "      <td>0.091923</td>\n",
       "      <td>0.571889</td>\n",
       "      <td>-0.668131</td>\n",
       "      <td>4.318768e-03</td>\n",
       "    </tr>\n",
       "    <tr>\n",
       "      <th>996</th>\n",
       "      <td>997</td>\n",
       "      <td>bus</td>\n",
       "      <td>11</td>\n",
       "      <td>0.63</td>\n",
       "      <td>14</td>\n",
       "      <td>0</td>\n",
       "      <td>13</td>\n",
       "      <td>0</td>\n",
       "      <td>36</td>\n",
       "      <td>0</td>\n",
       "      <td>...</td>\n",
       "      <td>24</td>\n",
       "      <td>single</td>\n",
       "      <td>0.139027</td>\n",
       "      <td>0.647600</td>\n",
       "      <td>0.210671</td>\n",
       "      <td>2.702213e-03</td>\n",
       "      <td>0.228113</td>\n",
       "      <td>1.062570</td>\n",
       "      <td>-1.295117</td>\n",
       "      <td>4.433739e-03</td>\n",
       "    </tr>\n",
       "    <tr>\n",
       "      <th>997</th>\n",
       "      <td>998</td>\n",
       "      <td>car</td>\n",
       "      <td>8</td>\n",
       "      <td>0.38</td>\n",
       "      <td>10</td>\n",
       "      <td>0</td>\n",
       "      <td>11</td>\n",
       "      <td>0</td>\n",
       "      <td>27</td>\n",
       "      <td>0</td>\n",
       "      <td>...</td>\n",
       "      <td>25</td>\n",
       "      <td>single</td>\n",
       "      <td>0.088717</td>\n",
       "      <td>0.410749</td>\n",
       "      <td>0.486582</td>\n",
       "      <td>1.395174e-02</td>\n",
       "      <td>0.087802</td>\n",
       "      <td>0.406509</td>\n",
       "      <td>-0.508118</td>\n",
       "      <td>1.380772e-02</td>\n",
       "    </tr>\n",
       "    <tr>\n",
       "      <th>998</th>\n",
       "      <td>999</td>\n",
       "      <td>bus</td>\n",
       "      <td>14</td>\n",
       "      <td>0.30</td>\n",
       "      <td>10</td>\n",
       "      <td>0</td>\n",
       "      <td>11</td>\n",
       "      <td>0</td>\n",
       "      <td>19</td>\n",
       "      <td>0</td>\n",
       "      <td>...</td>\n",
       "      <td>25</td>\n",
       "      <td>single</td>\n",
       "      <td>0.126375</td>\n",
       "      <td>0.585100</td>\n",
       "      <td>0.075306</td>\n",
       "      <td>2.132184e-01</td>\n",
       "      <td>0.098740</td>\n",
       "      <td>0.457153</td>\n",
       "      <td>-0.722486</td>\n",
       "      <td>1.665927e-01</td>\n",
       "    </tr>\n",
       "    <tr>\n",
       "      <th>999</th>\n",
       "      <td>1000</td>\n",
       "      <td>bike</td>\n",
       "      <td>7</td>\n",
       "      <td>0.28</td>\n",
       "      <td>11</td>\n",
       "      <td>0</td>\n",
       "      <td>7</td>\n",
       "      <td>0</td>\n",
       "      <td>20</td>\n",
       "      <td>0</td>\n",
       "      <td>...</td>\n",
       "      <td>34</td>\n",
       "      <td>married</td>\n",
       "      <td>0.166479</td>\n",
       "      <td>0.209906</td>\n",
       "      <td>0.558004</td>\n",
       "      <td>6.561174e-02</td>\n",
       "      <td>0.121402</td>\n",
       "      <td>0.153071</td>\n",
       "      <td>-0.322320</td>\n",
       "      <td>4.784644e-02</td>\n",
       "    </tr>\n",
       "  </tbody>\n",
       "</table>\n",
       "<p>1000 rows × 21 columns</p>\n",
       "</div>"
      ],
      "text/plain": [
       "       id  mode  time.car  cost.car  time.bus  cost.bus  time.bike  cost.bike  \\\n",
       "0       1   bus        16      0.82        20         0         20          0   \n",
       "1       2   car        10      0.59        16         0         15          0   \n",
       "2       3   bus        21      1.78        34         0         39          0   \n",
       "3       4   bus        13      0.31        12         0         12          0   \n",
       "4       5   bus        11      0.42        16         0         13          0   \n",
       "..    ...   ...       ...       ...       ...       ...        ...        ...   \n",
       "995   996   bus        11      0.39        14         0         14          0   \n",
       "996   997   bus        11      0.63        14         0         13          0   \n",
       "997   998   car         8      0.38        10         0         11          0   \n",
       "998   999   bus        14      0.30        10         0         11          0   \n",
       "999  1000  bike         7      0.28        11         0          7          0   \n",
       "\n",
       "     time.walk  cost.walk  ...  income  marital_status probability_bike  \\\n",
       "0           55          0  ...      28         married         0.059224   \n",
       "1           34          0  ...      28          single         0.084750   \n",
       "2          105          0  ...      23          single         0.002017   \n",
       "3           24          0  ...      21          single         0.136658   \n",
       "4           35          0  ...      26         married         0.140002   \n",
       "..         ...        ...  ...     ...             ...              ...   \n",
       "995         34          0  ...      22          single         0.090500   \n",
       "996         36          0  ...      24          single         0.139027   \n",
       "997         27          0  ...      25          single         0.088717   \n",
       "998         19          0  ...      25          single         0.126375   \n",
       "999         20          0  ...      34         married         0.166479   \n",
       "\n",
       "     probability_bus  probability_car  probability_walk  elasticity_bike  \\\n",
       "0           0.885900         0.054845      3.114156e-05         0.126479   \n",
       "1           0.528871         0.381061      5.318120e-03         0.130228   \n",
       "2           0.993032         0.004951      9.387529e-11         0.009350   \n",
       "3           0.634632         0.158824      6.988567e-02         0.110333   \n",
       "4           0.489759         0.366578      3.660774e-03         0.153142   \n",
       "..               ...              ...               ...              ...   \n",
       "995         0.563037         0.342211      4.251921e-03         0.091923   \n",
       "996         0.647600         0.210671      2.702213e-03         0.228113   \n",
       "997         0.410749         0.486582      1.395174e-02         0.087802   \n",
       "998         0.585100         0.075306      2.132184e-01         0.098740   \n",
       "999         0.209906         0.558004      6.561174e-02         0.121402   \n",
       "\n",
       "     elasticity_bus  elasticity_car  elasticity_walk  \n",
       "0          1.891946       -2.018492     6.650652e-05  \n",
       "1          0.812665       -0.951064     8.171846e-03  \n",
       "2          4.603556       -4.612906     4.351924e-10  \n",
       "3          0.512382       -0.679139     5.642348e-02  \n",
       "4          0.535724       -0.692871     4.004352e-03  \n",
       "..              ...             ...              ...  \n",
       "995        0.571889       -0.668131     4.318768e-03  \n",
       "996        1.062570       -1.295117     4.433739e-03  \n",
       "997        0.406509       -0.508118     1.380772e-02  \n",
       "998        0.457153       -0.722486     1.665927e-01  \n",
       "999        0.153071       -0.322320     4.784644e-02  \n",
       "\n",
       "[1000 rows x 21 columns]"
      ]
     },
     "metadata": {},
     "output_type": "display_data"
    }
   ],
   "source": [
    "display(commute_data)"
   ]
  },
  {
   "cell_type": "code",
   "execution_count": 28,
   "id": "8b340180",
   "metadata": {},
   "outputs": [],
   "source": [
    "# Calculate and print descriptive statistics for each mode's elasticity\n",
    "elasticity_bike_stats = commute_data['elasticity_bike'].describe()\n",
    "elasticity_bus_stats = commute_data['elasticity_bus'].describe()\n",
    "elasticity_car_stats = commute_data['elasticity_car'].describe()\n",
    "elasticity_walk_stats = commute_data['elasticity_walk'].describe()"
   ]
  },
  {
   "cell_type": "markdown",
   "id": "29a28e65",
   "metadata": {},
   "source": [
    "Elasticity statistics for each mode:"
   ]
  },
  {
   "cell_type": "code",
   "execution_count": 29,
   "id": "3d2e27e8",
   "metadata": {},
   "outputs": [
    {
     "data": {
      "text/plain": [
       "count    1000.000000\n",
       "mean        0.103111\n",
       "std         0.050377\n",
       "min         0.004748\n",
       "25%         0.066997\n",
       "50%         0.094398\n",
       "75%         0.126483\n",
       "max         0.360026\n",
       "Name: elasticity_bike, dtype: float64"
      ]
     },
     "execution_count": 29,
     "metadata": {},
     "output_type": "execute_result"
    }
   ],
   "source": [
    "elasticity_bike_stats"
   ]
  },
  {
   "cell_type": "markdown",
   "id": "2df6c6dd",
   "metadata": {},
   "source": [
    "- As the cost of driving increases, the probability of biking rises\n",
    "- Biking is an alternative to driving when the costs of driving escalate."
   ]
  },
  {
   "cell_type": "code",
   "execution_count": 30,
   "id": "4f49ec0d",
   "metadata": {},
   "outputs": [
    {
     "data": {
      "text/plain": [
       "count    1000.000000\n",
       "mean        0.581732\n",
       "std         0.586675\n",
       "min         0.032940\n",
       "25%         0.198038\n",
       "50%         0.361621\n",
       "75%         0.727588\n",
       "max         4.603556\n",
       "Name: elasticity_bus, dtype: float64"
      ]
     },
     "execution_count": 30,
     "metadata": {},
     "output_type": "execute_result"
    }
   ],
   "source": [
    "elasticity_bus_stats"
   ]
  },
  {
   "cell_type": "markdown",
   "id": "2c26a92f",
   "metadata": {},
   "source": [
    "- As the cost of driving increases, the probability of choosing bus significantly rises.\n",
    "- Bus is an alternative to driving when the costs of driving escalate."
   ]
  },
  {
   "cell_type": "code",
   "execution_count": 31,
   "id": "2fa7e3e1",
   "metadata": {},
   "outputs": [
    {
     "data": {
      "text/plain": [
       "count    1000.000000\n",
       "mean       -0.723662\n",
       "std         0.564411\n",
       "min        -4.612906\n",
       "25%        -0.875862\n",
       "50%        -0.525610\n",
       "75%        -0.354964\n",
       "max        -0.108784\n",
       "Name: elasticity_car, dtype: float64"
      ]
     },
     "execution_count": 31,
     "metadata": {},
     "output_type": "execute_result"
    }
   ],
   "source": [
    "elasticity_car_stats"
   ]
  },
  {
   "cell_type": "markdown",
   "id": "ca199c05",
   "metadata": {},
   "source": [
    "- Higher driving costs result in a decreased probability of choose to drive.\n",
    "- Increasing driving costs encourage individuals to opt for alternatives such as biking or taking the bus"
   ]
  },
  {
   "cell_type": "code",
   "execution_count": 32,
   "id": "b29cf2f3",
   "metadata": {},
   "outputs": [
    {
     "data": {
      "text/plain": [
       "count    1.000000e+03\n",
       "mean     3.881956e-02\n",
       "std      4.490099e-02\n",
       "min      4.152576e-12\n",
       "25%      2.888616e-03\n",
       "50%      2.026506e-02\n",
       "75%      6.216582e-02\n",
       "max      2.656858e-01\n",
       "Name: elasticity_walk, dtype: float64"
      ]
     },
     "execution_count": 32,
     "metadata": {},
     "output_type": "execute_result"
    }
   ],
   "source": [
    "elasticity_walk_stats"
   ]
  },
  {
   "cell_type": "markdown",
   "id": "81978825",
   "metadata": {},
   "source": [
    "- The probability of opting to walk remains unchanged despite rising driving costs\n",
    "- Walking is not a practical substitute for driving"
   ]
  },
  {
   "cell_type": "markdown",
   "id": "b2cae22e",
   "metadata": {},
   "source": [
    "The model from above is estimated on two subsets of the data based on student marital status. Two separate models are estimated: one using only single students and another using only married students."
   ]
  },
  {
   "cell_type": "code",
   "execution_count": 13,
   "id": "34495522",
   "metadata": {},
   "outputs": [
    {
     "data": {
      "text/html": [
       "<div>\n",
       "<style scoped>\n",
       "    .dataframe tbody tr th:only-of-type {\n",
       "        vertical-align: middle;\n",
       "    }\n",
       "\n",
       "    .dataframe tbody tr th {\n",
       "        vertical-align: top;\n",
       "    }\n",
       "\n",
       "    .dataframe thead th {\n",
       "        text-align: right;\n",
       "    }\n",
       "</style>\n",
       "<table border=\"1\" class=\"dataframe\">\n",
       "  <thead>\n",
       "    <tr style=\"text-align: right;\">\n",
       "      <th></th>\n",
       "      <th>id</th>\n",
       "      <th>alt</th>\n",
       "      <th>time</th>\n",
       "      <th>cost</th>\n",
       "      <th>mode</th>\n",
       "      <th>age</th>\n",
       "      <th>income</th>\n",
       "      <th>marital_status</th>\n",
       "      <th>time_bike</th>\n",
       "      <th>time_bus</th>\n",
       "      <th>time_car</th>\n",
       "      <th>time_walk</th>\n",
       "    </tr>\n",
       "  </thead>\n",
       "  <tbody>\n",
       "    <tr>\n",
       "      <th>0</th>\n",
       "      <td>1</td>\n",
       "      <td>bike</td>\n",
       "      <td>20</td>\n",
       "      <td>0.00</td>\n",
       "      <td>bus</td>\n",
       "      <td>33</td>\n",
       "      <td>28</td>\n",
       "      <td>married</td>\n",
       "      <td>20</td>\n",
       "      <td>0</td>\n",
       "      <td>0</td>\n",
       "      <td>0</td>\n",
       "    </tr>\n",
       "    <tr>\n",
       "      <th>1</th>\n",
       "      <td>1</td>\n",
       "      <td>bus</td>\n",
       "      <td>20</td>\n",
       "      <td>0.00</td>\n",
       "      <td>bus</td>\n",
       "      <td>33</td>\n",
       "      <td>28</td>\n",
       "      <td>married</td>\n",
       "      <td>0</td>\n",
       "      <td>20</td>\n",
       "      <td>0</td>\n",
       "      <td>0</td>\n",
       "    </tr>\n",
       "    <tr>\n",
       "      <th>2</th>\n",
       "      <td>1</td>\n",
       "      <td>car</td>\n",
       "      <td>16</td>\n",
       "      <td>0.82</td>\n",
       "      <td>bus</td>\n",
       "      <td>33</td>\n",
       "      <td>28</td>\n",
       "      <td>married</td>\n",
       "      <td>0</td>\n",
       "      <td>0</td>\n",
       "      <td>16</td>\n",
       "      <td>0</td>\n",
       "    </tr>\n",
       "    <tr>\n",
       "      <th>3</th>\n",
       "      <td>1</td>\n",
       "      <td>walk</td>\n",
       "      <td>55</td>\n",
       "      <td>0.00</td>\n",
       "      <td>bus</td>\n",
       "      <td>33</td>\n",
       "      <td>28</td>\n",
       "      <td>married</td>\n",
       "      <td>0</td>\n",
       "      <td>0</td>\n",
       "      <td>0</td>\n",
       "      <td>55</td>\n",
       "    </tr>\n",
       "    <tr>\n",
       "      <th>16</th>\n",
       "      <td>5</td>\n",
       "      <td>bike</td>\n",
       "      <td>13</td>\n",
       "      <td>0.00</td>\n",
       "      <td>bus</td>\n",
       "      <td>26</td>\n",
       "      <td>26</td>\n",
       "      <td>married</td>\n",
       "      <td>13</td>\n",
       "      <td>0</td>\n",
       "      <td>0</td>\n",
       "      <td>0</td>\n",
       "    </tr>\n",
       "  </tbody>\n",
       "</table>\n",
       "</div>"
      ],
      "text/plain": [
       "    id   alt  time  cost mode  age  income marital_status  time_bike  \\\n",
       "0    1  bike    20  0.00  bus   33      28        married         20   \n",
       "1    1   bus    20  0.00  bus   33      28        married          0   \n",
       "2    1   car    16  0.82  bus   33      28        married          0   \n",
       "3    1  walk    55  0.00  bus   33      28        married          0   \n",
       "16   5  bike    13  0.00  bus   26      26        married         13   \n",
       "\n",
       "    time_bus  time_car  time_walk  \n",
       "0          0         0          0  \n",
       "1         20         0          0  \n",
       "2          0        16          0  \n",
       "3          0         0         55  \n",
       "16         0         0          0  "
      ]
     },
     "execution_count": 13,
     "metadata": {},
     "output_type": "execute_result"
    }
   ],
   "source": [
    "# Filter data for married\n",
    "commute_married = commute_long_format[commute_long_format['marital_status'] == 'married']\n",
    "commute_married.head(5)"
   ]
  },
  {
   "cell_type": "code",
   "execution_count": 14,
   "id": "d735d254",
   "metadata": {},
   "outputs": [
    {
     "data": {
      "text/html": [
       "<div>\n",
       "<style scoped>\n",
       "    .dataframe tbody tr th:only-of-type {\n",
       "        vertical-align: middle;\n",
       "    }\n",
       "\n",
       "    .dataframe tbody tr th {\n",
       "        vertical-align: top;\n",
       "    }\n",
       "\n",
       "    .dataframe thead th {\n",
       "        text-align: right;\n",
       "    }\n",
       "</style>\n",
       "<table border=\"1\" class=\"dataframe\">\n",
       "  <thead>\n",
       "    <tr style=\"text-align: right;\">\n",
       "      <th></th>\n",
       "      <th>id</th>\n",
       "      <th>alt</th>\n",
       "      <th>time</th>\n",
       "      <th>cost</th>\n",
       "      <th>mode</th>\n",
       "      <th>age</th>\n",
       "      <th>income</th>\n",
       "      <th>marital_status</th>\n",
       "      <th>time_bike</th>\n",
       "      <th>time_bus</th>\n",
       "      <th>time_car</th>\n",
       "      <th>time_walk</th>\n",
       "    </tr>\n",
       "  </thead>\n",
       "  <tbody>\n",
       "    <tr>\n",
       "      <th>4</th>\n",
       "      <td>2</td>\n",
       "      <td>bike</td>\n",
       "      <td>15</td>\n",
       "      <td>0.00</td>\n",
       "      <td>car</td>\n",
       "      <td>25</td>\n",
       "      <td>28</td>\n",
       "      <td>single</td>\n",
       "      <td>15</td>\n",
       "      <td>0</td>\n",
       "      <td>0</td>\n",
       "      <td>0</td>\n",
       "    </tr>\n",
       "    <tr>\n",
       "      <th>5</th>\n",
       "      <td>2</td>\n",
       "      <td>bus</td>\n",
       "      <td>16</td>\n",
       "      <td>0.00</td>\n",
       "      <td>car</td>\n",
       "      <td>25</td>\n",
       "      <td>28</td>\n",
       "      <td>single</td>\n",
       "      <td>0</td>\n",
       "      <td>16</td>\n",
       "      <td>0</td>\n",
       "      <td>0</td>\n",
       "    </tr>\n",
       "    <tr>\n",
       "      <th>6</th>\n",
       "      <td>2</td>\n",
       "      <td>car</td>\n",
       "      <td>10</td>\n",
       "      <td>0.59</td>\n",
       "      <td>car</td>\n",
       "      <td>25</td>\n",
       "      <td>28</td>\n",
       "      <td>single</td>\n",
       "      <td>0</td>\n",
       "      <td>0</td>\n",
       "      <td>10</td>\n",
       "      <td>0</td>\n",
       "    </tr>\n",
       "    <tr>\n",
       "      <th>7</th>\n",
       "      <td>2</td>\n",
       "      <td>walk</td>\n",
       "      <td>34</td>\n",
       "      <td>0.00</td>\n",
       "      <td>car</td>\n",
       "      <td>25</td>\n",
       "      <td>28</td>\n",
       "      <td>single</td>\n",
       "      <td>0</td>\n",
       "      <td>0</td>\n",
       "      <td>0</td>\n",
       "      <td>34</td>\n",
       "    </tr>\n",
       "    <tr>\n",
       "      <th>8</th>\n",
       "      <td>3</td>\n",
       "      <td>bike</td>\n",
       "      <td>39</td>\n",
       "      <td>0.00</td>\n",
       "      <td>bus</td>\n",
       "      <td>27</td>\n",
       "      <td>23</td>\n",
       "      <td>single</td>\n",
       "      <td>39</td>\n",
       "      <td>0</td>\n",
       "      <td>0</td>\n",
       "      <td>0</td>\n",
       "    </tr>\n",
       "  </tbody>\n",
       "</table>\n",
       "</div>"
      ],
      "text/plain": [
       "   id   alt  time  cost mode  age  income marital_status  time_bike  time_bus  \\\n",
       "4   2  bike    15  0.00  car   25      28         single         15         0   \n",
       "5   2   bus    16  0.00  car   25      28         single          0        16   \n",
       "6   2   car    10  0.59  car   25      28         single          0         0   \n",
       "7   2  walk    34  0.00  car   25      28         single          0         0   \n",
       "8   3  bike    39  0.00  bus   27      23         single         39         0   \n",
       "\n",
       "   time_car  time_walk  \n",
       "4         0          0  \n",
       "5         0          0  \n",
       "6        10          0  \n",
       "7         0         34  \n",
       "8         0          0  "
      ]
     },
     "execution_count": 14,
     "metadata": {},
     "output_type": "execute_result"
    }
   ],
   "source": [
    "# Filter data for single\n",
    "commute_single = commute_long_format[commute_long_format['marital_status'] == 'single']\n",
    "commute_single.head(5)"
   ]
  },
  {
   "cell_type": "code",
   "execution_count": 15,
   "id": "058f944d",
   "metadata": {},
   "outputs": [
    {
     "name": "stdout",
     "output_type": "stream",
     "text": [
      "Optimization terminated successfully.\n",
      "    Message: The gradients are close to zero\n",
      "    Iterations: 23\n",
      "    Function evaluations: 26\n",
      "Estimation time= 0.0 seconds\n",
      "---------------------------------------------------------------------------\n",
      "Coefficient              Estimate      Std.Err.         z-val         P>|z|\n",
      "---------------------------------------------------------------------------\n",
      "_intercept.bus          0.1545220     0.7989979     0.1933947         0.847    \n",
      "_intercept.car          4.7810887     0.9873887     4.8421547      1.89e-06 ***\n",
      "_intercept.walk         4.6099622     2.4525657     1.8796488        0.0609 .  \n",
      "cost                   -2.7267326     1.4890648    -1.8311713        0.0679 .  \n",
      "time_bike              -0.3622597     0.0781677    -4.6343911      4.97e-06 ***\n",
      "time_bus               -0.1821377     0.0589755    -3.0883645       0.00216 ** \n",
      "time_car               -0.6565683     0.1008491    -6.5104060      2.44e-10 ***\n",
      "time_walk              -0.4391819     0.1305149    -3.3649936      0.000846 ***\n",
      "---------------------------------------------------------------------------\n",
      "Significance:  0 '***' 0.001 '**' 0.01 '*' 0.05 '.' 0.1 ' ' 1\n",
      "\n",
      "Log-Likelihood= -292.073\n",
      "AIC= 600.147\n",
      "BIC= 631.455\n"
     ]
    }
   ],
   "source": [
    "# Analysis for married\n",
    "predictors = ['cost', 'time_bike', 'time_bus', 'time_car', 'time_walk']\n",
    "multinomial_model_married = MultinomialLogit()\n",
    "multinomial_model_married.fit(X=commute_married[predictors],\n",
    "                              y=commute_married['mode'],\n",
    "                              varnames=predictors,\n",
    "                              ids=commute_married['id'],\n",
    "                              alts=commute_married['alt'],\n",
    "                              fit_intercept=True,\n",
    "                              base_alt='bike')\n",
    "# Display model summary for married\n",
    "multinomial_model_married.summary()"
   ]
  },
  {
   "attachments": {},
   "cell_type": "markdown",
   "id": "61a0b913",
   "metadata": {},
   "source": [
    "The estimated coefficients and standard errors from both models are reported. These results are then interpreted, providing insights into the meaning of each coefficient and its significance in the context of commuting decisions.\n",
    "\n",
    "1. Car and walking provides more utility than biking (4.78 and 4.61 > 0)\n",
    "2. The intercept of car and walking are statistically significant\n",
    "3. Bus provides the same utility as bike, the parameter is positive but not statistically significant (0.15 > 0)\n",
    "4. An additional $1 of cost reduces utility by 2.726\n",
    "5. An additional 1 unit of time reduces utility by 0.18, 0.66, 0.44, 0.36 for bus, car, walk, and bike respectively."
   ]
  },
  {
   "cell_type": "code",
   "execution_count": 16,
   "id": "62e44185",
   "metadata": {},
   "outputs": [
    {
     "name": "stdout",
     "output_type": "stream",
     "text": [
      "Optimization terminated successfully.\n",
      "    Message: The gradients are close to zero\n",
      "    Iterations: 16\n",
      "    Function evaluations: 17\n",
      "Estimation time= 0.0 seconds\n",
      "---------------------------------------------------------------------------\n",
      "Coefficient              Estimate      Std.Err.         z-val         P>|z|\n",
      "---------------------------------------------------------------------------\n",
      "_intercept.bus         -0.5526737     0.4516036    -1.2238029         0.221    \n",
      "_intercept.car          1.9349108     0.4985726     3.8809007      0.000115 ***\n",
      "_intercept.walk         2.6879916     0.8151522     3.2975336       0.00103 ** \n",
      "cost                   -2.7118302     1.0189202    -2.6614746       0.00798 ** \n",
      "time_bike              -0.2728774     0.0461655    -5.9108446      5.58e-09 ***\n",
      "time_bus               -0.1283785     0.0445253    -2.8832678       0.00407 ** \n",
      "time_car               -0.3162543     0.0532433    -5.9397916      4.72e-09 ***\n",
      "time_walk              -0.2695386     0.0395454    -6.8159264       2.2e-11 ***\n",
      "---------------------------------------------------------------------------\n",
      "Significance:  0 '***' 0.001 '**' 0.01 '*' 0.05 '.' 0.1 ' ' 1\n",
      "\n",
      "Log-Likelihood= -666.605\n",
      "AIC= 1349.210\n",
      "BIC= 1384.776\n"
     ]
    }
   ],
   "source": [
    "# Analysis for singles\n",
    "multinomial_model_single = MultinomialLogit()\n",
    "multinomial_model_single.fit(X=commute_single[predictors],\n",
    "                             y=commute_single['mode'],\n",
    "                             varnames=predictors,\n",
    "                             ids=commute_single['id'],\n",
    "                             alts=commute_single['alt'],\n",
    "                             fit_intercept=True,\n",
    "                             base_alt='bike')\n",
    "# Display model summary\n",
    "multinomial_model_single.summary()"
   ]
  },
  {
   "cell_type": "markdown",
   "id": "f0d9f5fa",
   "metadata": {},
   "source": [
    "\n",
    "1. Car and walking provide more utility than biking (1.93 and 2.68 > 0) \n",
    "2. The intercepts of car and walking are statistically significant\n",
    "3.  Bus provides the same utility as bike, the parameter is negative but not statistically significant (-0.553 < 0)\n",
    "4.  An additional $1 of cost reduces utility by 2.71\n",
    "5. An additional 1 unit of time reduces utility by 0.13, 0.32, 0.27, 0.27 for bus, car, walk and bike respectively"
   ]
  },
  {
   "cell_type": "markdown",
   "id": "84178557",
   "metadata": {},
   "source": [
    "The sizes of impact of transportation modes and time are larger for married students than for single students"
   ]
  },
  {
   "cell_type": "markdown",
   "id": "c5a46675",
   "metadata": {},
   "source": [
    "The comparison of the marginal utility of income for single students to that of married students cannot be directly made using the estimated parameters. This limitation arises due to the absence of explicit income coefficients in the models. Without specific modeling of how changes in income affect utility in each group based on their transportation choice, a direct comparison is not feasible based solely on the provided model summaries.\n",
    "\n",
    "However, it is observed from the cost coefficients that both groups exhibit significant sensitivity to cost changes. This suggests that income considerations inherently influence decision-making through considerations related to cost."
   ]
  },
  {
   "cell_type": "markdown",
   "id": "5b3a9855",
   "metadata": {},
   "source": [
    "For each marital status, the corresponding parameter estimates are used to calculate the dollar value that a student places on one hour of commute time for each of the four commute alternatives. A direct comparison of these dollar values for single students to those for married students can be made. \n",
    "\n",
    "This comparison allows for an understanding of the similarity or difference in these values. It provides insights into how different factors, such as marital status, may influence the valuation of commute time."
   ]
  },
  {
   "cell_type": "markdown",
   "id": "bc87767e",
   "metadata": {},
   "source": [
    "The coefficients on commute time indicate the change in utility (or dollar value placed on commute time) associated with a one-hour increase in commute time for each transportation mode."
   ]
  },
  {
   "cell_type": "markdown",
   "id": "5e3055aa",
   "metadata": {},
   "source": [
    "#### Married"
   ]
  },
  {
   "cell_type": "code",
   "execution_count": 17,
   "id": "cbdf5bc3",
   "metadata": {},
   "outputs": [
    {
     "data": {
      "text/plain": [
       "(-14.447364220310995,\n",
       " -4.0078236201909405,\n",
       " -7.971291459013427,\n",
       " -9.663915649815012)"
      ]
     },
     "execution_count": 17,
     "metadata": {},
     "output_type": "execute_result"
    }
   ],
   "source": [
    "# Extract the coefficients for the model\n",
    "coefficients_married = multinomial_model_married.coeff_\n",
    "\n",
    "# Calculate the value of time for each mode of transport\n",
    "value_of_time_car_married = (-coefficients_married[6] / coefficients_married[3]) * 60  \n",
    "value_of_time_bus_married = (-coefficients_married[5] / coefficients_married[3]) * 60  \n",
    "value_of_time_bike_married = (-coefficients_married[4] / coefficients_married[3]) * 60  \n",
    "value_of_time_walk_married = (-coefficients_married[7] / coefficients_married[3]) * 60   \n",
    "\n",
    "value_of_time_car_married, value_of_time_bus_married, value_of_time_bike_married, value_of_time_walk_married"
   ]
  },
  {
   "cell_type": "markdown",
   "id": "b4be68f2",
   "metadata": {},
   "source": [
    "- The dollar value that a student places on 1 hour driving: 14.45\n",
    "- The dollar value that a student places on 1 hour bus:  4.01\n",
    "- The dollar value that a student places on 1 hour biking: 7.97\n",
    "- The dollar value that a student places on 1 hour walking: 9.66"
   ]
  },
  {
   "cell_type": "markdown",
   "id": "48017f00",
   "metadata": {},
   "source": [
    "##### Singles"
   ]
  },
  {
   "cell_type": "code",
   "execution_count": 18,
   "id": "5a57988e",
   "metadata": {},
   "outputs": [
    {
     "data": {
      "text/plain": [
       "(-6.997215613888858,\n",
       " -2.8404102113682943,\n",
       " -6.037488159073421,\n",
       " -5.963615962715602)"
      ]
     },
     "execution_count": 18,
     "metadata": {},
     "output_type": "execute_result"
    }
   ],
   "source": [
    "# Extract the coefficients for the model\n",
    "coefficients_single = multinomial_model_single.coeff_\n",
    "\n",
    "# Calculate the value of time for each mode of transport\n",
    "value_of_time_car_single = (-coefficients_single[6] / coefficients_single[3]) * 60  \n",
    "value_of_time_bus_single = (-coefficients_single[5] / coefficients_single[3]) * 60  \n",
    "value_of_time_bike_single = (-coefficients_single[4] / coefficients_single[3]) * 60  \n",
    "value_of_time_walk_single = (-coefficients_single[7] / coefficients_single[3]) * 60\n",
    "\n",
    "value_of_time_car_single, value_of_time_bus_single, value_of_time_bike_single, value_of_time_walk_single"
   ]
  },
  {
   "cell_type": "markdown",
   "id": "3be4af22",
   "metadata": {},
   "source": [
    "- The dollar value that a student places on 1 hour driving: 6.997\n",
    "- The dollar value that a student places on 1 hour bus:  2.84\n",
    "- The dollar value that a student places on 1 hour biking: 6.04\n",
    "- The dollar value that a student places on 1 hour walking: 5.96"
   ]
  },
  {
   "cell_type": "markdown",
   "id": "ed4b12cc",
   "metadata": {},
   "source": [
    "##### Comparison\n",
    "\n",
    "We can compare these dollar values for single students to those for married students. If we compare the two groups of dollar values between martial status, we can see that:\n",
    "1. Car: Married students (14.45) have a significantly higher value on one hour of car commute time compared to single students (6.997).\n",
    "2. Bus: The dollar value of one hour of commute time for married students (4.01) is higher (i.e., they value their time more) compared to single students (2.84).\n",
    "4. Biking: Similarly, married students (7.977) value one hour of biking commute time more than single students (6.04).\n",
    "3. Walking: The value of one hour of walking commute time is also higher for married students (9.66) compared to single students (5.96)\n",
    "\n"
   ]
  },
  {
   "cell_type": "markdown",
   "id": "aa2ebf5d",
   "metadata": {},
   "source": [
    "These dollars values on each of the four commuting options are generally higher for the married students than the single students, especially when it comes to driving cars. Also, students generally place the highest value on their time when driving to school and the lowest when taking buses."
   ]
  },
  {
   "cell_type": "markdown",
   "id": "3f863a70",
   "metadata": {},
   "source": [
    "Now, say the university's commitment to environmental sustainability has led to a proposal aimed at encouraging graduate students to take the bus rather than drive to campus. One proposed solution involves introducing more buses on the existing bus routes, thereby reducing bus commute time by 20%.The parameter estimates from part above are utilized to simulate this counterfactual scenario, allowing for an assessment of the potential impact of the proposed intervention on commuting choices.\n",
    "\n",
    "The reduction in bus commute time is expected to influence the commuting choices of additional students among the 1000 students in this dataset. Specifically, it is anticipated that more students will opt to commute by bus due to this reduction in bus commute time. \n",
    "\n",
    "Conversely, fewer students are expected to choose each of the three other commute alternatives as a result of this change. This analysis provides insights into the potential shifts in commuting behavior resulting from changes in bus commute time."
   ]
  },
  {
   "cell_type": "code",
   "execution_count": 3,
   "id": "603a4da4",
   "metadata": {},
   "outputs": [],
   "source": [
    "# Create a modified dataset where bus travel time is reduced by 20%\n",
    "commute_data_adjusted_bus = commute_data.copy()\n",
    "commute_data_adjusted_bus['time.bus'] *= 0.8"
   ]
  },
  {
   "cell_type": "code",
   "execution_count": 20,
   "id": "36d9f2d3",
   "metadata": {},
   "outputs": [
    {
     "data": {
      "text/html": [
       "<div>\n",
       "<style scoped>\n",
       "    .dataframe tbody tr th:only-of-type {\n",
       "        vertical-align: middle;\n",
       "    }\n",
       "\n",
       "    .dataframe tbody tr th {\n",
       "        vertical-align: top;\n",
       "    }\n",
       "\n",
       "    .dataframe thead th {\n",
       "        text-align: right;\n",
       "    }\n",
       "</style>\n",
       "<table border=\"1\" class=\"dataframe\">\n",
       "  <thead>\n",
       "    <tr style=\"text-align: right;\">\n",
       "      <th></th>\n",
       "      <th>id</th>\n",
       "      <th>alt</th>\n",
       "      <th>time</th>\n",
       "      <th>cost</th>\n",
       "      <th>mode</th>\n",
       "      <th>age</th>\n",
       "      <th>income</th>\n",
       "      <th>marital_status</th>\n",
       "      <th>probability_bike</th>\n",
       "      <th>probability_bus</th>\n",
       "      <th>probability_car</th>\n",
       "      <th>probability_walk</th>\n",
       "      <th>elasticity_bike</th>\n",
       "      <th>elasticity_bus</th>\n",
       "      <th>elasticity_car</th>\n",
       "      <th>elasticity_walk</th>\n",
       "    </tr>\n",
       "  </thead>\n",
       "  <tbody>\n",
       "    <tr>\n",
       "      <th>0</th>\n",
       "      <td>1</td>\n",
       "      <td>bike</td>\n",
       "      <td>20.0</td>\n",
       "      <td>0.00</td>\n",
       "      <td>bus</td>\n",
       "      <td>33</td>\n",
       "      <td>28</td>\n",
       "      <td>married</td>\n",
       "      <td>0.059224</td>\n",
       "      <td>0.885900</td>\n",
       "      <td>0.054845</td>\n",
       "      <td>0.000031</td>\n",
       "      <td>0.126479</td>\n",
       "      <td>1.891946</td>\n",
       "      <td>-2.018492</td>\n",
       "      <td>0.000067</td>\n",
       "    </tr>\n",
       "    <tr>\n",
       "      <th>1</th>\n",
       "      <td>1</td>\n",
       "      <td>bus</td>\n",
       "      <td>16.0</td>\n",
       "      <td>0.00</td>\n",
       "      <td>bus</td>\n",
       "      <td>33</td>\n",
       "      <td>28</td>\n",
       "      <td>married</td>\n",
       "      <td>0.059224</td>\n",
       "      <td>0.885900</td>\n",
       "      <td>0.054845</td>\n",
       "      <td>0.000031</td>\n",
       "      <td>0.126479</td>\n",
       "      <td>1.891946</td>\n",
       "      <td>-2.018492</td>\n",
       "      <td>0.000067</td>\n",
       "    </tr>\n",
       "    <tr>\n",
       "      <th>2</th>\n",
       "      <td>1</td>\n",
       "      <td>car</td>\n",
       "      <td>16.0</td>\n",
       "      <td>0.82</td>\n",
       "      <td>bus</td>\n",
       "      <td>33</td>\n",
       "      <td>28</td>\n",
       "      <td>married</td>\n",
       "      <td>0.059224</td>\n",
       "      <td>0.885900</td>\n",
       "      <td>0.054845</td>\n",
       "      <td>0.000031</td>\n",
       "      <td>0.126479</td>\n",
       "      <td>1.891946</td>\n",
       "      <td>-2.018492</td>\n",
       "      <td>0.000067</td>\n",
       "    </tr>\n",
       "    <tr>\n",
       "      <th>3</th>\n",
       "      <td>1</td>\n",
       "      <td>walk</td>\n",
       "      <td>55.0</td>\n",
       "      <td>0.00</td>\n",
       "      <td>bus</td>\n",
       "      <td>33</td>\n",
       "      <td>28</td>\n",
       "      <td>married</td>\n",
       "      <td>0.059224</td>\n",
       "      <td>0.885900</td>\n",
       "      <td>0.054845</td>\n",
       "      <td>0.000031</td>\n",
       "      <td>0.126479</td>\n",
       "      <td>1.891946</td>\n",
       "      <td>-2.018492</td>\n",
       "      <td>0.000067</td>\n",
       "    </tr>\n",
       "    <tr>\n",
       "      <th>4</th>\n",
       "      <td>2</td>\n",
       "      <td>bike</td>\n",
       "      <td>15.0</td>\n",
       "      <td>0.00</td>\n",
       "      <td>car</td>\n",
       "      <td>25</td>\n",
       "      <td>28</td>\n",
       "      <td>single</td>\n",
       "      <td>0.084750</td>\n",
       "      <td>0.528871</td>\n",
       "      <td>0.381061</td>\n",
       "      <td>0.005318</td>\n",
       "      <td>0.130228</td>\n",
       "      <td>0.812665</td>\n",
       "      <td>-0.951064</td>\n",
       "      <td>0.008172</td>\n",
       "    </tr>\n",
       "  </tbody>\n",
       "</table>\n",
       "</div>"
      ],
      "text/plain": [
       "   id   alt  time  cost mode  age  income marital_status  probability_bike  \\\n",
       "0   1  bike  20.0  0.00  bus   33      28        married          0.059224   \n",
       "1   1   bus  16.0  0.00  bus   33      28        married          0.059224   \n",
       "2   1   car  16.0  0.82  bus   33      28        married          0.059224   \n",
       "3   1  walk  55.0  0.00  bus   33      28        married          0.059224   \n",
       "4   2  bike  15.0  0.00  car   25      28         single          0.084750   \n",
       "\n",
       "   probability_bus  probability_car  probability_walk  elasticity_bike  \\\n",
       "0         0.885900         0.054845          0.000031         0.126479   \n",
       "1         0.885900         0.054845          0.000031         0.126479   \n",
       "2         0.885900         0.054845          0.000031         0.126479   \n",
       "3         0.885900         0.054845          0.000031         0.126479   \n",
       "4         0.528871         0.381061          0.005318         0.130228   \n",
       "\n",
       "   elasticity_bus  elasticity_car  elasticity_walk  \n",
       "0        1.891946       -2.018492         0.000067  \n",
       "1        1.891946       -2.018492         0.000067  \n",
       "2        1.891946       -2.018492         0.000067  \n",
       "3        1.891946       -2.018492         0.000067  \n",
       "4        0.812665       -0.951064         0.008172  "
      ]
     },
     "metadata": {},
     "output_type": "display_data"
    }
   ],
   "source": [
    "# Convert the adjusted dataset from wide to long format\n",
    "commute_long_adjusted_bus = wide_to_long(commute_data_adjusted_bus, id_col='id', alt_name='alt', \n",
    "                                         varying=['time', 'cost'], \n",
    "                                         alt_list=['bike', 'bus', 'car', 'walk'], sep='.', empty_val=0)\n",
    "display(commute_long_adjusted_bus.head(5))"
   ]
  },
  {
   "cell_type": "code",
   "execution_count": 21,
   "id": "37d9b24d",
   "metadata": {},
   "outputs": [],
   "source": [
    "# Calculate time variables for each transportation mode in the adjusted dataset\n",
    "commute_long_adjusted_bus['time_bike'] = commute_long_adjusted_bus['time'] * (commute_long_adjusted_bus['alt'] == 'bike')\n",
    "commute_long_adjusted_bus['time_bus'] = commute_long_adjusted_bus['time'] * (commute_long_adjusted_bus['alt'] == 'bus')\n",
    "commute_long_adjusted_bus['time_car'] = commute_long_adjusted_bus['time'] * (commute_long_adjusted_bus['alt'] == 'car')\n",
    "commute_long_adjusted_bus['time_walk'] = commute_long_adjusted_bus['time'] * (commute_long_adjusted_bus['alt'] == 'walk')\n",
    "\n",
    "# Define variables for model prediction\n",
    "variables = ['cost', 'time_bike', 'time_bus', 'time_car', 'time_walk']\n",
    "\n",
    "# Predict transportation mode probabilities for the original data\n",
    "alter_original, prob_original = multinomial_model.predict(X=commute_long_format[variables],\n",
    "                                              varnames=variables,\n",
    "                                              ids=commute_long_format['id'],\n",
    "                                              alts=commute_long_format['alt'],\n",
    "                                              return_proba=True)\n",
    "# Aggregate the probabilities\n",
    "aggregate_original = pd.DataFrame(data=prob_original, columns=['bike', 'bus', 'car', 'walk']).sum()"
   ]
  },
  {
   "cell_type": "code",
   "execution_count": 22,
   "id": "cc7afa0e",
   "metadata": {},
   "outputs": [
    {
     "name": "stdout",
     "output_type": "stream",
     "text": [
      "bike   -17.646702\n",
      "bus     78.164974\n",
      "car    -54.675649\n",
      "walk    -5.842624\n",
      "dtype: float64\n"
     ]
    }
   ],
   "source": [
    "# Predict transportation mode probabilities for the adjusted bus time data\n",
    "alter_adjusted, prob_adjusted = multinomial_model.predict(X=commute_long_adjusted_bus[variables],\n",
    "                                              varnames=variables,\n",
    "                                              ids=commute_long_adjusted_bus['id'],\n",
    "                                              alts=commute_long_adjusted_bus['alt'],\n",
    "                                              return_proba=True)\n",
    "\n",
    "# Aggregate the probabilities\n",
    "aggregate_adjusted_bus = pd.DataFrame(data=prob_adjusted, columns=['bike', 'bus', 'car', 'walk']).sum()\n",
    "\n",
    "# Calculate and print the differences in aggregated probabilities\n",
    "difference = aggregate_adjusted_bus - aggregate_original\n",
    "print(difference)"
   ]
  },
  {
   "cell_type": "code",
   "execution_count": 23,
   "id": "2f0d55f9",
   "metadata": {},
   "outputs": [
    {
     "name": "stdout",
     "output_type": "stream",
     "text": [
      "bike   -0.156166\n",
      "bus     0.172550\n",
      "car    -0.145802\n",
      "walk   -0.099027\n",
      "dtype: float64\n"
     ]
    }
   ],
   "source": [
    "print(difference / aggregate_original)  # Relative change in probabilities"
   ]
  },
  {
   "cell_type": "markdown",
   "id": "ab07d2e2",
   "metadata": {},
   "source": [
    "- There were 453 bus users at first and because of the reduction in bus commute time, this number is expected to increase by 78 students.\n",
    "- 18 fewer students using bike, 55 fewer students drive car, 6 fewer walk."
   ]
  },
  {
   "cell_type": "markdown",
   "id": "e133648d",
   "metadata": {},
   "source": [
    "##### The reduction in bus commute time is expected to generate additional economic surplus for the 1000 students in this dataset."
   ]
  },
  {
   "cell_type": "code",
   "execution_count": 25,
   "id": "abb85b4d",
   "metadata": {},
   "outputs": [],
   "source": [
    "# Extract coefficients from the model\n",
    "coefficients = multinomial_model.coeff_\n",
    "\n",
    "# Calculate the utility (v_nj) for each alternative in the original dataset\n",
    "commute_long_format['v_nj'] = (\n",
    "    (coefficients[0] + coefficients[3] * commute_long_format['cost'] + coefficients[5] * commute_long_format['time_bus']) * (commute_long_format['alt'] == 'bus') +\n",
    "    (coefficients[1] + coefficients[3] * commute_long_format['cost'] + coefficients[6] * commute_long_format['time_car']) * (commute_long_format['alt'] == 'car') +\n",
    "    (coefficients[2] + coefficients[3] * commute_long_format['cost'] + coefficients[7] * commute_long_format['time_walk']) * (commute_long_format['alt'] == 'walk') +\n",
    "    (coefficients[3] * commute_long_format['cost'] + coefficients[4] * commute_long_format['time_bike']) * (commute_long_format['alt'] == 'bike')\n",
    ")\n",
    "commute_long_format['v_nj'] = np.exp(commute_long_format['v_nj'])\n",
    "\n",
    "# Apply the same calculations for the adjusted bus time dataset\n",
    "commute_long_adjusted_bus['v_nj'] = (\n",
    "    (coefficients[0] + coefficients[3] * commute_long_adjusted_bus['cost'] + coefficients[5] * commute_long_adjusted_bus['time_bus']) * (commute_long_adjusted_bus['alt'] == 'bus') +\n",
    "    (coefficients[1] + coefficients[3] * commute_long_adjusted_bus['cost'] + coefficients[6] * commute_long_adjusted_bus['time_car']) * (commute_long_adjusted_bus['alt'] == 'car') +\n",
    "    (coefficients[2] + coefficients[3] * commute_long_adjusted_bus['cost'] + coefficients[7] * commute_long_adjusted_bus['time_walk']) * (commute_long_adjusted_bus['alt'] == 'walk') +\n",
    "    (coefficients[3] * commute_long_adjusted_bus['cost'] + coefficients[4] * commute_long_adjusted_bus['time_bike']) * (commute_long_adjusted_bus['alt'] == 'bike')\n",
    ")\n",
    "commute_long_adjusted_bus['v_nj'] = np.exp(commute_long_adjusted_bus['v_nj'])\n",
    "\n",
    "# Calculate the log-sum of utilities for both datasets and their difference\n",
    "df1 = commute_long_format.groupby(['id'])['v_nj'].sum().reset_index()\n",
    "df1['log_sum_v'] = np.log(df1['v_nj'])\n",
    "\n",
    "df2 = commute_long_adjusted_bus.groupby(['id'])['v_nj'].sum().reset_index()\n",
    "df2['log_sum_v'] = np.log(df2['v_nj'])"
   ]
  },
  {
   "cell_type": "code",
   "execution_count": 26,
   "id": "12cbcf38",
   "metadata": {},
   "outputs": [],
   "source": [
    "# Calculate the change in log-sum due to the reduced bus time\n",
    "df3 = df1\n",
    "df3['change_in_log_sum'] = (df2['log_sum_v'] - df1['log_sum_v']) / (-coefficients[3])"
   ]
  },
  {
   "cell_type": "code",
   "execution_count": 27,
   "id": "8315c6c6",
   "metadata": {},
   "outputs": [
    {
     "name": "stdout",
     "output_type": "stream",
     "text": [
      "82.74060812045207\n"
     ]
    }
   ],
   "source": [
    "# Sum up the changes and print\n",
    "total_change_in_log_sum = df3['change_in_log_sum'].sum()\n",
    "print(total_change_in_log_sum)"
   ]
  },
  {
   "cell_type": "markdown",
   "id": "525fced6",
   "metadata": {},
   "source": [
    "Economic surplus is expected to increase by 82.74 because of this reduction on bus commute time."
   ]
  },
  {
   "cell_type": "code",
   "execution_count": 1,
   "id": "83842189",
   "metadata": {},
   "outputs": [],
   "source": [
    "import statsmodels.api as sm\n",
    "import statsmodels as sms\n",
    "import statsmodels.formula.api as smf\n",
    "import numpy as np\n",
    "import pandas as pd\n",
    "import matplotlib.pyplot as plt\n",
    "import seaborn as sns\n",
    "from scipy import stats\n",
    "import xlogit\n",
    "from xlogit.utils import wide_to_long\n",
    "from xlogit import MixedLogit\n",
    "from xlogit import MultinomialLogit\n",
    "import scipy\n",
    "from scipy.optimize import minimize\n",
    "from scipy.stats import norm\n",
    "import numpy.linalg as lin"
   ]
  },
  {
   "cell_type": "markdown",
   "id": "2f2d3d79",
   "metadata": {},
   "source": [
    "### Maximum Likelihood Estimation(MLE)\n",
    "\n",
    "The model is being estimated \"by hand\" to better understand the maximum likelihood estimation method for how graduate students in town X choose how to commute to campus in the spring when riding a bike and walking are feasible alternatives."
   ]
  },
  {
   "cell_type": "markdown",
   "id": "e07366ec",
   "metadata": {},
   "source": [
    "The commute choice during spring is modeled as a multinomial logit model. The representative utility of each alternative is expressed as a linear function of its cost and time with common parameters on these variables. Specifically, the representative utility $V_{nj}$ to student $ n $ from alternative $j$ is represented as:\n",
    "$$\n",
    " V_{nj} = \\beta C_{nj} + \\gamma T_{nj} \\\n",
    "$$\n",
    "\n",
    "Here, $C_{nj}$ denotes the cost to student $n$ of alternative $ j $, $T_{nj} $ signifies the time for student $n$ of alternative $ j $, and the parameters $ \\beta$ and $\\gamma$ are to be estimated. These parameters are estimated by maximum likelihood estimation.\n"
   ]
  },
  {
   "cell_type": "code",
   "execution_count": 3,
   "id": "690436c8",
   "metadata": {},
   "outputs": [
    {
     "data": {
      "text/html": [
       "<div>\n",
       "<style scoped>\n",
       "    .dataframe tbody tr th:only-of-type {\n",
       "        vertical-align: middle;\n",
       "    }\n",
       "\n",
       "    .dataframe tbody tr th {\n",
       "        vertical-align: top;\n",
       "    }\n",
       "\n",
       "    .dataframe thead th {\n",
       "        text-align: right;\n",
       "    }\n",
       "</style>\n",
       "<table border=\"1\" class=\"dataframe\">\n",
       "  <thead>\n",
       "    <tr style=\"text-align: right;\">\n",
       "      <th></th>\n",
       "      <th>id</th>\n",
       "      <th>mode</th>\n",
       "      <th>time.car</th>\n",
       "      <th>cost.car</th>\n",
       "      <th>time.bus</th>\n",
       "      <th>cost.bus</th>\n",
       "      <th>time.bike</th>\n",
       "      <th>cost.bike</th>\n",
       "      <th>time.walk</th>\n",
       "      <th>cost.walk</th>\n",
       "      <th>age</th>\n",
       "      <th>income</th>\n",
       "      <th>marital_status</th>\n",
       "    </tr>\n",
       "  </thead>\n",
       "  <tbody>\n",
       "    <tr>\n",
       "      <th>0</th>\n",
       "      <td>1</td>\n",
       "      <td>bus</td>\n",
       "      <td>16</td>\n",
       "      <td>0.82</td>\n",
       "      <td>20</td>\n",
       "      <td>0</td>\n",
       "      <td>20</td>\n",
       "      <td>0</td>\n",
       "      <td>55</td>\n",
       "      <td>0</td>\n",
       "      <td>33</td>\n",
       "      <td>28</td>\n",
       "      <td>married</td>\n",
       "    </tr>\n",
       "    <tr>\n",
       "      <th>1</th>\n",
       "      <td>2</td>\n",
       "      <td>car</td>\n",
       "      <td>10</td>\n",
       "      <td>0.59</td>\n",
       "      <td>16</td>\n",
       "      <td>0</td>\n",
       "      <td>15</td>\n",
       "      <td>0</td>\n",
       "      <td>34</td>\n",
       "      <td>0</td>\n",
       "      <td>25</td>\n",
       "      <td>28</td>\n",
       "      <td>single</td>\n",
       "    </tr>\n",
       "    <tr>\n",
       "      <th>2</th>\n",
       "      <td>3</td>\n",
       "      <td>bus</td>\n",
       "      <td>21</td>\n",
       "      <td>1.78</td>\n",
       "      <td>34</td>\n",
       "      <td>0</td>\n",
       "      <td>39</td>\n",
       "      <td>0</td>\n",
       "      <td>105</td>\n",
       "      <td>0</td>\n",
       "      <td>27</td>\n",
       "      <td>23</td>\n",
       "      <td>single</td>\n",
       "    </tr>\n",
       "    <tr>\n",
       "      <th>3</th>\n",
       "      <td>4</td>\n",
       "      <td>bus</td>\n",
       "      <td>13</td>\n",
       "      <td>0.31</td>\n",
       "      <td>12</td>\n",
       "      <td>0</td>\n",
       "      <td>12</td>\n",
       "      <td>0</td>\n",
       "      <td>24</td>\n",
       "      <td>0</td>\n",
       "      <td>25</td>\n",
       "      <td>21</td>\n",
       "      <td>single</td>\n",
       "    </tr>\n",
       "    <tr>\n",
       "      <th>4</th>\n",
       "      <td>5</td>\n",
       "      <td>bus</td>\n",
       "      <td>11</td>\n",
       "      <td>0.42</td>\n",
       "      <td>16</td>\n",
       "      <td>0</td>\n",
       "      <td>13</td>\n",
       "      <td>0</td>\n",
       "      <td>35</td>\n",
       "      <td>0</td>\n",
       "      <td>26</td>\n",
       "      <td>26</td>\n",
       "      <td>married</td>\n",
       "    </tr>\n",
       "    <tr>\n",
       "      <th>...</th>\n",
       "      <td>...</td>\n",
       "      <td>...</td>\n",
       "      <td>...</td>\n",
       "      <td>...</td>\n",
       "      <td>...</td>\n",
       "      <td>...</td>\n",
       "      <td>...</td>\n",
       "      <td>...</td>\n",
       "      <td>...</td>\n",
       "      <td>...</td>\n",
       "      <td>...</td>\n",
       "      <td>...</td>\n",
       "      <td>...</td>\n",
       "    </tr>\n",
       "    <tr>\n",
       "      <th>995</th>\n",
       "      <td>996</td>\n",
       "      <td>bus</td>\n",
       "      <td>11</td>\n",
       "      <td>0.39</td>\n",
       "      <td>14</td>\n",
       "      <td>0</td>\n",
       "      <td>14</td>\n",
       "      <td>0</td>\n",
       "      <td>34</td>\n",
       "      <td>0</td>\n",
       "      <td>27</td>\n",
       "      <td>22</td>\n",
       "      <td>single</td>\n",
       "    </tr>\n",
       "    <tr>\n",
       "      <th>996</th>\n",
       "      <td>997</td>\n",
       "      <td>bus</td>\n",
       "      <td>11</td>\n",
       "      <td>0.63</td>\n",
       "      <td>14</td>\n",
       "      <td>0</td>\n",
       "      <td>13</td>\n",
       "      <td>0</td>\n",
       "      <td>36</td>\n",
       "      <td>0</td>\n",
       "      <td>28</td>\n",
       "      <td>24</td>\n",
       "      <td>single</td>\n",
       "    </tr>\n",
       "    <tr>\n",
       "      <th>997</th>\n",
       "      <td>998</td>\n",
       "      <td>car</td>\n",
       "      <td>8</td>\n",
       "      <td>0.38</td>\n",
       "      <td>10</td>\n",
       "      <td>0</td>\n",
       "      <td>11</td>\n",
       "      <td>0</td>\n",
       "      <td>27</td>\n",
       "      <td>0</td>\n",
       "      <td>29</td>\n",
       "      <td>25</td>\n",
       "      <td>single</td>\n",
       "    </tr>\n",
       "    <tr>\n",
       "      <th>998</th>\n",
       "      <td>999</td>\n",
       "      <td>bus</td>\n",
       "      <td>14</td>\n",
       "      <td>0.30</td>\n",
       "      <td>10</td>\n",
       "      <td>0</td>\n",
       "      <td>11</td>\n",
       "      <td>0</td>\n",
       "      <td>19</td>\n",
       "      <td>0</td>\n",
       "      <td>28</td>\n",
       "      <td>25</td>\n",
       "      <td>single</td>\n",
       "    </tr>\n",
       "    <tr>\n",
       "      <th>999</th>\n",
       "      <td>1000</td>\n",
       "      <td>bike</td>\n",
       "      <td>7</td>\n",
       "      <td>0.28</td>\n",
       "      <td>11</td>\n",
       "      <td>0</td>\n",
       "      <td>7</td>\n",
       "      <td>0</td>\n",
       "      <td>20</td>\n",
       "      <td>0</td>\n",
       "      <td>24</td>\n",
       "      <td>34</td>\n",
       "      <td>married</td>\n",
       "    </tr>\n",
       "  </tbody>\n",
       "</table>\n",
       "<p>1000 rows × 13 columns</p>\n",
       "</div>"
      ],
      "text/plain": [
       "       id  mode  time.car  cost.car  time.bus  cost.bus  time.bike  cost.bike  \\\n",
       "0       1   bus        16      0.82        20         0         20          0   \n",
       "1       2   car        10      0.59        16         0         15          0   \n",
       "2       3   bus        21      1.78        34         0         39          0   \n",
       "3       4   bus        13      0.31        12         0         12          0   \n",
       "4       5   bus        11      0.42        16         0         13          0   \n",
       "..    ...   ...       ...       ...       ...       ...        ...        ...   \n",
       "995   996   bus        11      0.39        14         0         14          0   \n",
       "996   997   bus        11      0.63        14         0         13          0   \n",
       "997   998   car         8      0.38        10         0         11          0   \n",
       "998   999   bus        14      0.30        10         0         11          0   \n",
       "999  1000  bike         7      0.28        11         0          7          0   \n",
       "\n",
       "     time.walk  cost.walk  age  income marital_status  \n",
       "0           55          0   33      28        married  \n",
       "1           34          0   25      28         single  \n",
       "2          105          0   27      23         single  \n",
       "3           24          0   25      21         single  \n",
       "4           35          0   26      26        married  \n",
       "..         ...        ...  ...     ...            ...  \n",
       "995         34          0   27      22         single  \n",
       "996         36          0   28      24         single  \n",
       "997         27          0   29      25         single  \n",
       "998         19          0   28      25         single  \n",
       "999         20          0   24      34        married  \n",
       "\n",
       "[1000 rows x 13 columns]"
      ]
     },
     "execution_count": 3,
     "metadata": {},
     "output_type": "execute_result"
    }
   ],
   "source": [
    "data = pd.read_csv(\"commute_multinomial.csv\")\n",
    "data"
   ]
  },
  {
   "cell_type": "code",
   "execution_count": 4,
   "id": "76c9a351",
   "metadata": {},
   "outputs": [],
   "source": [
    "def function(params, data): # creating function that takes a set of parameters and data as inputs: function(parameters, data).\n",
    "    beta1 = params[0] # name the parameters\n",
    "    beta2 = params[1]\n",
    "#i. Calculate the representative utility of every alternative for each decision maker\n",
    "    data = data.copy()\n",
    "    data['utility_car'] = beta1 * data['cost.car'] + beta2 * data['time.car']\n",
    "    data['utility_bus'] = beta1 * data['cost.bus'] + beta2 * data['time.bus']\n",
    "    data['utility_bike'] = beta1 * data['cost.bike'] + beta2 * data['time.bike']\n",
    "    data['utility_walk'] = beta1 * data['cost.walk'] + beta2 * data['time.walk']\n",
    "    \n",
    "#logit choice probability denominator given the parameter\n",
    "    data['prob_denom'] = np.exp(data['utility_car']) + np.exp(data['utility_bus']) +\\\n",
    "    np.exp(data['utility_bike']) + np.exp(data['utility_walk'])\n",
    "    \n",
    "# logit choice probability for each alternative given the parameter\n",
    "    data['prob_car'] = np.exp(data['utility_car']) / data['prob_denom']\n",
    "    data['prob_bus'] = np.exp(data['utility_bus']) / data['prob_denom']\n",
    "    data['prob_bike'] = np.exp(data['utility_bike']) / data['prob_denom']\n",
    "    data['prob_walk'] = np.exp(data['utility_walk']) / data['prob_denom']\n",
    "    \n",
    "#ii. Calculate the choice probability of the chosen alternative for each decision maker\n",
    "    data['prob_choice'] = data['prob_car'] * (data['mode'] == 'car') +\\\n",
    "    data['prob_bus'] * (data['mode'] == 'bus') + data['prob_bike'] * (data['mode'] == 'bike') +\\\n",
    "    data['prob_walk'] * (data['mode'] == 'walk')\n",
    "    \n",
    "# log of logit choice probability for chosen alternative given the parameter\n",
    "    data['log_prob'] = np.log(data['prob_choice'])\n",
    "    \n",
    "#iii. Sum the log of these choice probabilities to get the log-likelihood.\n",
    "    log_likelihood = data['log_prob'].sum()\n",
    "    \n",
    "# (iv). Return the negative of the log-likelihood.\n",
    "    return -log_likelihood"
   ]
  },
  {
   "cell_type": "markdown",
   "id": "fba1cabf",
   "metadata": {},
   "source": [
    "The log-likelihood is maximized (or its negative is minimized) using the minimize() function. Parameter estimates, standard errors, z-stats, and p-values are reported. These results are then interpreted, explaining the meaning of each parameter."
   ]
  },
  {
   "cell_type": "code",
   "execution_count": 5,
   "id": "d6efb8f1",
   "metadata": {},
   "outputs": [
    {
     "name": "stdout",
     "output_type": "stream",
     "text": [
      "Optimization terminated successfully.\n",
      "         Current function value: 1219.844944\n",
      "         Iterations: 12\n",
      "         Function evaluations: 90\n",
      "         Gradient evaluations: 30\n",
      "\n",
      "The result of the optimization:   message: Optimization terminated successfully.\n",
      "  success: True\n",
      "   status: 0\n",
      "      fun: 1219.8449442611861\n",
      "        x: [-1.002e+00 -1.257e-01]\n",
      "      nit: 12\n",
      "      jac: [ 0.000e+00  0.000e+00]\n",
      " hess_inv: [[ 1.866e-02  4.044e-04]\n",
      "            [ 4.044e-04  6.009e-05]]\n",
      "     nfev: 90\n",
      "     njev: 30\n"
     ]
    }
   ],
   "source": [
    "#Maximize the log-likelihood (by minimizing its negative) using minimize()\n",
    "\n",
    "initial_parameters = [0]*2 # we have beta1 and beta2 from above\n",
    "model = minimize(function, initial_parameters, args = (data), method = 'BFGS', options = {'disp' : True})\n",
    "print(\"\\nThe result of the optimization:\", model) #optimization results"
   ]
  },
  {
   "cell_type": "code",
   "execution_count": 6,
   "id": "76af8bbe",
   "metadata": {},
   "outputs": [
    {
     "name": "stdout",
     "output_type": "stream",
     "text": [
      "The parameter estimates are [-1.00172165 -0.12565614]\n",
      "The standard errors are [0.13661193 0.00775171]\n",
      "The z-stats are [ -7.33260714 -16.21012185]\n",
      "The p-values are [2.25717893e-13 4.27719769e-59]\n"
     ]
    }
   ],
   "source": [
    "print(\"The parameter estimates are\", model.x) \n",
    "print(\"The standard errors are\", np.sqrt(np.diag(model.hess_inv))) \n",
    "print(\"The z-stats are\", model.x/np.sqrt(np.diag(model.hess_inv))) \n",
    "print(\"The p-values are\", 2*norm.cdf(-abs(model.x/np.sqrt(np.diag(model.hess_inv)))))"
   ]
  },
  {
   "cell_type": "markdown",
   "id": "8003f5fb",
   "metadata": {},
   "source": [
    "From above we get the following parameter values (beta1, beta2 respectively): \n",
    "-1.00172165 and -0.12565614.\n",
    "\n",
    "For beta parameters, the interpretation is that utility will fall by -\n",
    "- 1.00172165 if cost of mode of transport goes up by $1\n",
    "- 0.12565614 if time taken by mode of transport goes up by a minute\n",
    "\n",
    "\n",
    "Standard errors 0.13661193, 0.00775171 for beta1 and beta2 are small which means that the estimates are likely close to the true popultion value.\n",
    "\n",
    "Z stats are -7.33260714, -16.21012185  in absolute terms show that the parameter estimates significantly differ from zero.\n",
    "\n",
    "As P-values  2.25717893e-13, 4.27719769e-59 < 0.05 we reject the null hypothesis. Both beta1 an beta2 are statistically significant and affect the utility of chosen mode of commute.\n"
   ]
  },
  {
   "cell_type": "markdown",
   "id": "dd31606b",
   "metadata": {},
   "source": [
    "The commute choice during spring is modeled again as a multinomial logit model, but with the addition of alternative-specific intercepts for all but one alternative. The representative utility to student $n$ from alternative $j$ is expressed as:\n",
    " $$\n",
    " Vnj = αj + βCnj + γTnj\n",
    " $$ \n",
    "  Here, $C_nj$ is the cost to student $n$ of alternative $j$, $Tnj$ is the time for student $n$ of alternative $j$, and the $α$, $β$, and $γ$ parameters are to be estimated. he parameters of this model are estimated by maximum likelihood estimation. The steps to creating the maximum likelihood estimator are the same as above, but some of the calculations will differ."
   ]
  },
  {
   "cell_type": "code",
   "execution_count": 7,
   "id": "cfc9caa3",
   "metadata": {},
   "outputs": [],
   "source": [
    "def alt_function(params, data): # creating function that takes a set of parameters and data as inputs: function(parameters, data).\n",
    "    a_car = params[0] #name the parameters\n",
    "    a_bus = params[1]\n",
    "    a_walk = params[2]\n",
    "    beta1 = params[3]\n",
    "    beta2 = params[4]\n",
    "#i. Calculate the representative utility of every alternative for each decision maker\n",
    "    data = data.copy()\n",
    "    data['utility_car'] = a_car + beta1 * data['cost.car'] + beta2 * data['time.car']\n",
    "    data['utility_bus'] = a_bus + beta1 * data['cost.bus'] + beta2 * data['time.bus']\n",
    "    data['utility_walk'] = a_walk + beta1 * data['cost.walk'] + beta2 * data['time.walk']\n",
    "    data['utility_bike'] = beta1 * data['cost.bike'] + beta2 * data['time.bike']\n",
    "    \n",
    "#logit choice probability denominator given the parameter\n",
    "    data['prob_denom'] = np.exp(data['utility_car']) + np.exp(data['utility_bus']) +\\\n",
    "    np.exp(data['utility_bike']) + np.exp(data['utility_walk'])\n",
    "    \n",
    "# logit choice probability for each alternative given the parameter\n",
    "    data['prob_car'] = np.exp(data['utility_car']) / data['prob_denom']\n",
    "    data['prob_bus'] = np.exp(data['utility_bus']) / data['prob_denom']\n",
    "    data['prob_bike'] = np.exp(data['utility_bike']) / data['prob_denom']\n",
    "    data['prob_walk'] = np.exp(data['utility_walk']) / data['prob_denom']\n",
    "    \n",
    "#ii. Calculate the choice probability of the chosen alternative for each decision maker\n",
    "    data['prob_choice'] = data['prob_car'] * (data['mode'] == 'car') +\\\n",
    "    data['prob_bus'] * (data['mode'] == 'bus') + data['prob_bike'] * (data['mode'] == 'bike') +\\\n",
    "    data['prob_walk'] * (data['mode'] == 'walk')\n",
    "    \n",
    "# log of logit choice probability for chosen alternative given the parameter\n",
    "    data['log_prob'] = np.log(data['prob_choice'])\n",
    "    \n",
    "#iii. Sum the log of these choice probabilities to get the log-likelihood.\n",
    "    log_likelihood = data['log_prob'].sum()\n",
    "    \n",
    "# (iv). Return the negative of the log-likelihood.\n",
    "    return -log_likelihood"
   ]
  },
  {
   "cell_type": "code",
   "execution_count": 8,
   "id": "4b59eea4",
   "metadata": {},
   "outputs": [
    {
     "name": "stdout",
     "output_type": "stream",
     "text": [
      "Optimization terminated successfully.\n",
      "         Current function value: 1005.448759\n",
      "         Iterations: 15\n",
      "         Function evaluations: 108\n",
      "         Gradient evaluations: 18\n",
      "\n",
      "The result of the optimization:   message: Optimization terminated successfully.\n",
      "  success: True\n",
      "   status: 0\n",
      "      fun: 1219.8449442611861\n",
      "        x: [-1.002e+00 -1.257e-01]\n",
      "      nit: 12\n",
      "      jac: [ 0.000e+00  0.000e+00]\n",
      " hess_inv: [[ 1.866e-02  4.044e-04]\n",
      "            [ 4.044e-04  6.009e-05]]\n",
      "     nfev: 90\n",
      "     njev: 30\n"
     ]
    }
   ],
   "source": [
    "#Similarly, maximize the log-likelihood (by minimizing its negative) using minimize()\n",
    "\n",
    "initial_parameters = [0]*5 # we have 5 parameters from above\n",
    "model_alt = minimize(alt_function, initial_parameters, args = (data), method = 'BFGS', tol = 10e-3, options = {'disp' : True}) #changed tolerance level\n",
    "print(\"\\nThe result of the optimization:\", model) #optimization results"
   ]
  },
  {
   "cell_type": "markdown",
   "id": "c310781a",
   "metadata": {},
   "source": [
    "The parameter estimates, standard errors, z-stats, and p-values are reported, and the results are interpreted accordingly. Each parameter's meaning is discussed in relation to the model's context and its impact on the commuting choices of students."
   ]
  },
  {
   "cell_type": "code",
   "execution_count": 10,
   "id": "97956e73",
   "metadata": {},
   "outputs": [
    {
     "name": "stdout",
     "output_type": "stream",
     "text": [
      "The parameter estimates are [ 2.9247626   1.76032516  3.1718253  -6.05465741 -0.29576254]\n",
      "The standard errors are [0.20225211 0.11504937 0.30580191 0.51212601 0.0237813 ]\n",
      "The z-stats are [ 14.46097441  15.30060636  10.37215647 -11.82259309 -12.43677132]\n",
      "The p-values are [2.13750204e-47 7.57476032e-53 3.31947787e-25 2.98331420e-32\n",
      " 1.65041217e-35]\n"
     ]
    }
   ],
   "source": [
    "print(\"The parameter estimates are\", model_alt.x) \n",
    "print(\"The standard errors are\", np.sqrt(np.diag(model_alt.hess_inv))) \n",
    "print(\"The z-stats are\", model_alt.x/np.sqrt(np.diag(model_alt.hess_inv))) \n",
    "print(\"The p-values are\", 2*norm.cdf(-abs(model_alt.x/np.sqrt(np.diag(model_alt.hess_inv)))))"
   ]
  },
  {
   "cell_type": "markdown",
   "id": "0e4497aa",
   "metadata": {},
   "source": [
    "From above we get the following parameter values (a_car, a_bus, a_walk, beta1, beta2 respectively):\n",
    "2.9247626,1.76032516,3.1718253,-6.05465741 and -0.29576254.\n",
    " \n",
    "For alpha paramters, the interpretation is that utility will go up by  -\n",
    "- 2.92476163 if car is chosen as mode of transport\n",
    "- 1.76032508 if bus is chosen as mode of transport\n",
    "- 3.17182458 if walking is chosen as mode of transport\n",
    "- Bike does not have an alpha intercept as we chose this as the reference category. So utilities of all other modes are relative to bike\n",
    "\n",
    "For beta parameters, the interpretation is that utility will fall by -\n",
    "- 6.05465741 if cost of mode of transport goes up by $1\n",
    "- 0.29576254 if time taken by mode of transport goes up by a minute\n",
    "\n",
    "\n",
    "\n",
    "Standard errors 0.20225211 0.11504937 0.30580191 0.51212601 0.0237813  are small which means that the estimates are likely close to the true population value.\n",
    "\n",
    "Z stats are 14.46097441  15.30060636  10.37215647 -11.82259309 -12.43677132  in absolute terms show that the parameter estimates significantly differ from zero.\n",
    "\n",
    "As P-values  2.13750204e-47 7.57476032e-53 3.31947787e-25 2.98331420e-32\n",
    " 1.65041217e-35 < 0.05 we reject the null hypothesis. All parameters are statistically significant and affect the utility of chosen mode of commute.\n"
   ]
  },
  {
   "cell_type": "markdown",
   "id": "5fb5c0d9",
   "metadata": {},
   "source": [
    "A likelihood ratio test is conducted on this model to examine the joint significance of the alternative-specific intercepts. The null hypothesis being tested is: \n",
    "\n",
    "$$ H_0: \\alpha_{\\text{bus}} = \\alpha_{\\text{car}} = \\alpha_{\\text{walk}} = 0 \\$$\n",
    "\n",
    "The specific formulation of the null hypothesis may vary depending on the chosen reference alternative. \n",
    "\n",
    "The result of the test determines whether to reject the null hypothesis. The p-value of the test indicates the significance level of the observed differences between the models. \n",
    "\n",
    "In this case, the interpretation of the test result is provided based on whether the null hypothesis is rejected and the associated p-value."
   ]
  },
  {
   "cell_type": "code",
   "execution_count": 12,
   "id": "6ae962c7",
   "metadata": {},
   "outputs": [
    {
     "name": "stdout",
     "output_type": "stream",
     "text": [
      "1219.8449442611861 1005.4487590830483\n",
      "428.79237035627557\n"
     ]
    },
    {
     "data": {
      "text/plain": [
       "7.814727903251179"
      ]
     },
     "execution_count": 12,
     "metadata": {},
     "output_type": "execute_result"
    }
   ],
   "source": [
    "#negative of log-likelihood value for each model\n",
    "print(model.fun, model_alt.fun)\n",
    "print(2 * (- model_alt.fun - (- model.fun))) #likelihood ratio test statistic\n",
    "from scipy.stats import chi2\n",
    "chi2.ppf(0.95, 3) #chi-squared critical value , dof 3 as we estimate 3 parameters"
   ]
  },
  {
   "cell_type": "code",
   "execution_count": 13,
   "id": "e0015efd",
   "metadata": {},
   "outputs": [
    {
     "name": "stdout",
     "output_type": "stream",
     "text": [
      "True\n",
      "0.0\n"
     ]
    }
   ],
   "source": [
    "#Is likelihood ratio test statistic > critical value ?\n",
    "print(2 * (- model_alt.fun - (- model.fun)) > chi2.ppf(0.95, 5))\n",
    "\n",
    "print(1 - chi2.cdf(2 * (- model_alt.fun - (- model.fun)), 5)) # p-value "
   ]
  },
  {
   "cell_type": "markdown",
   "id": "05a83674",
   "metadata": {},
   "source": [
    "We see that the test statistic is greater than the critical value and the p-value is < 0.05. We reject the null hypothesis H0: αbus = αcar = αwalk = 0. The interpretation is that levels of utility vary with different modes of transport so an individual will prefer that mode which gives highest utility."
   ]
  },
  {
   "cell_type": "code",
   "execution_count": 16,
   "id": "ce2d2215",
   "metadata": {},
   "outputs": [],
   "source": [
    "#The commute choice during spring is once again modeled as a multinomial logit model,\n",
    "#but with the parameter on time allowed to be alternative-specific. "
   ]
  },
  {
   "cell_type": "code",
   "execution_count": 17,
   "id": "63d46fba",
   "metadata": {},
   "outputs": [],
   "source": [
    "def function_alt(params, data): # creating function that takes a set of parameters and data as inputs: function(parameters, data).\n",
    "    a_car = params[0] #name the parameters\n",
    "    a_bus = params[1]\n",
    "    a_walk = params[2]\n",
    "    beta1 = params[3]\n",
    "    beta2 = params[4] #car\n",
    "    beta3 = params[5] #bus\n",
    "    beta4 = params[6] #bike\n",
    "    beta5 = params[7] #walk\n",
    "    \n",
    "#i. Calculate the representative utility of every alternative for each decision maker\n",
    "    data = data.copy()\n",
    "    data['utility_car'] = a_car + beta1 * data['cost.car'] + beta2 * data['time.car']\n",
    "    data['utility_bus'] = a_bus + beta1 * data['cost.bus'] + beta3 * data['time.bus']\n",
    "    data['utility_walk'] = a_walk + beta1 * data['cost.walk'] + beta5 * data['time.walk']\n",
    "    data['utility_bike'] = beta1 * data['cost.bike'] + beta4 * data['time.bike']\n",
    "    \n",
    "#logit choice probability denominator given the parameter\n",
    "    data['prob_denom'] = np.exp(data['utility_car']) + np.exp(data['utility_bus']) +\\\n",
    "    np.exp(data['utility_bike']) + np.exp(data['utility_walk'])\n",
    "    \n",
    "# logit choice probability for each alternative given the parameter\n",
    "    data['prob_car'] = np.exp(data['utility_car']) / data['prob_denom']\n",
    "    data['prob_bus'] = np.exp(data['utility_bus']) / data['prob_denom']\n",
    "    data['prob_bike'] = np.exp(data['utility_bike']) / data['prob_denom']\n",
    "    data['prob_walk'] = np.exp(data['utility_walk']) / data['prob_denom']\n",
    "    \n",
    "#ii. Calculate the choice probability of the chosen alternative for each decision maker\n",
    "    data['prob_choice'] = data['prob_car'] * (data['mode'] == 'car') +\\\n",
    "    data['prob_bus'] * (data['mode'] == 'bus') + data['prob_bike'] * (data['mode'] == 'bike') +\\\n",
    "    data['prob_walk'] * (data['mode'] == 'walk')\n",
    "    \n",
    "# log of logit choice probability for chosen alternative given the parameter\n",
    "    data['log_prob'] = np.log(data['prob_choice'])\n",
    "    \n",
    "#iii. Sum the log of these choice probabilities to get the log-likelihood.\n",
    "    log_likelihood = data['log_prob'].sum()\n",
    "    \n",
    "# (iv). Return the negative of the log-likelihood.\n",
    "    return -log_likelihood"
   ]
  },
  {
   "cell_type": "code",
   "execution_count": 18,
   "id": "0720a647",
   "metadata": {},
   "outputs": [
    {
     "name": "stdout",
     "output_type": "stream",
     "text": [
      "Optimization terminated successfully.\n",
      "         Current function value: 982.356064\n",
      "         Iterations: 19\n",
      "         Function evaluations: 207\n",
      "         Gradient evaluations: 23\n",
      "\n",
      "The result of the optimization:   message: Optimization terminated successfully.\n",
      "  success: True\n",
      "   status: 0\n",
      "      fun: 1219.8449442611861\n",
      "        x: [-1.002e+00 -1.257e-01]\n",
      "      nit: 12\n",
      "      jac: [ 0.000e+00  0.000e+00]\n",
      " hess_inv: [[ 1.866e-02  4.044e-04]\n",
      "            [ 4.044e-04  6.009e-05]]\n",
      "     nfev: 90\n",
      "     njev: 30\n"
     ]
    }
   ],
   "source": [
    "#Again, maximize the log-likelihood (by minimizing its negative) using minimize()\n",
    "\n",
    "initial_parameters = [0]*8 # we have 8 parameters from above\n",
    "model_time = minimize(function_alt, initial_parameters, args = (data), method = 'BFGS', tol = 10e-3, options = {'disp' : True}) #changed tolerance level\n",
    "print(\"\\nThe result of the optimization:\", model) #optimization results"
   ]
  },
  {
   "cell_type": "markdown",
   "id": "cf96c934",
   "metadata": {},
   "source": [
    "The parameter estimates, standard errors, z-stats, and p-values are reported, and the results are interpreted accordingly. Each parameter's meaning is discussed in relation to the model's context and its impact on the commuting choices of students."
   ]
  },
  {
   "cell_type": "code",
   "execution_count": 20,
   "id": "afa19545",
   "metadata": {},
   "outputs": [
    {
     "name": "stdout",
     "output_type": "stream",
     "text": [
      "The parameter estimates are [ 2.74569037 -0.21900146  2.97546931 -2.60438182 -0.40466758 -0.14317438\n",
      " -0.28938822 -0.29661517]\n",
      "The standard errors are [0.45733633 0.40108321 0.80065119 0.85931873 0.04563565 0.03590145\n",
      " 0.03891019 0.03894512]\n",
      "The z-stats are [ 6.00365679 -0.546025    3.71631162 -3.03075185 -8.86735643 -3.98798318\n",
      " -7.43733814 -7.6162347 ]\n",
      "The p-values are [1.92922288e-09 5.85048752e-01 2.02152237e-04 2.43945650e-03\n",
      " 7.49028571e-19 6.66373857e-05 1.02734338e-13 2.61182592e-14]\n"
     ]
    }
   ],
   "source": [
    "print(\"The parameter estimates are\", model_time.x) \n",
    "print(\"The standard errors are\", np.sqrt(np.diag(model_time.hess_inv))) \n",
    "print(\"The z-stats are\", model_time.x/np.sqrt(np.diag(model_time.hess_inv))) \n",
    "print(\"The p-values are\", 2*norm.cdf(-abs(model_time.x/np.sqrt(np.diag(model_time.hess_inv)))))"
   ]
  },
  {
   "cell_type": "markdown",
   "id": "bf1f2375",
   "metadata": {},
   "source": [
    "From above we get the following parameter values (a_car, a_bus, a_walk, beta1, beta2, beta3, beta4, beta5 respectively):\n",
    "2.74569037, -0.21900146, 2.97546931, -2.60438182, -0.40466758, -0.14317438, -0.28938822, -0.29661517 \n",
    "\n",
    "\n",
    "For alpha paramters, the interpretation is that -\n",
    "- Utility will go up by 2.74569037 if car is chosen as mode of transport\n",
    "- Utility will fall by 0.21900146 if bus is chosen as mode of transport\n",
    "- Utility will go up by 2.97546931 if walking is chosen as mode of transport\n",
    "- Bike does not have an alpha intercept as we chose this as the reference category. So utilities of all other modes are relative to bike\n",
    "\n",
    "For beta parameters, the interpretation is that utility will fall by -\n",
    "- 2.60438182 if cost of mode of transport goes up by $1\n",
    "- 0.40466758 if time taken by car goes up by a minute\n",
    "- 0.14317438 if time taken by bus goes up by a minute\n",
    "- 0.28938822 if time taken by bike goes up by a minute\n",
    "- 0.29661517 if time taken by walking goes up by a minute\n",
    "\n",
    "Standard errors 0.45733633 0.40108321 0.80065119 0.85931873 0.04563565 0.03590145 0.03891019 0.03894512 are small which means that the estimates are likely close to the true popultion value.\n",
    "\n",
    "Z stats are 16.00365679 -0.546025    3.71631162 -3.03075185 -8.86735643 -3.98798318  -7.43733814 -7.6162347 in absolute terms show that the parameter estimates significantly differ from zero.\n",
    "\n",
    "As P-values 1.92922288e-09 5.85048752e-01 2.02152237e-04 2.43945650e-03 7.49028571e-19 6.66373857e-05 1.02734338e-13 2.61182592e-14 < 0.05 we reject the null hypothesis. All parameters are statistically significant and affect the utility of chosen mode of commute."
   ]
  },
  {
   "cell_type": "code",
   "execution_count": 22,
   "id": "b9bdbca2",
   "metadata": {},
   "outputs": [
    {
     "name": "stdout",
     "output_type": "stream",
     "text": [
      "1005.4487590830483 982.3560638353069\n",
      "46.18539049548281\n"
     ]
    },
    {
     "data": {
      "text/plain": [
       "9.487729036781154"
      ]
     },
     "execution_count": 22,
     "metadata": {},
     "output_type": "execute_result"
    }
   ],
   "source": [
    "#negative of log-likelihood value for each model\n",
    "print(model_alt.fun, model_time.fun)\n",
    "print(2 * (- model_time.fun - (- model_alt.fun))) #likelihood ratio test statistic\n",
    "from scipy.stats import chi2\n",
    "chi2.ppf(0.95, 4) #chi-squared critical value , dof 4 as we estimate 4 parameters"
   ]
  },
  {
   "cell_type": "code",
   "execution_count": 23,
   "id": "52ffd002",
   "metadata": {},
   "outputs": [
    {
     "name": "stdout",
     "output_type": "stream",
     "text": [
      "True\n",
      "2.253488062819997e-09\n"
     ]
    }
   ],
   "source": [
    "#Is likelihood ratio test statistic > critical value ?\n",
    "print(2 * (- model_time.fun - (- model_alt.fun)) > chi2.ppf(0.95, 4))\n",
    "\n",
    "print(1 - chi2.cdf(2 * (- model_time.fun - (- model_alt.fun)), 4)) # p-value "
   ]
  },
  {
   "cell_type": "markdown",
   "id": "5ebc0410",
   "metadata": {},
   "source": [
    "We see that the test statistic is greater than the critical value and the p-value is < 0.05. We reject the null hypothesis H0: γbike = γbus = γcar = γwalk. The interpretation is that levels of utility vary with difference in the time taken by different modes of transport so an individual will prefer that mode which gives highest utility."
   ]
  },
  {
   "cell_type": "markdown",
   "id": "e3ae6cca",
   "metadata": {},
   "source": [
    "### Generalized Method of Moments(GMM)"
   ]
  },
  {
   "cell_type": "markdown",
   "id": "6f7c325b",
   "metadata": {},
   "source": [
    "The choice to drive to campus during winter is modeled as a binary logit model. The representative utility of each alternative is expressed as a linear function of its cost and time. An alternative-specific intercept is included, and the parameter on time is allowed to be alternative-specific. Specifically, the representative utility to student \n",
    "𝑛\n",
    "n from driving and taking the bus, respectively, are represented as:\n",
    "$$\n",
    "Vnc = α + βCnc + γcarTnc\n",
    "$$\n",
    "$$\n",
    "Vnb = γbusTnb\n",
    "$$\n",
    "\n",
    "Here, $ C_{nj} $ represents the cost to student $n$ of alternative $j$, $T_{nj} $ signifies the time for student $n$ of alternative \\$j$, and the $ \\alpha $, $ \\beta $, and $ \\gamma $ parameters are to be estimated. The model excludes a bus-specific intercept term because only one intercept term is identified in this model, and the bus cost is excluded because it is free for all students. \n",
    "\n",
    "The difference in representative utility between driving and taking the bus for student $n$ is given by:\n",
    "\n",
    "$$ V_{nc} - V_{nb} = \\alpha + \\beta C_{nc} + \\gamma_{\\text{car}} T_{nc} - \\gamma_{\\text{bus}} T_{nb} $$\n",
    "\n",
    "Because this is a binary logit model, the choice probability of driving is expressed as a function of $ V_{nc} - V_{nb} $ as:\n",
    "\n",
    "$$ P_{nc} = \\frac{1}{1 + e^{-(V_{nc} - V_{nb})}} $$\n",
    "\n",
    "The parameters of this model are estimated by the method of moments."
   ]
  },
  {
   "cell_type": "markdown",
   "id": "8a3c1ab8",
   "metadata": {},
   "source": [
    "Four moment conditions are formulated for this model.\n",
    "\n"
   ]
  },
  {
   "cell_type": "markdown",
   "id": "2bc0c631",
   "metadata": {},
   "source": [
    "![image-2.png](attachment:image-2.png)"
   ]
  },
  {
   "cell_type": "code",
   "execution_count": 25,
   "id": "3845c28b",
   "metadata": {},
   "outputs": [
    {
     "data": {
      "text/html": [
       "<div>\n",
       "<style scoped>\n",
       "    .dataframe tbody tr th:only-of-type {\n",
       "        vertical-align: middle;\n",
       "    }\n",
       "\n",
       "    .dataframe tbody tr th {\n",
       "        vertical-align: top;\n",
       "    }\n",
       "\n",
       "    .dataframe thead th {\n",
       "        text-align: right;\n",
       "    }\n",
       "</style>\n",
       "<table border=\"1\" class=\"dataframe\">\n",
       "  <thead>\n",
       "    <tr style=\"text-align: right;\">\n",
       "      <th></th>\n",
       "      <th>id</th>\n",
       "      <th>mode</th>\n",
       "      <th>time.car</th>\n",
       "      <th>cost.car</th>\n",
       "      <th>time.bus</th>\n",
       "      <th>cost.bus</th>\n",
       "      <th>price_gas</th>\n",
       "      <th>snowfall</th>\n",
       "      <th>construction</th>\n",
       "      <th>bus_detour</th>\n",
       "      <th>age</th>\n",
       "      <th>income</th>\n",
       "      <th>marital_status</th>\n",
       "    </tr>\n",
       "  </thead>\n",
       "  <tbody>\n",
       "    <tr>\n",
       "      <th>0</th>\n",
       "      <td>1</td>\n",
       "      <td>1</td>\n",
       "      <td>13</td>\n",
       "      <td>0.79</td>\n",
       "      <td>26</td>\n",
       "      <td>0</td>\n",
       "      <td>2.44</td>\n",
       "      <td>0.0</td>\n",
       "      <td>0</td>\n",
       "      <td>1</td>\n",
       "      <td>33</td>\n",
       "      <td>28</td>\n",
       "      <td>married</td>\n",
       "    </tr>\n",
       "    <tr>\n",
       "      <th>1</th>\n",
       "      <td>2</td>\n",
       "      <td>1</td>\n",
       "      <td>9</td>\n",
       "      <td>0.59</td>\n",
       "      <td>14</td>\n",
       "      <td>0</td>\n",
       "      <td>2.59</td>\n",
       "      <td>0.0</td>\n",
       "      <td>0</td>\n",
       "      <td>0</td>\n",
       "      <td>25</td>\n",
       "      <td>28</td>\n",
       "      <td>single</td>\n",
       "    </tr>\n",
       "    <tr>\n",
       "      <th>2</th>\n",
       "      <td>3</td>\n",
       "      <td>0</td>\n",
       "      <td>20</td>\n",
       "      <td>1.62</td>\n",
       "      <td>35</td>\n",
       "      <td>0</td>\n",
       "      <td>2.55</td>\n",
       "      <td>1.0</td>\n",
       "      <td>0</td>\n",
       "      <td>0</td>\n",
       "      <td>27</td>\n",
       "      <td>23</td>\n",
       "      <td>single</td>\n",
       "    </tr>\n",
       "    <tr>\n",
       "      <th>3</th>\n",
       "      <td>4</td>\n",
       "      <td>0</td>\n",
       "      <td>11</td>\n",
       "      <td>0.30</td>\n",
       "      <td>11</td>\n",
       "      <td>0</td>\n",
       "      <td>2.53</td>\n",
       "      <td>2.2</td>\n",
       "      <td>0</td>\n",
       "      <td>0</td>\n",
       "      <td>25</td>\n",
       "      <td>21</td>\n",
       "      <td>single</td>\n",
       "    </tr>\n",
       "    <tr>\n",
       "      <th>4</th>\n",
       "      <td>5</td>\n",
       "      <td>0</td>\n",
       "      <td>12</td>\n",
       "      <td>0.44</td>\n",
       "      <td>15</td>\n",
       "      <td>0</td>\n",
       "      <td>2.49</td>\n",
       "      <td>11.2</td>\n",
       "      <td>0</td>\n",
       "      <td>0</td>\n",
       "      <td>26</td>\n",
       "      <td>26</td>\n",
       "      <td>married</td>\n",
       "    </tr>\n",
       "  </tbody>\n",
       "</table>\n",
       "</div>"
      ],
      "text/plain": [
       "   id  mode  time.car  cost.car  time.bus  cost.bus  price_gas  snowfall  \\\n",
       "0   1     1        13      0.79        26         0       2.44       0.0   \n",
       "1   2     1         9      0.59        14         0       2.59       0.0   \n",
       "2   3     0        20      1.62        35         0       2.55       1.0   \n",
       "3   4     0        11      0.30        11         0       2.53       2.2   \n",
       "4   5     0        12      0.44        15         0       2.49      11.2   \n",
       "\n",
       "   construction  bus_detour  age  income marital_status  \n",
       "0             0           1   33      28        married  \n",
       "1             0           0   25      28         single  \n",
       "2             0           0   27      23         single  \n",
       "3             0           0   25      21         single  \n",
       "4             0           0   26      26        married  "
      ]
     },
     "execution_count": 25,
     "metadata": {},
     "output_type": "execute_result"
    }
   ],
   "source": [
    "# Load the binary dataset\n",
    "df_bi = pd.read_csv(\"commute_binary.csv\")\n",
    "df_bi[\"mode\"].replace({'car' : 1, 'bus' : 0}, inplace=True)\n",
    "df_bi.head()"
   ]
  },
  {
   "cell_type": "code",
   "execution_count": 26,
   "id": "eea87e6b",
   "metadata": {},
   "outputs": [],
   "source": [
    "# Create dataset for use in MM moment function\n",
    "mm_data = df_bi.assign(constant=1).loc[:, ['mode',\n",
    "                                           'constant',\n",
    "                                           'cost.car',\n",
    "                                           'time.car',\n",
    "                                           'time.bus']\n",
    "                                      ].to_numpy()"
   ]
  },
  {
   "cell_type": "code",
   "execution_count": 27,
   "id": "020870e2",
   "metadata": {},
   "outputs": [
    {
     "name": "stdout",
     "output_type": "stream",
     "text": [
      "[[ 1.    1.    0.79 13.   26.  ]\n",
      " [ 1.    1.    0.59  9.   14.  ]\n",
      " [ 0.    1.    1.62 20.   35.  ]\n",
      " ...\n",
      " [ 0.    1.    0.39 15.   12.  ]\n",
      " [ 0.    1.    0.32 14.   11.  ]\n",
      " [ 1.    1.    0.28  9.   10.  ]]\n"
     ]
    }
   ],
   "source": [
    "print(mm_data)"
   ]
  },
  {
   "cell_type": "markdown",
   "id": "55c85bce",
   "metadata": {},
   "source": [
    " A function is created that takes a set of parameters and a matrix of data as inputs: function(parameters, data matrix).\n"
   ]
  },
  {
   "cell_type": "code",
   "execution_count": 28,
   "id": "76cc8de5",
   "metadata": {},
   "outputs": [],
   "source": [
    "### Gradient function\n",
    "def mm_fn(params, data_matrix):\n",
    "    # Select data for X [N x K]\n",
    "    X = data_matrix[:, 1:]\n",
    "    # Select data for y [N x 1]\n",
    "    y = data_matrix[:, 0]\n",
    "    # (i).Calculate the difference in representative utility for each decision maker. [N x 1]\n",
    "    utility = np.dot(X, params)\n",
    "    # (ii).Calculate logit choice probability for each decision maker. [N x 1]\n",
    "    prob = 1 / (1 + np.exp(-utility))\n",
    "    # (iii).Calculate econometric residuals [N x 1]\n",
    "    residuals = y - prob\n",
    "    # (iv).Calculate each of the 4 moments for each decision maker.\n",
    "    moments = np.multiply(residuals.reshape(-1, 1), X)\n",
    "    # (v).Return the N × L matrix of individual moments.\n",
    "    return moments"
   ]
  },
  {
   "cell_type": "code",
   "execution_count": 29,
   "id": "731f2d4f",
   "metadata": {},
   "outputs": [],
   "source": [
    "# Define objective function for GMM\n",
    "def gmm_obj(params, fun, W, data_matrix):\n",
    "    moments = np.sum(fun(params, data_matrix), axis = 0)\n",
    "    obj = np.dot(np.dot(moments.T, W), moments)\n",
    "    return obj"
   ]
  },
  {
   "cell_type": "code",
   "execution_count": 30,
   "id": "5aed5341",
   "metadata": {},
   "outputs": [
    {
     "name": "stdout",
     "output_type": "stream",
     "text": [
      "Optimization terminated successfully.\n",
      "         Current function value: 1139.447593\n",
      "         Iterations: 148\n",
      "         Function evaluations: 261\n"
     ]
    }
   ],
   "source": [
    "# Find the MM estimator: first step\n",
    "initial_params4 = np.zeros(4)\n",
    "W_hat = np.eye(4)\n",
    "model_4 = minimize(gmm_obj, initial_params4, args=(mm_fn, W_hat, mm_data), \n",
    "                   method='Nelder-Mead', options={'disp': True, 'maxiter': 10000})"
   ]
  },
  {
   "cell_type": "code",
   "execution_count": 31,
   "id": "b79a119d",
   "metadata": {},
   "outputs": [
    {
     "name": "stdout",
     "output_type": "stream",
     "text": [
      "[ 0.0950812  -0.04586472 -0.18883126  0.10889721]\n"
     ]
    }
   ],
   "source": [
    "# Show the results\n",
    "print(model_4.x)"
   ]
  },
  {
   "cell_type": "code",
   "execution_count": 32,
   "id": "07790227",
   "metadata": {},
   "outputs": [
    {
     "data": {
      "text/plain": [
       "array([[ 9.26729281e+01,  1.01326698e+02, -6.12120509e+00,\n",
       "        -4.61426413e+00],\n",
       "       [ 1.01326698e+02,  4.63544960e+02, -5.92491646e+00,\n",
       "        -1.61019497e+01],\n",
       "       [-6.12120509e+00, -5.92491646e+00,  1.05884325e+00,\n",
       "        -1.86519470e-01],\n",
       "       [-4.61426413e+00, -1.61019497e+01, -1.86519470e-01,\n",
       "         9.30982396e-01]])"
      ]
     },
     "execution_count": 32,
     "metadata": {},
     "output_type": "execute_result"
    }
   ],
   "source": [
    "# Update weighting matrix\n",
    "err = np.matrix(mm_fn(model_4.x, mm_data))\n",
    "S = np.dot(err.T, err) / mm_data.shape[0]\n",
    "# Use the pseudo-inverse calculated by SVD because\n",
    "# VCV2 is ill-conditioned\n",
    "W_hat2 = lin.pinv(S)\n",
    "W_hat2 = np.array(W_hat2)\n",
    "W_hat2"
   ]
  },
  {
   "cell_type": "markdown",
   "id": "5fda1561",
   "metadata": {},
   "source": [
    "###### NOTE: lin.pinv stands for the pseudoinverse function provided by the numpy.linalg module. The pseudoinverse is used to compute the Moore-Penrose inverse of a matrix, which is a generalization of the matrix inverse for non-square matrices or for matrices that are singular or ill-conditioned. In other words, it calculates an approximate inverse for matrices that may not have a true inverse. This function is commonly used in numerical computations and linear algebra applications."
   ]
  },
  {
   "cell_type": "code",
   "execution_count": 33,
   "id": "70539ca6",
   "metadata": {},
   "outputs": [
    {
     "name": "stdout",
     "output_type": "stream",
     "text": [
      "Optimization terminated successfully.\n",
      "         Current function value: 0.000007\n",
      "         Iterations: 225\n",
      "         Function evaluations: 388\n"
     ]
    }
   ],
   "source": [
    "# Second step of optimization\n",
    "model_41 = minimize(gmm_obj, model_4.x, args=(mm_fn, W_hat2, mm_data),\n",
    "                    method='Nelder-Mead', options={'disp': True, 'maxiter': 10000})"
   ]
  },
  {
   "cell_type": "code",
   "execution_count": 34,
   "id": "91e65b85",
   "metadata": {},
   "outputs": [
    {
     "name": "stdout",
     "output_type": "stream",
     "text": [
      "       message: Optimization terminated successfully.\n",
      "       success: True\n",
      "        status: 0\n",
      "           fun: 7.148443809569187e-06\n",
      "             x: [ 2.233e+00 -2.077e+00 -3.322e-01  1.326e-01]\n",
      "           nit: 225\n",
      "          nfev: 388\n",
      " final_simplex: (array([[ 2.233e+00, -2.077e+00, -3.322e-01,  1.326e-01],\n",
      "                       [ 2.233e+00, -2.077e+00, -3.322e-01,  1.326e-01],\n",
      "                       ...,\n",
      "                       [ 2.233e+00, -2.077e+00, -3.322e-01,  1.326e-01],\n",
      "                       [ 2.233e+00, -2.077e+00, -3.322e-01,  1.326e-01]]), array([ 7.148e-06,  7.898e-06,  3.105e-05,  3.246e-05,\n",
      "                        3.455e-05]))\n"
     ]
    }
   ],
   "source": [
    "# Show the results\n",
    "print(model_41)"
   ]
  },
  {
   "cell_type": "code",
   "execution_count": 35,
   "id": "ebc0d90c",
   "metadata": {},
   "outputs": [
    {
     "name": "stdout",
     "output_type": "stream",
     "text": [
      "[ 2.23329015 -2.07712488 -0.33221593  0.13257241]\n"
     ]
    }
   ],
   "source": [
    "# Print coefficients\n",
    "print(model_41.x)"
   ]
  },
  {
   "cell_type": "code",
   "execution_count": 36,
   "id": "712bb51e",
   "metadata": {},
   "outputs": [],
   "source": [
    "### Gradient function\n",
    "def gmm_moments1(params):\n",
    "    # Select data for X [N x K]\n",
    "    X = mm_data[:, 1:]\n",
    "    # Select data for y [N x 1]\n",
    "    y = mm_data[:, 0]\n",
    "    \n",
    "    # (i).Calculate the difference in representative utility for each decision maker. [N x 1]\n",
    "    utility = np.dot(X, params)\n",
    "    # (ii).Calculate logit choice probability for each decision maker. [N x 1]\n",
    "    prob = 1 / (1 + np.exp(-utility))\n",
    "    # (iii).Calculate econometric residuals [N x 1]\n",
    "    residuals = y - prob\n",
    "    \n",
    "    # (iv).Calculate each of the 4 moments for each decision maker.\n",
    "    moments = np.multiply(residuals.reshape(-1, 1), X)\n",
    "    \n",
    "    ### average moments\n",
    "    moments = np.sum(moments, axis = 0)/mm_data.shape[0]\n",
    "    return moments"
   ]
  },
  {
   "cell_type": "code",
   "execution_count": 37,
   "id": "7a0015f0",
   "metadata": {},
   "outputs": [
    {
     "name": "stdout",
     "output_type": "stream",
     "text": [
      "[[-2.07700401e-01 -8.07639382e-02 -2.15649444e+00 -2.85728525e+00]\n",
      " [-8.07639384e-02 -3.80658903e-02 -8.90438141e-01 -1.23583943e+00]\n",
      " [-2.15649440e+00 -8.90438116e-01 -2.36198930e+01 -3.07944980e+01]\n",
      " [-2.85728521e+00 -1.23583938e+00 -3.07944979e+01 -4.26268390e+01]]\n"
     ]
    }
   ],
   "source": [
    "### G0\n",
    "x = np.array([model_41.x[0], model_41.x[1], model_41.x[2], model_41.x[3]],dtype=float)\n",
    "G0_1 = scipy.optimize.approx_fprime(x, gmm_moments1, epsilon=1.4901161193847656e-08)\n",
    "print(G0_1)"
   ]
  },
  {
   "cell_type": "code",
   "execution_count": 42,
   "id": "beee0deb",
   "metadata": {},
   "outputs": [
    {
     "name": "stdout",
     "output_type": "stream",
     "text": [
      "[[2.06434195e-01 8.00161938e-02 2.15149485e+00 2.82065304e+00]\n",
      " [8.00161938e-02 3.76937116e-02 8.93191046e-01 1.22170163e+00]\n",
      " [2.15149485e+00 8.93191046e-01 2.39020466e+01 3.07340942e+01]\n",
      " [2.82065304e+00 1.22170163e+00 3.07340942e+01 4.19723104e+01]]\n"
     ]
    }
   ],
   "source": [
    "# udpate S\n",
    "err = np.matrix(mm_fn(model_41.x, mm_data))\n",
    "S2 = np.dot(err.T, err) / mm_data.shape[0]\n",
    "print(S2)"
   ]
  },
  {
   "cell_type": "code",
   "execution_count": 43,
   "id": "b6b89173",
   "metadata": {},
   "outputs": [
    {
     "name": "stdout",
     "output_type": "stream",
     "text": [
      "[[ 1.40792994e-01  1.11341338e-01 -9.90007230e-03 -5.55771050e-03]\n",
      " [ 1.11341338e-01  5.15500200e-01 -6.79293338e-03 -1.74810486e-02]\n",
      " [-9.90007230e-03 -6.79293338e-03  1.43858161e-03 -1.68655283e-04]\n",
      " [-5.55771050e-03 -1.74810486e-02 -1.68655283e-04  1.01940178e-03]]\n"
     ]
    }
   ],
   "source": [
    "#### VCOV\n",
    "VCOV_1=np.dot(np.dot(G0_1.T, lin.pinv(S2)), G0_1)\n",
    "VCOV_1=lin.pinv(VCOV_1)/mm_data.shape[0]\n",
    "print(VCOV_1)"
   ]
  },
  {
   "cell_type": "code",
   "execution_count": 44,
   "id": "2fdf625f",
   "metadata": {},
   "outputs": [
    {
     "name": "stdout",
     "output_type": "stream",
     "text": [
      "[ 2.23329015 -2.07712488 -0.33221593  0.13257241]\n",
      "[0.37522393 0.71798343 0.03792864 0.03192807]\n"
     ]
    }
   ],
   "source": [
    "### Point Estimates and Standard errors\n",
    "print(model_41.x)\n",
    "print(np.sqrt(np.diag(VCOV_1)))"
   ]
  },
  {
   "cell_type": "markdown",
   "id": "e998efaf",
   "metadata": {},
   "source": [
    "Interpretation:\n",
    "- Constant coefficient (2.23): it generates 2.23 \"utils\" of utility using car to go to campus when other independent variabels equal to zero\n",
    "- Coefficient of cost.car (-2.08): an increase in cost of driving a car by one USD is associated with a decrease in the utiliy by 2.08\n",
    "- Coefficient of time.car (-0.33): an increase in driving time by 1 minute is associated with a decrese in the utility by 0.33\n",
    "- Coefficient of time.bus (0.13): an increase in bus travel time by 1 minute is associated with an increase in utility by 0.13"
   ]
  },
  {
   "cell_type": "markdown",
   "id": "fd4639f5",
   "metadata": {},
   "source": [
    "The choice to drive to campus during winter is modeled using the instruments described above in a generalized method of moments framework. The representative utility to student $n$ from driving and taking the bus, respectively, is represented as:\n",
    "\n",
    "$$ \n",
    "V_{nc} = \\alpha + \\beta C_{nc} + \\gamma_{car} T_{nc} \\ \n",
    "$$\n",
    "\n",
    "$$\n",
    "V_{nb} = \\gamma_{bus} T_{nb} \\\n",
    "$$\n",
    "\n",
    "Here, $ C_{nj} $ represents the cost to student $n$ of alternative $j$, $T_{nj}$ represents the time for student $n$ of alternative $ j$, and the $ \\alpha $, $\\beta $, and $\\gamma $ parameters are to be estimated. The parameters of this model are estimated using the generalized method of moments, with moment conditions constructed using the instruments described above. Thus, there are five instruments considered: the constant term, price gas, snowfall, construction, and bus detour."
   ]
  },
  {
   "cell_type": "code",
   "execution_count": 46,
   "id": "1fd674cf",
   "metadata": {},
   "outputs": [
    {
     "data": {
      "text/plain": [
       "['id',\n",
       " 'mode',\n",
       " 'time.car',\n",
       " 'cost.car',\n",
       " 'time.bus',\n",
       " 'cost.bus',\n",
       " 'price_gas',\n",
       " 'snowfall',\n",
       " 'construction',\n",
       " 'bus_detour',\n",
       " 'age',\n",
       " 'income',\n",
       " 'marital_status']"
      ]
     },
     "execution_count": 46,
     "metadata": {},
     "output_type": "execute_result"
    }
   ],
   "source": [
    "list(df_bi.columns)"
   ]
  },
  {
   "cell_type": "code",
   "execution_count": 47,
   "id": "e773fc98",
   "metadata": {},
   "outputs": [
    {
     "name": "stdout",
     "output_type": "stream",
     "text": [
      "[[1.   1.   0.79 ... 0.   0.   1.  ]\n",
      " [1.   1.   0.59 ... 0.   0.   0.  ]\n",
      " [0.   1.   1.62 ... 1.   0.   0.  ]\n",
      " ...\n",
      " [0.   1.   0.39 ... 1.1  1.   0.  ]\n",
      " [0.   1.   0.32 ... 3.6  1.   0.  ]\n",
      " [1.   1.   0.28 ... 0.   0.   0.  ]]\n"
     ]
    }
   ],
   "source": [
    "## Calculate GMM estimator for binary commuting to school choice with instruments\n",
    "## Create dataset for use in GMM moment function\n",
    "gmm_data = df_bi.assign(constant = 1).loc[:,['mode', 'constant', 'cost.car',\n",
    "                                               'time.car','time.bus', 'price_gas', 'snowfall','construction','bus_detour']].to_numpy()\n",
    "print(gmm_data)"
   ]
  },
  {
   "cell_type": "code",
   "execution_count": 48,
   "id": "82f42821",
   "metadata": {},
   "outputs": [],
   "source": [
    "## Function to calculate moments for commuting choice\n",
    "def gmm_fn(params, data_matrix):\n",
    "    # Select data for X [N x K]\n",
    "    X = data_matrix[:, 1:5]\n",
    "    # Select data for y [N x 1]\n",
    "    y = data_matrix[:, 0]\n",
    "\n",
    "    # Select data for Z [N x L]\n",
    "    Z = data_matrix[:, [1, 5, 6, 7, 8]]\n",
    "\n",
    "    # Calculate representative utility of air conditioning [N x 1]\n",
    "    utility = np.dot(X, params)\n",
    "    # Calculate logit choice probability of air conditioning [N x 1]\n",
    "    prob = 1 / (1 + np.exp(-utility))\n",
    "    # Calculate econometric residuals [N x 1]\n",
    "    residuals = y - prob\n",
    "    # Create moment matrix [N x L]\n",
    "    moments = np.multiply(residuals.reshape(-1, 1), Z)\n",
    "\n",
    "    return moments"
   ]
  },
  {
   "cell_type": "code",
   "execution_count": 49,
   "id": "71b545a0",
   "metadata": {},
   "outputs": [
    {
     "name": "stdout",
     "output_type": "stream",
     "text": [
      "[1.   2.44 0.   0.   1.  ]\n"
     ]
    }
   ],
   "source": [
    "print(gmm_data[0,[1,5,6,7,8]])"
   ]
  },
  {
   "cell_type": "code",
   "execution_count": 50,
   "id": "c8a224c1",
   "metadata": {},
   "outputs": [
    {
     "name": "stdout",
     "output_type": "stream",
     "text": [
      "Optimization terminated successfully.\n",
      "         Current function value: 27.831065\n",
      "         Iterations: 131\n",
      "         Function evaluations: 232\n"
     ]
    }
   ],
   "source": [
    "# Find the GMM estimator: first step\n",
    "initial_params5 = np.zeros(4)\n",
    "W_hat = np.eye(5)\n",
    "\n",
    "model_5 = minimize(gmm_obj, initial_params5, args=(gmm_fn, W_hat, gmm_data),\n",
    "                   method='Nelder-Mead', options={'disp': True, 'maxiter': 10000})"
   ]
  },
  {
   "cell_type": "code",
   "execution_count": 51,
   "id": "eebbca55",
   "metadata": {},
   "outputs": [
    {
     "name": "stdout",
     "output_type": "stream",
     "text": [
      "[ 0.03754504  0.16314731 -0.30445596  0.20318423]\n"
     ]
    }
   ],
   "source": [
    "print(model_5.x)"
   ]
  },
  {
   "cell_type": "code",
   "execution_count": 52,
   "id": "72493d4c",
   "metadata": {},
   "outputs": [
    {
     "name": "stdout",
     "output_type": "stream",
     "text": [
      "[[ 2.67234758e+03 -1.06594022e+03 -1.70708383e-01  3.02985147e+01\n",
      "  -2.02624614e+01]\n",
      " [-1.06594022e+03  4.26144242e+02 -2.52784924e-01 -1.38252210e+01\n",
      "   6.45421506e+00]\n",
      " [-1.70708383e-01 -2.52784924e-01  7.39379366e-01 -1.05033590e-01\n",
      "  -3.80540256e-01]\n",
      " [ 3.02985147e+01 -1.38252210e+01 -1.05033590e-01  5.01373604e+01\n",
      "  -3.04456878e+00]\n",
      " [-2.02624614e+01  6.45421506e+00 -3.80540256e-01 -3.04456878e+00\n",
      "   4.40020581e+01]]\n"
     ]
    }
   ],
   "source": [
    "# Two-step weighting matrix\n",
    "err2 = np.matrix(gmm_fn(model_5.x, gmm_data))\n",
    "S2_1 = np.dot(err2.T, err2) / gmm_data.shape[0]\n",
    "# Use the pseudo-inverse calculated by SVD because\n",
    "# VCV2 is ill-conditioned\n",
    "W_hat2_2 = lin.pinv(S2_1)\n",
    "W_hat2_2 = np.array(W_hat2_2)\n",
    "print(W_hat2_2)"
   ]
  },
  {
   "cell_type": "code",
   "execution_count": 53,
   "id": "992dbfe1",
   "metadata": {},
   "outputs": [
    {
     "name": "stdout",
     "output_type": "stream",
     "text": [
      "Optimization terminated successfully.\n",
      "         Current function value: 5.516457\n",
      "         Iterations: 231\n",
      "         Function evaluations: 384\n"
     ]
    }
   ],
   "source": [
    "# Find the GMM estimator\n",
    "model_52 = minimize(gmm_obj, model_5.x, args=(gmm_fn, W_hat2_2, gmm_data),\n",
    "                    method='Nelder-Mead', options={'disp': True, 'maxiter': 10000})"
   ]
  },
  {
   "cell_type": "code",
   "execution_count": 54,
   "id": "9854b0e0",
   "metadata": {},
   "outputs": [
    {
     "name": "stdout",
     "output_type": "stream",
     "text": [
      "       message: Optimization terminated successfully.\n",
      "       success: True\n",
      "        status: 0\n",
      "           fun: 5.51645710701726\n",
      "             x: [ 2.910e+00 -3.981e+00 -3.508e-01  1.502e-01]\n",
      "           nit: 231\n",
      "          nfev: 384\n",
      " final_simplex: (array([[ 2.910e+00, -3.981e+00, -3.508e-01,  1.502e-01],\n",
      "                       [ 2.910e+00, -3.981e+00, -3.508e-01,  1.502e-01],\n",
      "                       ...,\n",
      "                       [ 2.910e+00, -3.981e+00, -3.508e-01,  1.502e-01],\n",
      "                       [ 2.910e+00, -3.981e+00, -3.508e-01,  1.502e-01]]), array([ 5.516e+00,  5.516e+00,  5.516e+00,  5.516e+00,\n",
      "                        5.516e+00]))\n"
     ]
    }
   ],
   "source": [
    "# Show the results\n",
    "print(model_52)"
   ]
  },
  {
   "cell_type": "code",
   "execution_count": 55,
   "id": "805561c5",
   "metadata": {},
   "outputs": [
    {
     "name": "stdout",
     "output_type": "stream",
     "text": [
      "[ 2.90992003 -3.98133682 -0.35079736  0.1502019 ]\n"
     ]
    }
   ],
   "source": [
    "# Print coefficients\n",
    "print(model_52.x)"
   ]
  },
  {
   "cell_type": "code",
   "execution_count": 56,
   "id": "22a813c3",
   "metadata": {},
   "outputs": [],
   "source": [
    "### Gradient function\n",
    "def gmm_moments2(params):\n",
    "    # Select data for X [N x K]\n",
    "    X = gmm_data[:, 1:5]\n",
    "    # Select data for y [N x 1]\n",
    "    y = gmm_data[:, 0]\n",
    "    # Select data for Z [N x L]\n",
    "    Z = gmm_data[:, [1, 5, 6, 7, 8]]\n",
    "    \n",
    "    # (i).Calculate the difference in representative utility for each decision maker. [N x 1]\n",
    "    utility = np.dot(X, params)\n",
    "    # (ii).Calculate logit choice probability for each decision maker. [N x 1]\n",
    "    prob = 1 / (1 + np.exp(-utility))\n",
    "    # (iii).Calculate econometric residuals [N x 1]\n",
    "    residuals = y - prob\n",
    "    # (iv).Calculate each of the 4 moments for each decision maker.\n",
    "    moments = np.multiply(residuals.reshape(-1, 1), Z)\n",
    "    \n",
    "    ### average moments\n",
    "    moments = np.sum(moments, axis = 0)/gmm_data.shape[0]\n",
    "    \n",
    "    return moments\n"
   ]
  },
  {
   "cell_type": "code",
   "execution_count": 57,
   "id": "4b13797a",
   "metadata": {},
   "outputs": [
    {
     "name": "stdout",
     "output_type": "stream",
     "text": [
      "[ 8.01177074e-06 -6.79959552e-06 -2.33333467e-03  1.42662917e-04\n",
      " -7.50087575e-06]\n"
     ]
    }
   ],
   "source": [
    "print(gmm_moments2(model_52.x))"
   ]
  },
  {
   "cell_type": "code",
   "execution_count": 58,
   "id": "8146fc98",
   "metadata": {},
   "outputs": [
    {
     "name": "stdout",
     "output_type": "stream",
     "text": [
      "[[-1.93637556e-01 -7.21864167e-02 -1.98878031e+00 -2.60548483e+00]\n",
      " [-4.84481088e-01 -1.80805458e-01 -4.97366922e+00 -6.51601679e+00]\n",
      " [-2.36061353e-01 -8.22246356e-02 -2.77867923e+00 -3.13302401e+00]\n",
      " [-1.98028785e-02 -6.41556943e-03 -2.79050495e-01 -2.53054795e-01]\n",
      " [-2.22849860e-02 -8.59778172e-03 -2.38644441e-01 -4.05365175e-01]]\n"
     ]
    }
   ],
   "source": [
    "### G0\n",
    "x = np.array([model_52.x[0], model_52.x[1], model_52.x[2], model_52.x[3]],dtype=float)\n",
    "G0 = scipy.optimize.approx_fprime(x, gmm_moments2, epsilon=1.4901161193847656e-08)\n",
    "print(G0)"
   ]
  },
  {
   "cell_type": "code",
   "execution_count": 59,
   "id": "f0990d04",
   "metadata": {},
   "outputs": [
    {
     "name": "stdout",
     "output_type": "stream",
     "text": [
      "[[0.20970489 0.5259832  0.25945411 0.02231313 0.02304985]\n",
      " [0.5259832  1.32140202 0.65118365 0.05638621 0.05741262]\n",
      " [0.25945411 0.65118365 1.57867475 0.03156781 0.0419054 ]\n",
      " [0.02231313 0.05638621 0.03156781 0.02231313 0.00321318]\n",
      " [0.02304985 0.05741262 0.0419054  0.00321318 0.02304985]]\n"
     ]
    }
   ],
   "source": [
    "# Udpate S\n",
    "err2 = np.matrix(gmm_fn(model_52.x, gmm_data))\n",
    "S2_2 = np.dot(err2.T, err2) / gmm_data.shape[0]\n",
    "print(S2_2)"
   ]
  },
  {
   "cell_type": "code",
   "execution_count": 60,
   "id": "621b0031",
   "metadata": {},
   "outputs": [
    {
     "name": "stdout",
     "output_type": "stream",
     "text": [
      "[[ 1.45155450e+01 -2.99597978e+01 -4.45005426e-01  9.01967380e-02]\n",
      " [-2.99597978e+01  6.47825932e+01  8.98420558e-01 -2.51400067e-01]\n",
      " [-4.45005426e-01  8.98420558e-01  1.50711611e-02 -3.28514439e-03]\n",
      " [ 9.01967380e-02 -2.51400067e-01 -3.28514439e-03  2.75461786e-03]]\n"
     ]
    }
   ],
   "source": [
    "#### VCOV\n",
    "VCOV=np.dot(np.dot(G0.T, lin.pinv(S2_2)), G0)\n",
    "VCOV=lin.pinv(VCOV)/gmm_data.shape[0]\n",
    "print(VCOV)"
   ]
  },
  {
   "cell_type": "code",
   "execution_count": 61,
   "id": "c576a6d5",
   "metadata": {},
   "outputs": [
    {
     "name": "stdout",
     "output_type": "stream",
     "text": [
      "[ 2.90992003 -3.98133682 -0.35079736  0.1502019 ]\n",
      "[3.80992716 8.04876346 0.12276466 0.05248445]\n"
     ]
    }
   ],
   "source": [
    "### Point Estimates and Standard errors\n",
    "print(model_52.x)\n",
    "print(np.sqrt(np.diag(VCOV)))"
   ]
  },
  {
   "cell_type": "markdown",
   "id": "fdd60e2e",
   "metadata": {},
   "source": [
    "### Interpretation"
   ]
  },
  {
   "cell_type": "markdown",
   "id": "e58b4260",
   "metadata": {},
   "source": [
    "- 2.909 represents the effect of the constant term (alpha) in the utility equation for driving (Vnc), indicating the overall attractiveness of driving relative to taking the bus. The high standard error of 3.809 shows considerable uncertainty in this estimate.\n",
    "\n",
    "\n",
    "- -3.981 reflects the impact of driving costs (Cnc) in the utility equation for driving (Vnc). A 1 dollar increase in driving cost decreases utility by 3.981. The high standard error of 8.048 suggests significant uncertainty.\n",
    "\n",
    "\n",
    "- -0.350 represents the effect of driving time (Tnc) on the utility of driving (Vnc). Each additional minute of driving decreases utility by 0.350. The low standard error of 0.122 indicates low uncertainty.\n",
    "\n",
    "\n",
    "- 0.150 indicates the effect of bus travel time (Tnb) on the utility of taking the bus (Vnb). Each additional minute of bus travel increases utility by 0.150. The low standard error of 0.052 suggests low uncertainty."
   ]
  },
  {
   "cell_type": "code",
   "execution_count": 63,
   "id": "aa758ba4",
   "metadata": {},
   "outputs": [
    {
     "name": "stdout",
     "output_type": "stream",
     "text": [
      "[[0.00588846]]\n"
     ]
    }
   ],
   "source": [
    "# Compute the test statistic\n",
    "moments = np.sum(gmm_fn(model_52.x, gmm_data), axis = 0)/gmm_data.shape[0]\n",
    "j_test = np.dot(np.dot(moments.T, lin.pinv(S2_2)), moments)*gmm_data.shape[0]\n",
    "print(j_test)"
   ]
  },
  {
   "cell_type": "markdown",
   "id": "28f3485b",
   "metadata": {},
   "source": [
    "The model is tested for correct specification by conducting an overidentifying restrictions test. The results of this test, along with the critical value (95th percentile), are reported. \n",
    "\n",
    "This test helps ascertain whether the moment conditions used in the estimation are consistent with the data. If the test statistic exceeds the critical value, it indicates that the model may be misspecified, suggesting potential issues with the underlying assumptions or the model structure. Conversely, if the test statistic is below the critical value, it suggests that the model is correctly specified, providing more confidence in the estimated parameters."
   ]
  },
  {
   "cell_type": "code",
   "execution_count": 64,
   "id": "699639f2",
   "metadata": {},
   "outputs": [
    {
     "data": {
      "text/plain": [
       "3.841458820694124"
      ]
     },
     "execution_count": 64,
     "metadata": {},
     "output_type": "execute_result"
    }
   ],
   "source": [
    "# Degrees of freedom (L - K)\n",
    "from scipy.stats import chi2\n",
    "chi2.ppf(0.95, 1)"
   ]
  },
  {
   "cell_type": "code",
   "execution_count": 65,
   "id": "611c77e2",
   "metadata": {},
   "outputs": [
    {
     "name": "stdout",
     "output_type": "stream",
     "text": [
      "0.938833336107636\n"
     ]
    }
   ],
   "source": [
    "print(1 - chi2.cdf(np.array(j_test)[0][0], 1))"
   ]
  },
  {
   "cell_type": "markdown",
   "id": "8b38d7c9",
   "metadata": {},
   "source": [
    "After performing the ovidentifying restrictions test, we find that the test statistics <  critical value at 95th percentile.\n",
    "P-value > 0.05 which indicates that we fail to reject the null hypothesis. \n",
    "Hence, we reach the conclusion that out model is not overidentified, infact, it is correctly specified."
   ]
  }
 ],
 "metadata": {
  "kernelspec": {
   "display_name": "Python 3 (ipykernel)",
   "language": "python",
   "name": "python3"
  },
  "language_info": {
   "codemirror_mode": {
    "name": "ipython",
    "version": 3
   },
   "file_extension": ".py",
   "mimetype": "text/x-python",
   "name": "python",
   "nbconvert_exporter": "python",
   "pygments_lexer": "ipython3",
   "version": "3.11.5"
  }
 },
 "nbformat": 4,
 "nbformat_minor": 5
}
